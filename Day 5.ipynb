{
 "cells": [
  {
   "cell_type": "markdown",
   "metadata": {},
   "source": [
    "# Question 1"
   ]
  },
  {
   "cell_type": "code",
   "execution_count": 1,
   "metadata": {},
   "outputs": [
    {
     "name": "stdout",
     "output_type": "stream",
     "text": [
      "how many non-even prime numbers required? 20\n",
      "\n",
      "First 20 non-even prime natural numbers: \n",
      "\n",
      "3 5 7 11 13 17 19 23 29 31 37 41 43 47 53 59 61 67 71 73 "
     ]
    }
   ],
   "source": [
    "n = int(input(\"how many non-even prime numbers required? \"))\n",
    "numbers = range(1,n*10)\n",
    "prime_numbers = []\n",
    "for num in numbers:\n",
    "    if num>2 and len(prime_numbers) <= n-1:\n",
    "        for i in range(2,num):\n",
    "            if (num % i) == 0:\n",
    "                break\n",
    "        else:\n",
    "            prime_numbers.append(num)\n",
    "print(\"\\nFirst\",n,\"non-even prime natural numbers: \\n\")\n",
    "for x in prime_numbers:\n",
    "    print(x,end=\" \")"
   ]
  },
  {
   "cell_type": "markdown",
   "metadata": {},
   "source": [
    "# Question 2"
   ]
  },
  {
   "cell_type": "code",
   "execution_count": 7,
   "metadata": {},
   "outputs": [
    {
     "name": "stdout",
     "output_type": "stream",
     "text": [
      "# string:  my name is swapnil\n",
      "1.Function 'Capitalize':  My name is swapnil\n",
      "2.Function 'Count':  2\n",
      "3.Function 'find':  12\n",
      "4.Function 'index':  3\n",
      "5.Function 'upper':  MY NAME IS SWAPNIL\n",
      "6.Function 'lower':  my name is swapnil\n",
      "7.Function 'islower':  True\n",
      "8.Function 'isalpha':  False\n",
      "9.Function 'isdecimal':  False\n",
      "10.Function 'endswith':  False\n",
      "11.Function 'isalnum':  False\n",
      "12.Function 'isnumeric':  False\n",
      "13.Function 'isspace':  False\n",
      "14.Function 'istitle':  False\n",
      "15.Function 'len':  18\n"
     ]
    }
   ],
   "source": [
    "str = 'my name is swapnil'\n",
    "print(\"# string: \",str)\n",
    "\n",
    "print(\"1.Function 'Capitalize': \",str.capitalize())\n",
    "print(\"2.Function 'Count': \",str.count('a',0))\n",
    "print(\"3.Function 'find': \",str.find('w'))\n",
    "print(\"4.Function 'index': \",str.index('n',0))\n",
    "print(\"5.Function 'upper': \",str.upper())\n",
    "print(\"6.Function 'lower': \",str.lower())\n",
    "print(\"7.Function 'islower': \",str.islower())\n",
    "print(\"8.Function 'isalpha': \",str.isalpha())\n",
    "print(\"9.Function 'isdecimal': \",str.isdecimal())\n",
    "print(\"10.Function 'endswith': \",str.endswith('e',0))\n",
    "print(\"11.Function 'isalnum': \",str.isalnum())\n",
    "print(\"12.Function 'isnumeric': \",str.isnumeric())\n",
    "print(\"13.Function 'isspace': \",str.isspace())\n",
    "print(\"14.Function 'istitle': \",str.istitle())\n",
    "print(\"15.Function 'len': \",len(str))"
   ]
  },
  {
   "cell_type": "markdown",
   "metadata": {},
   "source": [
    "# Question 3"
   ]
  },
  {
   "cell_type": "code",
   "execution_count": 2,
   "metadata": {},
   "outputs": [
    {
     "name": "stdout",
     "output_type": "stream",
     "text": [
      "enter str: swapnil\n",
      "The string is Anagram\n",
      "The string is none of them\n"
     ]
    }
   ],
   "source": [
    "str1 = input('enter str: ')\n",
    "if(str1 == str1[::-1]):\n",
    "    print('The strings are Palindrome')\n",
    "else:\n",
    "    print('The string is Anagram')\n",
    "if(str1 != str1[::-1]):\n",
    "    print('The string is none of them')"
   ]
  },
  {
   "cell_type": "code",
   "execution_count": 4,
   "metadata": {},
   "outputs": [
    {
     "name": "stdout",
     "output_type": "stream",
     "text": [
      "enter str: dad\n",
      "The strings are Palindrome\n"
     ]
    }
   ],
   "source": [
    "str1 = input('enter str: ')\n",
    "if(str1 == str1[::-1]):\n",
    "    print('The strings are Palindrome')\n",
    "else:\n",
    "    print('The string is Anagram')\n",
    "if(str1 != str1[::-1]):\n",
    "    print('The string is none of them')"
   ]
  },
  {
   "cell_type": "markdown",
   "metadata": {},
   "source": [
    "# Question 4"
   ]
  },
  {
   "cell_type": "code",
   "execution_count": 8,
   "metadata": {},
   "outputs": [
    {
     "name": "stdout",
     "output_type": "stream",
     "text": [
      "After removing special characters\n",
      "Result: drdarshaningleaimltrainer\n"
     ]
    }
   ],
   "source": [
    "def remove_str(s):\n",
    "    characters_to_remove = \" .!@-\"\n",
    "    s1 = s\n",
    "    for char in characters_to_remove:\n",
    "        s1 = s1.lower().replace(char,\"\")\n",
    "    print(\"After removing special characters\")\n",
    "    print(\"Result:\",s1)\n",
    "remove_str(\"Dr. Darshan Ingle @AI-ML Trainer\")"
   ]
  }
 ],
 "metadata": {
  "kernelspec": {
   "display_name": "Python 3",
   "language": "python",
   "name": "python3"
  },
  "language_info": {
   "codemirror_mode": {
    "name": "ipython",
    "version": 3
   },
   "file_extension": ".py",
   "mimetype": "text/x-python",
   "name": "python",
   "nbconvert_exporter": "python",
   "pygments_lexer": "ipython3",
   "version": "3.7.6"
  }
 },
 "nbformat": 4,
 "nbformat_minor": 4
}
