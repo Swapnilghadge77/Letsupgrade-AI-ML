{
 "cells": [
  {
   "cell_type": "raw",
   "metadata": {},
   "source": [
    "pip install --upgrade pip"
   ]
  },
  {
   "cell_type": "raw",
   "metadata": {},
   "source": [
    "!pip install tweepy"
   ]
  },
  {
   "cell_type": "raw",
   "metadata": {},
   "source": [
    "!pip install openpyxl"
   ]
  },
  {
   "cell_type": "code",
   "execution_count": 1,
   "metadata": {},
   "outputs": [],
   "source": [
    "import numpy as np\n",
    "import pandas as pd\n",
    "import tweepy\n",
    "import json\n",
    "from tweepy import OAuthHandler"
   ]
  },
  {
   "cell_type": "code",
   "execution_count": 2,
   "metadata": {},
   "outputs": [],
   "source": [
    "consumer_key = \"S4yhPyPDK6fycyqaJa5N15jeW\"\n",
    "consumer_secret = \"pHbuGmOPvzbvQSEdhIHeYNlM0PzbG55a9DLycSl5WPwocLD66I\"\n",
    "access_token = \"3125826534-fMo3rnTAzECu3YQuNUeqkyIflGBXswR8FeuVtDf\"\n",
    "access_token_secret = \"5VXOe3KQBHSYymtGTRV0XmOFIzgARPE6f2ntNsUREFjhg\""
   ]
  },
  {
   "cell_type": "code",
   "execution_count": 3,
   "metadata": {},
   "outputs": [],
   "source": [
    "auth = tweepy.OAuthHandler( consumer_key , consumer_secret )\n",
    "auth.set_access_token( access_token , access_token_secret )\n",
    "api = tweepy.API(auth)"
   ]
  },
  {
   "cell_type": "code",
   "execution_count": 4,
   "metadata": {},
   "outputs": [],
   "source": [
    "query = \"RCB winning IPL\""
   ]
  },
  {
   "cell_type": "code",
   "execution_count": 5,
   "metadata": {},
   "outputs": [
    {
     "name": "stdout",
     "output_type": "stream",
     "text": [
      "Status(_api=<tweepy.api.API object at 0x000002366791FDC8>, _json={'created_at': 'Fri Jan 01 06:32:29 +0000 2021', 'id': 1344894243584688131, 'id_str': '1344894243584688131', 'full_text': '@StarSportsIndia INDIA WINNING T20 WC\\nRCB WILL WIN IPL TROPHY\\nROHIT GONNA SCORE TOO MANY DOUBLE CENTURIES', 'truncated': False, 'display_text_range': [17, 105], 'entities': {'hashtags': [], 'symbols': [], 'user_mentions': [{'screen_name': 'StarSportsIndia', 'name': 'Star Sports', 'id': 1026332905, 'id_str': '1026332905', 'indices': [0, 16]}], 'urls': []}, 'metadata': {'iso_language_code': 'en', 'result_type': 'recent'}, 'source': '<a href=\"http://twitter.com/download/android\" rel=\"nofollow\">Twitter for Android</a>', 'in_reply_to_status_id': 1344893602887995394, 'in_reply_to_status_id_str': '1344893602887995394', 'in_reply_to_user_id': 1026332905, 'in_reply_to_user_id_str': '1026332905', 'in_reply_to_screen_name': 'StarSportsIndia', 'user': {'id': 1333664472922161152, 'id_str': '1333664472922161152', 'name': 'Kriti Sharma', 'screen_name': 'Kriti_Sharma01', 'location': '', 'description': 'Animals empathizer | Ardent cricket fan | New here', 'url': None, 'entities': {'description': {'urls': []}}, 'protected': False, 'followers_count': 171, 'friends_count': 119, 'listed_count': 0, 'created_at': 'Tue Dec 01 06:49:38 +0000 2020', 'favourites_count': 211, 'utc_offset': None, 'time_zone': None, 'geo_enabled': False, 'verified': False, 'statuses_count': 85, 'lang': None, 'contributors_enabled': False, 'is_translator': False, 'is_translation_enabled': False, 'profile_background_color': 'F5F8FA', 'profile_background_image_url': None, 'profile_background_image_url_https': None, 'profile_background_tile': False, 'profile_image_url': 'http://pbs.twimg.com/profile_images/1340970085637259264/xXZb9EZV_normal.jpg', 'profile_image_url_https': 'https://pbs.twimg.com/profile_images/1340970085637259264/xXZb9EZV_normal.jpg', 'profile_banner_url': 'https://pbs.twimg.com/profile_banners/1333664472922161152/1609223846', 'profile_link_color': '1DA1F2', 'profile_sidebar_border_color': 'C0DEED', 'profile_sidebar_fill_color': 'DDEEF6', 'profile_text_color': '333333', 'profile_use_background_image': True, 'has_extended_profile': True, 'default_profile': True, 'default_profile_image': False, 'following': False, 'follow_request_sent': False, 'notifications': False, 'translator_type': 'none'}, 'geo': None, 'coordinates': None, 'place': None, 'contributors': None, 'is_quote_status': False, 'retweet_count': 0, 'favorite_count': 0, 'favorited': False, 'retweeted': False, 'lang': 'en'}, created_at=datetime.datetime(2021, 1, 1, 6, 32, 29), id=1344894243584688131, id_str='1344894243584688131', full_text='@StarSportsIndia INDIA WINNING T20 WC\\nRCB WILL WIN IPL TROPHY\\nROHIT GONNA SCORE TOO MANY DOUBLE CENTURIES', truncated=False, display_text_range=[17, 105], entities={'hashtags': [], 'symbols': [], 'user_mentions': [{'screen_name': 'StarSportsIndia', 'name': 'Star Sports', 'id': 1026332905, 'id_str': '1026332905', 'indices': [0, 16]}], 'urls': []}, metadata={'iso_language_code': 'en', 'result_type': 'recent'}, source='Twitter for Android', source_url='http://twitter.com/download/android', in_reply_to_status_id=1344893602887995394, in_reply_to_status_id_str='1344893602887995394', in_reply_to_user_id=1026332905, in_reply_to_user_id_str='1026332905', in_reply_to_screen_name='StarSportsIndia', author=User(_api=<tweepy.api.API object at 0x000002366791FDC8>, _json={'id': 1333664472922161152, 'id_str': '1333664472922161152', 'name': 'Kriti Sharma', 'screen_name': 'Kriti_Sharma01', 'location': '', 'description': 'Animals empathizer | Ardent cricket fan | New here', 'url': None, 'entities': {'description': {'urls': []}}, 'protected': False, 'followers_count': 171, 'friends_count': 119, 'listed_count': 0, 'created_at': 'Tue Dec 01 06:49:38 +0000 2020', 'favourites_count': 211, 'utc_offset': None, 'time_zone': None, 'geo_enabled': False, 'verified': False, 'statuses_count': 85, 'lang': None, 'contributors_enabled': False, 'is_translator': False, 'is_translation_enabled': False, 'profile_background_color': 'F5F8FA', 'profile_background_image_url': None, 'profile_background_image_url_https': None, 'profile_background_tile': False, 'profile_image_url': 'http://pbs.twimg.com/profile_images/1340970085637259264/xXZb9EZV_normal.jpg', 'profile_image_url_https': 'https://pbs.twimg.com/profile_images/1340970085637259264/xXZb9EZV_normal.jpg', 'profile_banner_url': 'https://pbs.twimg.com/profile_banners/1333664472922161152/1609223846', 'profile_link_color': '1DA1F2', 'profile_sidebar_border_color': 'C0DEED', 'profile_sidebar_fill_color': 'DDEEF6', 'profile_text_color': '333333', 'profile_use_background_image': True, 'has_extended_profile': True, 'default_profile': True, 'default_profile_image': False, 'following': False, 'follow_request_sent': False, 'notifications': False, 'translator_type': 'none'}, id=1333664472922161152, id_str='1333664472922161152', name='Kriti Sharma', screen_name='Kriti_Sharma01', location='', description='Animals empathizer | Ardent cricket fan | New here', url=None, entities={'description': {'urls': []}}, protected=False, followers_count=171, friends_count=119, listed_count=0, created_at=datetime.datetime(2020, 12, 1, 6, 49, 38), favourites_count=211, utc_offset=None, time_zone=None, geo_enabled=False, verified=False, statuses_count=85, lang=None, contributors_enabled=False, is_translator=False, is_translation_enabled=False, profile_background_color='F5F8FA', profile_background_image_url=None, profile_background_image_url_https=None, profile_background_tile=False, profile_image_url='http://pbs.twimg.com/profile_images/1340970085637259264/xXZb9EZV_normal.jpg', profile_image_url_https='https://pbs.twimg.com/profile_images/1340970085637259264/xXZb9EZV_normal.jpg', profile_banner_url='https://pbs.twimg.com/profile_banners/1333664472922161152/1609223846', profile_link_color='1DA1F2', profile_sidebar_border_color='C0DEED', profile_sidebar_fill_color='DDEEF6', profile_text_color='333333', profile_use_background_image=True, has_extended_profile=True, default_profile=True, default_profile_image=False, following=False, follow_request_sent=False, notifications=False, translator_type='none'), user=User(_api=<tweepy.api.API object at 0x000002366791FDC8>, _json={'id': 1333664472922161152, 'id_str': '1333664472922161152', 'name': 'Kriti Sharma', 'screen_name': 'Kriti_Sharma01', 'location': '', 'description': 'Animals empathizer | Ardent cricket fan | New here', 'url': None, 'entities': {'description': {'urls': []}}, 'protected': False, 'followers_count': 171, 'friends_count': 119, 'listed_count': 0, 'created_at': 'Tue Dec 01 06:49:38 +0000 2020', 'favourites_count': 211, 'utc_offset': None, 'time_zone': None, 'geo_enabled': False, 'verified': False, 'statuses_count': 85, 'lang': None, 'contributors_enabled': False, 'is_translator': False, 'is_translation_enabled': False, 'profile_background_color': 'F5F8FA', 'profile_background_image_url': None, 'profile_background_image_url_https': None, 'profile_background_tile': False, 'profile_image_url': 'http://pbs.twimg.com/profile_images/1340970085637259264/xXZb9EZV_normal.jpg', 'profile_image_url_https': 'https://pbs.twimg.com/profile_images/1340970085637259264/xXZb9EZV_normal.jpg', 'profile_banner_url': 'https://pbs.twimg.com/profile_banners/1333664472922161152/1609223846', 'profile_link_color': '1DA1F2', 'profile_sidebar_border_color': 'C0DEED', 'profile_sidebar_fill_color': 'DDEEF6', 'profile_text_color': '333333', 'profile_use_background_image': True, 'has_extended_profile': True, 'default_profile': True, 'default_profile_image': False, 'following': False, 'follow_request_sent': False, 'notifications': False, 'translator_type': 'none'}, id=1333664472922161152, id_str='1333664472922161152', name='Kriti Sharma', screen_name='Kriti_Sharma01', location='', description='Animals empathizer | Ardent cricket fan | New here', url=None, entities={'description': {'urls': []}}, protected=False, followers_count=171, friends_count=119, listed_count=0, created_at=datetime.datetime(2020, 12, 1, 6, 49, 38), favourites_count=211, utc_offset=None, time_zone=None, geo_enabled=False, verified=False, statuses_count=85, lang=None, contributors_enabled=False, is_translator=False, is_translation_enabled=False, profile_background_color='F5F8FA', profile_background_image_url=None, profile_background_image_url_https=None, profile_background_tile=False, profile_image_url='http://pbs.twimg.com/profile_images/1340970085637259264/xXZb9EZV_normal.jpg', profile_image_url_https='https://pbs.twimg.com/profile_images/1340970085637259264/xXZb9EZV_normal.jpg', profile_banner_url='https://pbs.twimg.com/profile_banners/1333664472922161152/1609223846', profile_link_color='1DA1F2', profile_sidebar_border_color='C0DEED', profile_sidebar_fill_color='DDEEF6', profile_text_color='333333', profile_use_background_image=True, has_extended_profile=True, default_profile=True, default_profile_image=False, following=False, follow_request_sent=False, notifications=False, translator_type='none'), geo=None, coordinates=None, place=None, contributors=None, is_quote_status=False, retweet_count=0, favorite_count=0, favorited=False, retweeted=False, lang='en') \n",
      "\n",
      ".......................\n",
      "\n",
      "Status(_api=<tweepy.api.API object at 0x000002366791FDC8>, _json={'created_at': 'Fri Jan 01 06:32:21 +0000 2021', 'id': 1344894212303515653, 'id_str': '1344894212303515653', 'full_text': '@ItsYashswiniR Want to see RCB @RCBTweets  winning the IPL title', 'truncated': False, 'display_text_range': [15, 64], 'entities': {'hashtags': [], 'symbols': [], 'user_mentions': [{'screen_name': 'ItsYashswiniR', 'name': 'Yashswini Rao', 'id': 1103247486682980352, 'id_str': '1103247486682980352', 'indices': [0, 14]}, {'screen_name': 'RCBTweets', 'name': 'Royal Challengers Bangalore', 'id': 70931004, 'id_str': '70931004', 'indices': [31, 41]}], 'urls': []}, 'metadata': {'iso_language_code': 'en', 'result_type': 'recent'}, 'source': '<a href=\"http://twitter.com/download/android\" rel=\"nofollow\">Twitter for Android</a>', 'in_reply_to_status_id': 1344874661981536256, 'in_reply_to_status_id_str': '1344874661981536256', 'in_reply_to_user_id': 1103247486682980352, 'in_reply_to_user_id_str': '1103247486682980352', 'in_reply_to_screen_name': 'ItsYashswiniR', 'user': {'id': 1344198420123189249, 'id_str': '1344198420123189249', 'name': 'Sandeep', 'screen_name': 'Sandeep__433', 'location': 'Hyderabad', 'description': 'Respected to Indian 🇳🇪🇳🇪 army 💂💂', 'url': None, 'entities': {'description': {'urls': []}}, 'protected': False, 'followers_count': 1, 'friends_count': 11, 'listed_count': 0, 'created_at': 'Wed Dec 30 08:27:46 +0000 2020', 'favourites_count': 89, 'utc_offset': None, 'time_zone': None, 'geo_enabled': False, 'verified': False, 'statuses_count': 14, 'lang': None, 'contributors_enabled': False, 'is_translator': False, 'is_translation_enabled': False, 'profile_background_color': 'F5F8FA', 'profile_background_image_url': None, 'profile_background_image_url_https': None, 'profile_background_tile': False, 'profile_image_url': 'http://pbs.twimg.com/profile_images/1344199687822163968/GQ5VfGoG_normal.jpg', 'profile_image_url_https': 'https://pbs.twimg.com/profile_images/1344199687822163968/GQ5VfGoG_normal.jpg', 'profile_banner_url': 'https://pbs.twimg.com/profile_banners/1344198420123189249/1609398611', 'profile_link_color': '1DA1F2', 'profile_sidebar_border_color': 'C0DEED', 'profile_sidebar_fill_color': 'DDEEF6', 'profile_text_color': '333333', 'profile_use_background_image': True, 'has_extended_profile': True, 'default_profile': True, 'default_profile_image': False, 'following': False, 'follow_request_sent': False, 'notifications': False, 'translator_type': 'none'}, 'geo': None, 'coordinates': None, 'place': None, 'contributors': None, 'is_quote_status': False, 'retweet_count': 0, 'favorite_count': 1, 'favorited': False, 'retweeted': False, 'lang': 'en'}, created_at=datetime.datetime(2021, 1, 1, 6, 32, 21), id=1344894212303515653, id_str='1344894212303515653', full_text='@ItsYashswiniR Want to see RCB @RCBTweets  winning the IPL title', truncated=False, display_text_range=[15, 64], entities={'hashtags': [], 'symbols': [], 'user_mentions': [{'screen_name': 'ItsYashswiniR', 'name': 'Yashswini Rao', 'id': 1103247486682980352, 'id_str': '1103247486682980352', 'indices': [0, 14]}, {'screen_name': 'RCBTweets', 'name': 'Royal Challengers Bangalore', 'id': 70931004, 'id_str': '70931004', 'indices': [31, 41]}], 'urls': []}, metadata={'iso_language_code': 'en', 'result_type': 'recent'}, source='Twitter for Android', source_url='http://twitter.com/download/android', in_reply_to_status_id=1344874661981536256, in_reply_to_status_id_str='1344874661981536256', in_reply_to_user_id=1103247486682980352, in_reply_to_user_id_str='1103247486682980352', in_reply_to_screen_name='ItsYashswiniR', author=User(_api=<tweepy.api.API object at 0x000002366791FDC8>, _json={'id': 1344198420123189249, 'id_str': '1344198420123189249', 'name': 'Sandeep', 'screen_name': 'Sandeep__433', 'location': 'Hyderabad', 'description': 'Respected to Indian 🇳🇪🇳🇪 army 💂💂', 'url': None, 'entities': {'description': {'urls': []}}, 'protected': False, 'followers_count': 1, 'friends_count': 11, 'listed_count': 0, 'created_at': 'Wed Dec 30 08:27:46 +0000 2020', 'favourites_count': 89, 'utc_offset': None, 'time_zone': None, 'geo_enabled': False, 'verified': False, 'statuses_count': 14, 'lang': None, 'contributors_enabled': False, 'is_translator': False, 'is_translation_enabled': False, 'profile_background_color': 'F5F8FA', 'profile_background_image_url': None, 'profile_background_image_url_https': None, 'profile_background_tile': False, 'profile_image_url': 'http://pbs.twimg.com/profile_images/1344199687822163968/GQ5VfGoG_normal.jpg', 'profile_image_url_https': 'https://pbs.twimg.com/profile_images/1344199687822163968/GQ5VfGoG_normal.jpg', 'profile_banner_url': 'https://pbs.twimg.com/profile_banners/1344198420123189249/1609398611', 'profile_link_color': '1DA1F2', 'profile_sidebar_border_color': 'C0DEED', 'profile_sidebar_fill_color': 'DDEEF6', 'profile_text_color': '333333', 'profile_use_background_image': True, 'has_extended_profile': True, 'default_profile': True, 'default_profile_image': False, 'following': False, 'follow_request_sent': False, 'notifications': False, 'translator_type': 'none'}, id=1344198420123189249, id_str='1344198420123189249', name='Sandeep', screen_name='Sandeep__433', location='Hyderabad', description='Respected to Indian 🇳🇪🇳🇪 army 💂💂', url=None, entities={'description': {'urls': []}}, protected=False, followers_count=1, friends_count=11, listed_count=0, created_at=datetime.datetime(2020, 12, 30, 8, 27, 46), favourites_count=89, utc_offset=None, time_zone=None, geo_enabled=False, verified=False, statuses_count=14, lang=None, contributors_enabled=False, is_translator=False, is_translation_enabled=False, profile_background_color='F5F8FA', profile_background_image_url=None, profile_background_image_url_https=None, profile_background_tile=False, profile_image_url='http://pbs.twimg.com/profile_images/1344199687822163968/GQ5VfGoG_normal.jpg', profile_image_url_https='https://pbs.twimg.com/profile_images/1344199687822163968/GQ5VfGoG_normal.jpg', profile_banner_url='https://pbs.twimg.com/profile_banners/1344198420123189249/1609398611', profile_link_color='1DA1F2', profile_sidebar_border_color='C0DEED', profile_sidebar_fill_color='DDEEF6', profile_text_color='333333', profile_use_background_image=True, has_extended_profile=True, default_profile=True, default_profile_image=False, following=False, follow_request_sent=False, notifications=False, translator_type='none'), user=User(_api=<tweepy.api.API object at 0x000002366791FDC8>, _json={'id': 1344198420123189249, 'id_str': '1344198420123189249', 'name': 'Sandeep', 'screen_name': 'Sandeep__433', 'location': 'Hyderabad', 'description': 'Respected to Indian 🇳🇪🇳🇪 army 💂💂', 'url': None, 'entities': {'description': {'urls': []}}, 'protected': False, 'followers_count': 1, 'friends_count': 11, 'listed_count': 0, 'created_at': 'Wed Dec 30 08:27:46 +0000 2020', 'favourites_count': 89, 'utc_offset': None, 'time_zone': None, 'geo_enabled': False, 'verified': False, 'statuses_count': 14, 'lang': None, 'contributors_enabled': False, 'is_translator': False, 'is_translation_enabled': False, 'profile_background_color': 'F5F8FA', 'profile_background_image_url': None, 'profile_background_image_url_https': None, 'profile_background_tile': False, 'profile_image_url': 'http://pbs.twimg.com/profile_images/1344199687822163968/GQ5VfGoG_normal.jpg', 'profile_image_url_https': 'https://pbs.twimg.com/profile_images/1344199687822163968/GQ5VfGoG_normal.jpg', 'profile_banner_url': 'https://pbs.twimg.com/profile_banners/1344198420123189249/1609398611', 'profile_link_color': '1DA1F2', 'profile_sidebar_border_color': 'C0DEED', 'profile_sidebar_fill_color': 'DDEEF6', 'profile_text_color': '333333', 'profile_use_background_image': True, 'has_extended_profile': True, 'default_profile': True, 'default_profile_image': False, 'following': False, 'follow_request_sent': False, 'notifications': False, 'translator_type': 'none'}, id=1344198420123189249, id_str='1344198420123189249', name='Sandeep', screen_name='Sandeep__433', location='Hyderabad', description='Respected to Indian 🇳🇪🇳🇪 army 💂💂', url=None, entities={'description': {'urls': []}}, protected=False, followers_count=1, friends_count=11, listed_count=0, created_at=datetime.datetime(2020, 12, 30, 8, 27, 46), favourites_count=89, utc_offset=None, time_zone=None, geo_enabled=False, verified=False, statuses_count=14, lang=None, contributors_enabled=False, is_translator=False, is_translation_enabled=False, profile_background_color='F5F8FA', profile_background_image_url=None, profile_background_image_url_https=None, profile_background_tile=False, profile_image_url='http://pbs.twimg.com/profile_images/1344199687822163968/GQ5VfGoG_normal.jpg', profile_image_url_https='https://pbs.twimg.com/profile_images/1344199687822163968/GQ5VfGoG_normal.jpg', profile_banner_url='https://pbs.twimg.com/profile_banners/1344198420123189249/1609398611', profile_link_color='1DA1F2', profile_sidebar_border_color='C0DEED', profile_sidebar_fill_color='DDEEF6', profile_text_color='333333', profile_use_background_image=True, has_extended_profile=True, default_profile=True, default_profile_image=False, following=False, follow_request_sent=False, notifications=False, translator_type='none'), geo=None, coordinates=None, place=None, contributors=None, is_quote_status=False, retweet_count=0, favorite_count=1, favorited=False, retweeted=False, lang='en') \n",
      "\n",
      ".......................\n",
      "\n",
      "Status(_api=<tweepy.api.API object at 0x000002366791FDC8>, _json={'created_at': 'Fri Jan 01 06:31:20 +0000 2021', 'id': 1344893956769816579, 'id_str': '1344893956769816579', 'full_text': '@StarSportsIndia Rcb winning an IPL trophy 😂', 'truncated': False, 'display_text_range': [17, 44], 'entities': {'hashtags': [], 'symbols': [], 'user_mentions': [{'screen_name': 'StarSportsIndia', 'name': 'Star Sports', 'id': 1026332905, 'id_str': '1026332905', 'indices': [0, 16]}], 'urls': []}, 'metadata': {'iso_language_code': 'en', 'result_type': 'recent'}, 'source': '<a href=\"https://mobile.twitter.com\" rel=\"nofollow\">Twitter Web App</a>', 'in_reply_to_status_id': 1344893602887995394, 'in_reply_to_status_id_str': '1344893602887995394', 'in_reply_to_user_id': 1026332905, 'in_reply_to_user_id_str': '1026332905', 'in_reply_to_screen_name': 'StarSportsIndia', 'user': {'id': 1037582055180103680, 'id_str': '1037582055180103680', 'name': 'R-O-H-I-T❣️', 'screen_name': 'Alokrout3580625', 'location': 'Chandabali, Bhadrak', 'description': 'An indian ......but love ENGLISH CRICKET more than their citizen does ....HUGE FAN of JASON ROY ....ROHIT SHARMA..JIMMY ANDERSON...FC BARCELONA ..LEO MESSI', 'url': None, 'entities': {'description': {'urls': []}}, 'protected': False, 'followers_count': 38, 'friends_count': 461, 'listed_count': 0, 'created_at': 'Thu Sep 06 06:03:34 +0000 2018', 'favourites_count': 8190, 'utc_offset': None, 'time_zone': None, 'geo_enabled': False, 'verified': False, 'statuses_count': 440, 'lang': None, 'contributors_enabled': False, 'is_translator': False, 'is_translation_enabled': False, 'profile_background_color': 'F5F8FA', 'profile_background_image_url': None, 'profile_background_image_url_https': None, 'profile_background_tile': False, 'profile_image_url': 'http://pbs.twimg.com/profile_images/1337340994505777154/zot5CzuX_normal.jpg', 'profile_image_url_https': 'https://pbs.twimg.com/profile_images/1337340994505777154/zot5CzuX_normal.jpg', 'profile_banner_url': 'https://pbs.twimg.com/profile_banners/1037582055180103680/1574280256', 'profile_link_color': '1DA1F2', 'profile_sidebar_border_color': 'C0DEED', 'profile_sidebar_fill_color': 'DDEEF6', 'profile_text_color': '333333', 'profile_use_background_image': True, 'has_extended_profile': True, 'default_profile': True, 'default_profile_image': False, 'following': False, 'follow_request_sent': False, 'notifications': False, 'translator_type': 'none'}, 'geo': None, 'coordinates': None, 'place': None, 'contributors': None, 'is_quote_status': False, 'retweet_count': 0, 'favorite_count': 0, 'favorited': False, 'retweeted': False, 'lang': 'en'}, created_at=datetime.datetime(2021, 1, 1, 6, 31, 20), id=1344893956769816579, id_str='1344893956769816579', full_text='@StarSportsIndia Rcb winning an IPL trophy 😂', truncated=False, display_text_range=[17, 44], entities={'hashtags': [], 'symbols': [], 'user_mentions': [{'screen_name': 'StarSportsIndia', 'name': 'Star Sports', 'id': 1026332905, 'id_str': '1026332905', 'indices': [0, 16]}], 'urls': []}, metadata={'iso_language_code': 'en', 'result_type': 'recent'}, source='Twitter Web App', source_url='https://mobile.twitter.com', in_reply_to_status_id=1344893602887995394, in_reply_to_status_id_str='1344893602887995394', in_reply_to_user_id=1026332905, in_reply_to_user_id_str='1026332905', in_reply_to_screen_name='StarSportsIndia', author=User(_api=<tweepy.api.API object at 0x000002366791FDC8>, _json={'id': 1037582055180103680, 'id_str': '1037582055180103680', 'name': 'R-O-H-I-T❣️', 'screen_name': 'Alokrout3580625', 'location': 'Chandabali, Bhadrak', 'description': 'An indian ......but love ENGLISH CRICKET more than their citizen does ....HUGE FAN of JASON ROY ....ROHIT SHARMA..JIMMY ANDERSON...FC BARCELONA ..LEO MESSI', 'url': None, 'entities': {'description': {'urls': []}}, 'protected': False, 'followers_count': 38, 'friends_count': 461, 'listed_count': 0, 'created_at': 'Thu Sep 06 06:03:34 +0000 2018', 'favourites_count': 8190, 'utc_offset': None, 'time_zone': None, 'geo_enabled': False, 'verified': False, 'statuses_count': 440, 'lang': None, 'contributors_enabled': False, 'is_translator': False, 'is_translation_enabled': False, 'profile_background_color': 'F5F8FA', 'profile_background_image_url': None, 'profile_background_image_url_https': None, 'profile_background_tile': False, 'profile_image_url': 'http://pbs.twimg.com/profile_images/1337340994505777154/zot5CzuX_normal.jpg', 'profile_image_url_https': 'https://pbs.twimg.com/profile_images/1337340994505777154/zot5CzuX_normal.jpg', 'profile_banner_url': 'https://pbs.twimg.com/profile_banners/1037582055180103680/1574280256', 'profile_link_color': '1DA1F2', 'profile_sidebar_border_color': 'C0DEED', 'profile_sidebar_fill_color': 'DDEEF6', 'profile_text_color': '333333', 'profile_use_background_image': True, 'has_extended_profile': True, 'default_profile': True, 'default_profile_image': False, 'following': False, 'follow_request_sent': False, 'notifications': False, 'translator_type': 'none'}, id=1037582055180103680, id_str='1037582055180103680', name='R-O-H-I-T❣️', screen_name='Alokrout3580625', location='Chandabali, Bhadrak', description='An indian ......but love ENGLISH CRICKET more than their citizen does ....HUGE FAN of JASON ROY ....ROHIT SHARMA..JIMMY ANDERSON...FC BARCELONA ..LEO MESSI', url=None, entities={'description': {'urls': []}}, protected=False, followers_count=38, friends_count=461, listed_count=0, created_at=datetime.datetime(2018, 9, 6, 6, 3, 34), favourites_count=8190, utc_offset=None, time_zone=None, geo_enabled=False, verified=False, statuses_count=440, lang=None, contributors_enabled=False, is_translator=False, is_translation_enabled=False, profile_background_color='F5F8FA', profile_background_image_url=None, profile_background_image_url_https=None, profile_background_tile=False, profile_image_url='http://pbs.twimg.com/profile_images/1337340994505777154/zot5CzuX_normal.jpg', profile_image_url_https='https://pbs.twimg.com/profile_images/1337340994505777154/zot5CzuX_normal.jpg', profile_banner_url='https://pbs.twimg.com/profile_banners/1037582055180103680/1574280256', profile_link_color='1DA1F2', profile_sidebar_border_color='C0DEED', profile_sidebar_fill_color='DDEEF6', profile_text_color='333333', profile_use_background_image=True, has_extended_profile=True, default_profile=True, default_profile_image=False, following=False, follow_request_sent=False, notifications=False, translator_type='none'), user=User(_api=<tweepy.api.API object at 0x000002366791FDC8>, _json={'id': 1037582055180103680, 'id_str': '1037582055180103680', 'name': 'R-O-H-I-T❣️', 'screen_name': 'Alokrout3580625', 'location': 'Chandabali, Bhadrak', 'description': 'An indian ......but love ENGLISH CRICKET more than their citizen does ....HUGE FAN of JASON ROY ....ROHIT SHARMA..JIMMY ANDERSON...FC BARCELONA ..LEO MESSI', 'url': None, 'entities': {'description': {'urls': []}}, 'protected': False, 'followers_count': 38, 'friends_count': 461, 'listed_count': 0, 'created_at': 'Thu Sep 06 06:03:34 +0000 2018', 'favourites_count': 8190, 'utc_offset': None, 'time_zone': None, 'geo_enabled': False, 'verified': False, 'statuses_count': 440, 'lang': None, 'contributors_enabled': False, 'is_translator': False, 'is_translation_enabled': False, 'profile_background_color': 'F5F8FA', 'profile_background_image_url': None, 'profile_background_image_url_https': None, 'profile_background_tile': False, 'profile_image_url': 'http://pbs.twimg.com/profile_images/1337340994505777154/zot5CzuX_normal.jpg', 'profile_image_url_https': 'https://pbs.twimg.com/profile_images/1337340994505777154/zot5CzuX_normal.jpg', 'profile_banner_url': 'https://pbs.twimg.com/profile_banners/1037582055180103680/1574280256', 'profile_link_color': '1DA1F2', 'profile_sidebar_border_color': 'C0DEED', 'profile_sidebar_fill_color': 'DDEEF6', 'profile_text_color': '333333', 'profile_use_background_image': True, 'has_extended_profile': True, 'default_profile': True, 'default_profile_image': False, 'following': False, 'follow_request_sent': False, 'notifications': False, 'translator_type': 'none'}, id=1037582055180103680, id_str='1037582055180103680', name='R-O-H-I-T❣️', screen_name='Alokrout3580625', location='Chandabali, Bhadrak', description='An indian ......but love ENGLISH CRICKET more than their citizen does ....HUGE FAN of JASON ROY ....ROHIT SHARMA..JIMMY ANDERSON...FC BARCELONA ..LEO MESSI', url=None, entities={'description': {'urls': []}}, protected=False, followers_count=38, friends_count=461, listed_count=0, created_at=datetime.datetime(2018, 9, 6, 6, 3, 34), favourites_count=8190, utc_offset=None, time_zone=None, geo_enabled=False, verified=False, statuses_count=440, lang=None, contributors_enabled=False, is_translator=False, is_translation_enabled=False, profile_background_color='F5F8FA', profile_background_image_url=None, profile_background_image_url_https=None, profile_background_tile=False, profile_image_url='http://pbs.twimg.com/profile_images/1337340994505777154/zot5CzuX_normal.jpg', profile_image_url_https='https://pbs.twimg.com/profile_images/1337340994505777154/zot5CzuX_normal.jpg', profile_banner_url='https://pbs.twimg.com/profile_banners/1037582055180103680/1574280256', profile_link_color='1DA1F2', profile_sidebar_border_color='C0DEED', profile_sidebar_fill_color='DDEEF6', profile_text_color='333333', profile_use_background_image=True, has_extended_profile=True, default_profile=True, default_profile_image=False, following=False, follow_request_sent=False, notifications=False, translator_type='none'), geo=None, coordinates=None, place=None, contributors=None, is_quote_status=False, retweet_count=0, favorite_count=0, favorited=False, retweeted=False, lang='en') \n",
      "\n",
      ".......................\n",
      "\n",
      "Status(_api=<tweepy.api.API object at 0x000002366791FDC8>, _json={'created_at': 'Fri Jan 01 05:41:21 +0000 2021', 'id': 1344881378546970624, 'id_str': '1344881378546970624', 'full_text': 'Rcb winning Ipl title this year🥳 https://t.co/KRbYBL5tik', 'truncated': False, 'display_text_range': [0, 32], 'entities': {'hashtags': [], 'symbols': [], 'user_mentions': [], 'urls': [{'url': 'https://t.co/KRbYBL5tik', 'expanded_url': 'https://twitter.com/ESPNcricinfo/status/1344864628640124930', 'display_url': 'twitter.com/ESPNcricinfo/s…', 'indices': [33, 56]}]}, 'metadata': {'iso_language_code': 'en', 'result_type': 'recent'}, 'source': '<a href=\"http://twitter.com/download/android\" rel=\"nofollow\">Twitter for Android</a>', 'in_reply_to_status_id': None, 'in_reply_to_status_id_str': None, 'in_reply_to_user_id': None, 'in_reply_to_user_id_str': None, 'in_reply_to_screen_name': None, 'user': {'id': 939769428719296512, 'id_str': '939769428719296512', 'name': 'crick_foot_lover', 'screen_name': 'strawhatvibss', 'location': '', 'description': 'Indian cricket team fan😇 |\\nman utd😍 |\\nRcbian😍😍 l\\nanime lover😍 |\\nffb | \\nlike merchant🤣|', 'url': None, 'entities': {'description': {'urls': []}}, 'protected': False, 'followers_count': 588, 'friends_count': 856, 'listed_count': 1, 'created_at': 'Sun Dec 10 08:11:06 +0000 2017', 'favourites_count': 63770, 'utc_offset': None, 'time_zone': None, 'geo_enabled': False, 'verified': False, 'statuses_count': 14880, 'lang': None, 'contributors_enabled': False, 'is_translator': False, 'is_translation_enabled': False, 'profile_background_color': 'F5F8FA', 'profile_background_image_url': None, 'profile_background_image_url_https': None, 'profile_background_tile': False, 'profile_image_url': 'http://pbs.twimg.com/profile_images/1332945537235116032/keuV0o5z_normal.jpg', 'profile_image_url_https': 'https://pbs.twimg.com/profile_images/1332945537235116032/keuV0o5z_normal.jpg', 'profile_banner_url': 'https://pbs.twimg.com/profile_banners/939769428719296512/1609125415', 'profile_link_color': '1DA1F2', 'profile_sidebar_border_color': 'C0DEED', 'profile_sidebar_fill_color': 'DDEEF6', 'profile_text_color': '333333', 'profile_use_background_image': True, 'has_extended_profile': True, 'default_profile': True, 'default_profile_image': False, 'following': False, 'follow_request_sent': False, 'notifications': False, 'translator_type': 'none'}, 'geo': None, 'coordinates': None, 'place': None, 'contributors': None, 'is_quote_status': True, 'quoted_status_id': 1344864628640124930, 'quoted_status_id_str': '1344864628640124930', 'quoted_status': {'created_at': 'Fri Jan 01 04:34:48 +0000 2021', 'id': 1344864628640124930, 'id_str': '1344864628640124930', 'full_text': 'Make a bold prediction for 2021 👇', 'truncated': False, 'display_text_range': [0, 33], 'entities': {'hashtags': [], 'symbols': [], 'user_mentions': [], 'urls': []}, 'metadata': {'iso_language_code': 'en', 'result_type': 'recent'}, 'source': '<a href=\"https://mobile.twitter.com\" rel=\"nofollow\">Twitter Web App</a>', 'in_reply_to_status_id': None, 'in_reply_to_status_id_str': None, 'in_reply_to_user_id': None, 'in_reply_to_user_id_str': None, 'in_reply_to_screen_name': None, 'user': {'id': 16542390, 'id_str': '16542390', 'name': 'ESPNcricinfo', 'screen_name': 'ESPNcricinfo', 'location': 'At the cricket, mainly', 'description': 'Watch highlights from the Australia-India series in the subcontinent!\\n\\n👉 https://t.co/gCXLpZHVKP', 'url': 'https://t.co/EyZFY87NyE', 'entities': {'url': {'urls': [{'url': 'https://t.co/EyZFY87NyE', 'expanded_url': 'http://es.pn/ci', 'display_url': 'es.pn/ci', 'indices': [0, 23]}]}, 'description': {'urls': [{'url': 'https://t.co/gCXLpZHVKP', 'expanded_url': 'http://es.pn/CI-HLs', 'display_url': 'es.pn/CI-HLs', 'indices': [73, 96]}]}}, 'protected': False, 'followers_count': 5952259, 'friends_count': 199, 'listed_count': 5668, 'created_at': 'Wed Oct 01 10:36:44 +0000 2008', 'favourites_count': 262, 'utc_offset': None, 'time_zone': None, 'geo_enabled': False, 'verified': True, 'statuses_count': 156255, 'lang': None, 'contributors_enabled': False, 'is_translator': False, 'is_translation_enabled': False, 'profile_background_color': 'E0E0E0', 'profile_background_image_url': 'http://abs.twimg.com/images/themes/theme2/bg.gif', 'profile_background_image_url_https': 'https://abs.twimg.com/images/themes/theme2/bg.gif', 'profile_background_tile': False, 'profile_image_url': 'http://pbs.twimg.com/profile_images/888015358958940165/SmaHw6Rj_normal.jpg', 'profile_image_url_https': 'https://pbs.twimg.com/profile_images/888015358958940165/SmaHw6Rj_normal.jpg', 'profile_banner_url': 'https://pbs.twimg.com/profile_banners/16542390/1608808824', 'profile_link_color': '1F98C7', 'profile_sidebar_border_color': 'FFFFFF', 'profile_sidebar_fill_color': 'DAECF4', 'profile_text_color': '663B12', 'profile_use_background_image': True, 'has_extended_profile': False, 'default_profile': False, 'default_profile_image': False, 'following': False, 'follow_request_sent': False, 'notifications': False, 'translator_type': 'none'}, 'geo': None, 'coordinates': None, 'place': None, 'contributors': None, 'is_quote_status': False, 'retweet_count': 30, 'favorite_count': 1540, 'favorited': False, 'retweeted': False, 'lang': 'en'}, 'retweet_count': 0, 'favorite_count': 1, 'favorited': False, 'retweeted': False, 'possibly_sensitive': False, 'lang': 'en'}, created_at=datetime.datetime(2021, 1, 1, 5, 41, 21), id=1344881378546970624, id_str='1344881378546970624', full_text='Rcb winning Ipl title this year🥳 https://t.co/KRbYBL5tik', truncated=False, display_text_range=[0, 32], entities={'hashtags': [], 'symbols': [], 'user_mentions': [], 'urls': [{'url': 'https://t.co/KRbYBL5tik', 'expanded_url': 'https://twitter.com/ESPNcricinfo/status/1344864628640124930', 'display_url': 'twitter.com/ESPNcricinfo/s…', 'indices': [33, 56]}]}, metadata={'iso_language_code': 'en', 'result_type': 'recent'}, source='Twitter for Android', source_url='http://twitter.com/download/android', in_reply_to_status_id=None, in_reply_to_status_id_str=None, in_reply_to_user_id=None, in_reply_to_user_id_str=None, in_reply_to_screen_name=None, author=User(_api=<tweepy.api.API object at 0x000002366791FDC8>, _json={'id': 939769428719296512, 'id_str': '939769428719296512', 'name': 'crick_foot_lover', 'screen_name': 'strawhatvibss', 'location': '', 'description': 'Indian cricket team fan😇 |\\nman utd😍 |\\nRcbian😍😍 l\\nanime lover😍 |\\nffb | \\nlike merchant🤣|', 'url': None, 'entities': {'description': {'urls': []}}, 'protected': False, 'followers_count': 588, 'friends_count': 856, 'listed_count': 1, 'created_at': 'Sun Dec 10 08:11:06 +0000 2017', 'favourites_count': 63770, 'utc_offset': None, 'time_zone': None, 'geo_enabled': False, 'verified': False, 'statuses_count': 14880, 'lang': None, 'contributors_enabled': False, 'is_translator': False, 'is_translation_enabled': False, 'profile_background_color': 'F5F8FA', 'profile_background_image_url': None, 'profile_background_image_url_https': None, 'profile_background_tile': False, 'profile_image_url': 'http://pbs.twimg.com/profile_images/1332945537235116032/keuV0o5z_normal.jpg', 'profile_image_url_https': 'https://pbs.twimg.com/profile_images/1332945537235116032/keuV0o5z_normal.jpg', 'profile_banner_url': 'https://pbs.twimg.com/profile_banners/939769428719296512/1609125415', 'profile_link_color': '1DA1F2', 'profile_sidebar_border_color': 'C0DEED', 'profile_sidebar_fill_color': 'DDEEF6', 'profile_text_color': '333333', 'profile_use_background_image': True, 'has_extended_profile': True, 'default_profile': True, 'default_profile_image': False, 'following': False, 'follow_request_sent': False, 'notifications': False, 'translator_type': 'none'}, id=939769428719296512, id_str='939769428719296512', name='crick_foot_lover', screen_name='strawhatvibss', location='', description='Indian cricket team fan😇 |\\nman utd😍 |\\nRcbian😍😍 l\\nanime lover😍 |\\nffb | \\nlike merchant🤣|', url=None, entities={'description': {'urls': []}}, protected=False, followers_count=588, friends_count=856, listed_count=1, created_at=datetime.datetime(2017, 12, 10, 8, 11, 6), favourites_count=63770, utc_offset=None, time_zone=None, geo_enabled=False, verified=False, statuses_count=14880, lang=None, contributors_enabled=False, is_translator=False, is_translation_enabled=False, profile_background_color='F5F8FA', profile_background_image_url=None, profile_background_image_url_https=None, profile_background_tile=False, profile_image_url='http://pbs.twimg.com/profile_images/1332945537235116032/keuV0o5z_normal.jpg', profile_image_url_https='https://pbs.twimg.com/profile_images/1332945537235116032/keuV0o5z_normal.jpg', profile_banner_url='https://pbs.twimg.com/profile_banners/939769428719296512/1609125415', profile_link_color='1DA1F2', profile_sidebar_border_color='C0DEED', profile_sidebar_fill_color='DDEEF6', profile_text_color='333333', profile_use_background_image=True, has_extended_profile=True, default_profile=True, default_profile_image=False, following=False, follow_request_sent=False, notifications=False, translator_type='none'), user=User(_api=<tweepy.api.API object at 0x000002366791FDC8>, _json={'id': 939769428719296512, 'id_str': '939769428719296512', 'name': 'crick_foot_lover', 'screen_name': 'strawhatvibss', 'location': '', 'description': 'Indian cricket team fan😇 |\\nman utd😍 |\\nRcbian😍😍 l\\nanime lover😍 |\\nffb | \\nlike merchant🤣|', 'url': None, 'entities': {'description': {'urls': []}}, 'protected': False, 'followers_count': 588, 'friends_count': 856, 'listed_count': 1, 'created_at': 'Sun Dec 10 08:11:06 +0000 2017', 'favourites_count': 63770, 'utc_offset': None, 'time_zone': None, 'geo_enabled': False, 'verified': False, 'statuses_count': 14880, 'lang': None, 'contributors_enabled': False, 'is_translator': False, 'is_translation_enabled': False, 'profile_background_color': 'F5F8FA', 'profile_background_image_url': None, 'profile_background_image_url_https': None, 'profile_background_tile': False, 'profile_image_url': 'http://pbs.twimg.com/profile_images/1332945537235116032/keuV0o5z_normal.jpg', 'profile_image_url_https': 'https://pbs.twimg.com/profile_images/1332945537235116032/keuV0o5z_normal.jpg', 'profile_banner_url': 'https://pbs.twimg.com/profile_banners/939769428719296512/1609125415', 'profile_link_color': '1DA1F2', 'profile_sidebar_border_color': 'C0DEED', 'profile_sidebar_fill_color': 'DDEEF6', 'profile_text_color': '333333', 'profile_use_background_image': True, 'has_extended_profile': True, 'default_profile': True, 'default_profile_image': False, 'following': False, 'follow_request_sent': False, 'notifications': False, 'translator_type': 'none'}, id=939769428719296512, id_str='939769428719296512', name='crick_foot_lover', screen_name='strawhatvibss', location='', description='Indian cricket team fan😇 |\\nman utd😍 |\\nRcbian😍😍 l\\nanime lover😍 |\\nffb | \\nlike merchant🤣|', url=None, entities={'description': {'urls': []}}, protected=False, followers_count=588, friends_count=856, listed_count=1, created_at=datetime.datetime(2017, 12, 10, 8, 11, 6), favourites_count=63770, utc_offset=None, time_zone=None, geo_enabled=False, verified=False, statuses_count=14880, lang=None, contributors_enabled=False, is_translator=False, is_translation_enabled=False, profile_background_color='F5F8FA', profile_background_image_url=None, profile_background_image_url_https=None, profile_background_tile=False, profile_image_url='http://pbs.twimg.com/profile_images/1332945537235116032/keuV0o5z_normal.jpg', profile_image_url_https='https://pbs.twimg.com/profile_images/1332945537235116032/keuV0o5z_normal.jpg', profile_banner_url='https://pbs.twimg.com/profile_banners/939769428719296512/1609125415', profile_link_color='1DA1F2', profile_sidebar_border_color='C0DEED', profile_sidebar_fill_color='DDEEF6', profile_text_color='333333', profile_use_background_image=True, has_extended_profile=True, default_profile=True, default_profile_image=False, following=False, follow_request_sent=False, notifications=False, translator_type='none'), geo=None, coordinates=None, place=None, contributors=None, is_quote_status=True, quoted_status_id=1344864628640124930, quoted_status_id_str='1344864628640124930', quoted_status=Status(_api=<tweepy.api.API object at 0x000002366791FDC8>, _json={'created_at': 'Fri Jan 01 04:34:48 +0000 2021', 'id': 1344864628640124930, 'id_str': '1344864628640124930', 'full_text': 'Make a bold prediction for 2021 👇', 'truncated': False, 'display_text_range': [0, 33], 'entities': {'hashtags': [], 'symbols': [], 'user_mentions': [], 'urls': []}, 'metadata': {'iso_language_code': 'en', 'result_type': 'recent'}, 'source': '<a href=\"https://mobile.twitter.com\" rel=\"nofollow\">Twitter Web App</a>', 'in_reply_to_status_id': None, 'in_reply_to_status_id_str': None, 'in_reply_to_user_id': None, 'in_reply_to_user_id_str': None, 'in_reply_to_screen_name': None, 'user': {'id': 16542390, 'id_str': '16542390', 'name': 'ESPNcricinfo', 'screen_name': 'ESPNcricinfo', 'location': 'At the cricket, mainly', 'description': 'Watch highlights from the Australia-India series in the subcontinent!\\n\\n👉 https://t.co/gCXLpZHVKP', 'url': 'https://t.co/EyZFY87NyE', 'entities': {'url': {'urls': [{'url': 'https://t.co/EyZFY87NyE', 'expanded_url': 'http://es.pn/ci', 'display_url': 'es.pn/ci', 'indices': [0, 23]}]}, 'description': {'urls': [{'url': 'https://t.co/gCXLpZHVKP', 'expanded_url': 'http://es.pn/CI-HLs', 'display_url': 'es.pn/CI-HLs', 'indices': [73, 96]}]}}, 'protected': False, 'followers_count': 5952259, 'friends_count': 199, 'listed_count': 5668, 'created_at': 'Wed Oct 01 10:36:44 +0000 2008', 'favourites_count': 262, 'utc_offset': None, 'time_zone': None, 'geo_enabled': False, 'verified': True, 'statuses_count': 156255, 'lang': None, 'contributors_enabled': False, 'is_translator': False, 'is_translation_enabled': False, 'profile_background_color': 'E0E0E0', 'profile_background_image_url': 'http://abs.twimg.com/images/themes/theme2/bg.gif', 'profile_background_image_url_https': 'https://abs.twimg.com/images/themes/theme2/bg.gif', 'profile_background_tile': False, 'profile_image_url': 'http://pbs.twimg.com/profile_images/888015358958940165/SmaHw6Rj_normal.jpg', 'profile_image_url_https': 'https://pbs.twimg.com/profile_images/888015358958940165/SmaHw6Rj_normal.jpg', 'profile_banner_url': 'https://pbs.twimg.com/profile_banners/16542390/1608808824', 'profile_link_color': '1F98C7', 'profile_sidebar_border_color': 'FFFFFF', 'profile_sidebar_fill_color': 'DAECF4', 'profile_text_color': '663B12', 'profile_use_background_image': True, 'has_extended_profile': False, 'default_profile': False, 'default_profile_image': False, 'following': False, 'follow_request_sent': False, 'notifications': False, 'translator_type': 'none'}, 'geo': None, 'coordinates': None, 'place': None, 'contributors': None, 'is_quote_status': False, 'retweet_count': 30, 'favorite_count': 1540, 'favorited': False, 'retweeted': False, 'lang': 'en'}, created_at=datetime.datetime(2021, 1, 1, 4, 34, 48), id=1344864628640124930, id_str='1344864628640124930', full_text='Make a bold prediction for 2021 👇', truncated=False, display_text_range=[0, 33], entities={'hashtags': [], 'symbols': [], 'user_mentions': [], 'urls': []}, metadata={'iso_language_code': 'en', 'result_type': 'recent'}, source='Twitter Web App', source_url='https://mobile.twitter.com', in_reply_to_status_id=None, in_reply_to_status_id_str=None, in_reply_to_user_id=None, in_reply_to_user_id_str=None, in_reply_to_screen_name=None, author=User(_api=<tweepy.api.API object at 0x000002366791FDC8>, _json={'id': 16542390, 'id_str': '16542390', 'name': 'ESPNcricinfo', 'screen_name': 'ESPNcricinfo', 'location': 'At the cricket, mainly', 'description': 'Watch highlights from the Australia-India series in the subcontinent!\\n\\n👉 https://t.co/gCXLpZHVKP', 'url': 'https://t.co/EyZFY87NyE', 'entities': {'url': {'urls': [{'url': 'https://t.co/EyZFY87NyE', 'expanded_url': 'http://es.pn/ci', 'display_url': 'es.pn/ci', 'indices': [0, 23]}]}, 'description': {'urls': [{'url': 'https://t.co/gCXLpZHVKP', 'expanded_url': 'http://es.pn/CI-HLs', 'display_url': 'es.pn/CI-HLs', 'indices': [73, 96]}]}}, 'protected': False, 'followers_count': 5952259, 'friends_count': 199, 'listed_count': 5668, 'created_at': 'Wed Oct 01 10:36:44 +0000 2008', 'favourites_count': 262, 'utc_offset': None, 'time_zone': None, 'geo_enabled': False, 'verified': True, 'statuses_count': 156255, 'lang': None, 'contributors_enabled': False, 'is_translator': False, 'is_translation_enabled': False, 'profile_background_color': 'E0E0E0', 'profile_background_image_url': 'http://abs.twimg.com/images/themes/theme2/bg.gif', 'profile_background_image_url_https': 'https://abs.twimg.com/images/themes/theme2/bg.gif', 'profile_background_tile': False, 'profile_image_url': 'http://pbs.twimg.com/profile_images/888015358958940165/SmaHw6Rj_normal.jpg', 'profile_image_url_https': 'https://pbs.twimg.com/profile_images/888015358958940165/SmaHw6Rj_normal.jpg', 'profile_banner_url': 'https://pbs.twimg.com/profile_banners/16542390/1608808824', 'profile_link_color': '1F98C7', 'profile_sidebar_border_color': 'FFFFFF', 'profile_sidebar_fill_color': 'DAECF4', 'profile_text_color': '663B12', 'profile_use_background_image': True, 'has_extended_profile': False, 'default_profile': False, 'default_profile_image': False, 'following': False, 'follow_request_sent': False, 'notifications': False, 'translator_type': 'none'}, id=16542390, id_str='16542390', name='ESPNcricinfo', screen_name='ESPNcricinfo', location='At the cricket, mainly', description='Watch highlights from the Australia-India series in the subcontinent!\\n\\n👉 https://t.co/gCXLpZHVKP', url='https://t.co/EyZFY87NyE', entities={'url': {'urls': [{'url': 'https://t.co/EyZFY87NyE', 'expanded_url': 'http://es.pn/ci', 'display_url': 'es.pn/ci', 'indices': [0, 23]}]}, 'description': {'urls': [{'url': 'https://t.co/gCXLpZHVKP', 'expanded_url': 'http://es.pn/CI-HLs', 'display_url': 'es.pn/CI-HLs', 'indices': [73, 96]}]}}, protected=False, followers_count=5952259, friends_count=199, listed_count=5668, created_at=datetime.datetime(2008, 10, 1, 10, 36, 44), favourites_count=262, utc_offset=None, time_zone=None, geo_enabled=False, verified=True, statuses_count=156255, lang=None, contributors_enabled=False, is_translator=False, is_translation_enabled=False, profile_background_color='E0E0E0', profile_background_image_url='http://abs.twimg.com/images/themes/theme2/bg.gif', profile_background_image_url_https='https://abs.twimg.com/images/themes/theme2/bg.gif', profile_background_tile=False, profile_image_url='http://pbs.twimg.com/profile_images/888015358958940165/SmaHw6Rj_normal.jpg', profile_image_url_https='https://pbs.twimg.com/profile_images/888015358958940165/SmaHw6Rj_normal.jpg', profile_banner_url='https://pbs.twimg.com/profile_banners/16542390/1608808824', profile_link_color='1F98C7', profile_sidebar_border_color='FFFFFF', profile_sidebar_fill_color='DAECF4', profile_text_color='663B12', profile_use_background_image=True, has_extended_profile=False, default_profile=False, default_profile_image=False, following=False, follow_request_sent=False, notifications=False, translator_type='none'), user=User(_api=<tweepy.api.API object at 0x000002366791FDC8>, _json={'id': 16542390, 'id_str': '16542390', 'name': 'ESPNcricinfo', 'screen_name': 'ESPNcricinfo', 'location': 'At the cricket, mainly', 'description': 'Watch highlights from the Australia-India series in the subcontinent!\\n\\n👉 https://t.co/gCXLpZHVKP', 'url': 'https://t.co/EyZFY87NyE', 'entities': {'url': {'urls': [{'url': 'https://t.co/EyZFY87NyE', 'expanded_url': 'http://es.pn/ci', 'display_url': 'es.pn/ci', 'indices': [0, 23]}]}, 'description': {'urls': [{'url': 'https://t.co/gCXLpZHVKP', 'expanded_url': 'http://es.pn/CI-HLs', 'display_url': 'es.pn/CI-HLs', 'indices': [73, 96]}]}}, 'protected': False, 'followers_count': 5952259, 'friends_count': 199, 'listed_count': 5668, 'created_at': 'Wed Oct 01 10:36:44 +0000 2008', 'favourites_count': 262, 'utc_offset': None, 'time_zone': None, 'geo_enabled': False, 'verified': True, 'statuses_count': 156255, 'lang': None, 'contributors_enabled': False, 'is_translator': False, 'is_translation_enabled': False, 'profile_background_color': 'E0E0E0', 'profile_background_image_url': 'http://abs.twimg.com/images/themes/theme2/bg.gif', 'profile_background_image_url_https': 'https://abs.twimg.com/images/themes/theme2/bg.gif', 'profile_background_tile': False, 'profile_image_url': 'http://pbs.twimg.com/profile_images/888015358958940165/SmaHw6Rj_normal.jpg', 'profile_image_url_https': 'https://pbs.twimg.com/profile_images/888015358958940165/SmaHw6Rj_normal.jpg', 'profile_banner_url': 'https://pbs.twimg.com/profile_banners/16542390/1608808824', 'profile_link_color': '1F98C7', 'profile_sidebar_border_color': 'FFFFFF', 'profile_sidebar_fill_color': 'DAECF4', 'profile_text_color': '663B12', 'profile_use_background_image': True, 'has_extended_profile': False, 'default_profile': False, 'default_profile_image': False, 'following': False, 'follow_request_sent': False, 'notifications': False, 'translator_type': 'none'}, id=16542390, id_str='16542390', name='ESPNcricinfo', screen_name='ESPNcricinfo', location='At the cricket, mainly', description='Watch highlights from the Australia-India series in the subcontinent!\\n\\n👉 https://t.co/gCXLpZHVKP', url='https://t.co/EyZFY87NyE', entities={'url': {'urls': [{'url': 'https://t.co/EyZFY87NyE', 'expanded_url': 'http://es.pn/ci', 'display_url': 'es.pn/ci', 'indices': [0, 23]}]}, 'description': {'urls': [{'url': 'https://t.co/gCXLpZHVKP', 'expanded_url': 'http://es.pn/CI-HLs', 'display_url': 'es.pn/CI-HLs', 'indices': [73, 96]}]}}, protected=False, followers_count=5952259, friends_count=199, listed_count=5668, created_at=datetime.datetime(2008, 10, 1, 10, 36, 44), favourites_count=262, utc_offset=None, time_zone=None, geo_enabled=False, verified=True, statuses_count=156255, lang=None, contributors_enabled=False, is_translator=False, is_translation_enabled=False, profile_background_color='E0E0E0', profile_background_image_url='http://abs.twimg.com/images/themes/theme2/bg.gif', profile_background_image_url_https='https://abs.twimg.com/images/themes/theme2/bg.gif', profile_background_tile=False, profile_image_url='http://pbs.twimg.com/profile_images/888015358958940165/SmaHw6Rj_normal.jpg', profile_image_url_https='https://pbs.twimg.com/profile_images/888015358958940165/SmaHw6Rj_normal.jpg', profile_banner_url='https://pbs.twimg.com/profile_banners/16542390/1608808824', profile_link_color='1F98C7', profile_sidebar_border_color='FFFFFF', profile_sidebar_fill_color='DAECF4', profile_text_color='663B12', profile_use_background_image=True, has_extended_profile=False, default_profile=False, default_profile_image=False, following=False, follow_request_sent=False, notifications=False, translator_type='none'), geo=None, coordinates=None, place=None, contributors=None, is_quote_status=False, retweet_count=30, favorite_count=1540, favorited=False, retweeted=False, lang='en'), retweet_count=0, favorite_count=1, favorited=False, retweeted=False, possibly_sensitive=False, lang='en') \n",
      "\n",
      ".......................\n",
      "\n",
      "Status(_api=<tweepy.api.API object at 0x000002366791FDC8>, _json={'created_at': 'Fri Jan 01 05:33:33 +0000 2021', 'id': 1344879412659900416, 'id_str': '1344879412659900416', 'full_text': '@ESPNcricinfo RCB winning IPL 2021. @ESPNcricinfo quote this if you’ve have a better bold prediction!', 'truncated': False, 'display_text_range': [14, 101], 'entities': {'hashtags': [], 'symbols': [], 'user_mentions': [{'screen_name': 'ESPNcricinfo', 'name': 'ESPNcricinfo', 'id': 16542390, 'id_str': '16542390', 'indices': [0, 13]}, {'screen_name': 'ESPNcricinfo', 'name': 'ESPNcricinfo', 'id': 16542390, 'id_str': '16542390', 'indices': [36, 49]}], 'urls': []}, 'metadata': {'iso_language_code': 'en', 'result_type': 'recent'}, 'source': '<a href=\"http://twitter.com/download/iphone\" rel=\"nofollow\">Twitter for iPhone</a>', 'in_reply_to_status_id': 1344864628640124930, 'in_reply_to_status_id_str': '1344864628640124930', 'in_reply_to_user_id': 16542390, 'in_reply_to_user_id_str': '16542390', 'in_reply_to_screen_name': 'ESPNcricinfo', 'user': {'id': 2611296042, 'id_str': '2611296042', 'name': 'Frank', 'screen_name': 'FranklinnnMJ', 'location': 'Everywhere', 'description': '', 'url': None, 'entities': {'description': {'urls': []}}, 'protected': False, 'followers_count': 993, 'friends_count': 169, 'listed_count': 1, 'created_at': 'Tue Jul 08 08:47:33 +0000 2014', 'favourites_count': 6411, 'utc_offset': None, 'time_zone': None, 'geo_enabled': True, 'verified': False, 'statuses_count': 27471, 'lang': None, 'contributors_enabled': False, 'is_translator': False, 'is_translation_enabled': False, 'profile_background_color': 'C0DEED', 'profile_background_image_url': 'http://abs.twimg.com/images/themes/theme1/bg.png', 'profile_background_image_url_https': 'https://abs.twimg.com/images/themes/theme1/bg.png', 'profile_background_tile': False, 'profile_image_url': 'http://pbs.twimg.com/profile_images/1332584266186809346/VtKXNdMp_normal.jpg', 'profile_image_url_https': 'https://pbs.twimg.com/profile_images/1332584266186809346/VtKXNdMp_normal.jpg', 'profile_banner_url': 'https://pbs.twimg.com/profile_banners/2611296042/1607877608', 'profile_link_color': '1DA1F2', 'profile_sidebar_border_color': 'C0DEED', 'profile_sidebar_fill_color': 'DDEEF6', 'profile_text_color': '333333', 'profile_use_background_image': True, 'has_extended_profile': False, 'default_profile': True, 'default_profile_image': False, 'following': False, 'follow_request_sent': False, 'notifications': False, 'translator_type': 'none'}, 'geo': None, 'coordinates': None, 'place': None, 'contributors': None, 'is_quote_status': False, 'retweet_count': 0, 'favorite_count': 0, 'favorited': False, 'retweeted': False, 'lang': 'en'}, created_at=datetime.datetime(2021, 1, 1, 5, 33, 33), id=1344879412659900416, id_str='1344879412659900416', full_text='@ESPNcricinfo RCB winning IPL 2021. @ESPNcricinfo quote this if you’ve have a better bold prediction!', truncated=False, display_text_range=[14, 101], entities={'hashtags': [], 'symbols': [], 'user_mentions': [{'screen_name': 'ESPNcricinfo', 'name': 'ESPNcricinfo', 'id': 16542390, 'id_str': '16542390', 'indices': [0, 13]}, {'screen_name': 'ESPNcricinfo', 'name': 'ESPNcricinfo', 'id': 16542390, 'id_str': '16542390', 'indices': [36, 49]}], 'urls': []}, metadata={'iso_language_code': 'en', 'result_type': 'recent'}, source='Twitter for iPhone', source_url='http://twitter.com/download/iphone', in_reply_to_status_id=1344864628640124930, in_reply_to_status_id_str='1344864628640124930', in_reply_to_user_id=16542390, in_reply_to_user_id_str='16542390', in_reply_to_screen_name='ESPNcricinfo', author=User(_api=<tweepy.api.API object at 0x000002366791FDC8>, _json={'id': 2611296042, 'id_str': '2611296042', 'name': 'Frank', 'screen_name': 'FranklinnnMJ', 'location': 'Everywhere', 'description': '', 'url': None, 'entities': {'description': {'urls': []}}, 'protected': False, 'followers_count': 993, 'friends_count': 169, 'listed_count': 1, 'created_at': 'Tue Jul 08 08:47:33 +0000 2014', 'favourites_count': 6411, 'utc_offset': None, 'time_zone': None, 'geo_enabled': True, 'verified': False, 'statuses_count': 27471, 'lang': None, 'contributors_enabled': False, 'is_translator': False, 'is_translation_enabled': False, 'profile_background_color': 'C0DEED', 'profile_background_image_url': 'http://abs.twimg.com/images/themes/theme1/bg.png', 'profile_background_image_url_https': 'https://abs.twimg.com/images/themes/theme1/bg.png', 'profile_background_tile': False, 'profile_image_url': 'http://pbs.twimg.com/profile_images/1332584266186809346/VtKXNdMp_normal.jpg', 'profile_image_url_https': 'https://pbs.twimg.com/profile_images/1332584266186809346/VtKXNdMp_normal.jpg', 'profile_banner_url': 'https://pbs.twimg.com/profile_banners/2611296042/1607877608', 'profile_link_color': '1DA1F2', 'profile_sidebar_border_color': 'C0DEED', 'profile_sidebar_fill_color': 'DDEEF6', 'profile_text_color': '333333', 'profile_use_background_image': True, 'has_extended_profile': False, 'default_profile': True, 'default_profile_image': False, 'following': False, 'follow_request_sent': False, 'notifications': False, 'translator_type': 'none'}, id=2611296042, id_str='2611296042', name='Frank', screen_name='FranklinnnMJ', location='Everywhere', description='', url=None, entities={'description': {'urls': []}}, protected=False, followers_count=993, friends_count=169, listed_count=1, created_at=datetime.datetime(2014, 7, 8, 8, 47, 33), favourites_count=6411, utc_offset=None, time_zone=None, geo_enabled=True, verified=False, statuses_count=27471, lang=None, contributors_enabled=False, is_translator=False, is_translation_enabled=False, profile_background_color='C0DEED', profile_background_image_url='http://abs.twimg.com/images/themes/theme1/bg.png', profile_background_image_url_https='https://abs.twimg.com/images/themes/theme1/bg.png', profile_background_tile=False, profile_image_url='http://pbs.twimg.com/profile_images/1332584266186809346/VtKXNdMp_normal.jpg', profile_image_url_https='https://pbs.twimg.com/profile_images/1332584266186809346/VtKXNdMp_normal.jpg', profile_banner_url='https://pbs.twimg.com/profile_banners/2611296042/1607877608', profile_link_color='1DA1F2', profile_sidebar_border_color='C0DEED', profile_sidebar_fill_color='DDEEF6', profile_text_color='333333', profile_use_background_image=True, has_extended_profile=False, default_profile=True, default_profile_image=False, following=False, follow_request_sent=False, notifications=False, translator_type='none'), user=User(_api=<tweepy.api.API object at 0x000002366791FDC8>, _json={'id': 2611296042, 'id_str': '2611296042', 'name': 'Frank', 'screen_name': 'FranklinnnMJ', 'location': 'Everywhere', 'description': '', 'url': None, 'entities': {'description': {'urls': []}}, 'protected': False, 'followers_count': 993, 'friends_count': 169, 'listed_count': 1, 'created_at': 'Tue Jul 08 08:47:33 +0000 2014', 'favourites_count': 6411, 'utc_offset': None, 'time_zone': None, 'geo_enabled': True, 'verified': False, 'statuses_count': 27471, 'lang': None, 'contributors_enabled': False, 'is_translator': False, 'is_translation_enabled': False, 'profile_background_color': 'C0DEED', 'profile_background_image_url': 'http://abs.twimg.com/images/themes/theme1/bg.png', 'profile_background_image_url_https': 'https://abs.twimg.com/images/themes/theme1/bg.png', 'profile_background_tile': False, 'profile_image_url': 'http://pbs.twimg.com/profile_images/1332584266186809346/VtKXNdMp_normal.jpg', 'profile_image_url_https': 'https://pbs.twimg.com/profile_images/1332584266186809346/VtKXNdMp_normal.jpg', 'profile_banner_url': 'https://pbs.twimg.com/profile_banners/2611296042/1607877608', 'profile_link_color': '1DA1F2', 'profile_sidebar_border_color': 'C0DEED', 'profile_sidebar_fill_color': 'DDEEF6', 'profile_text_color': '333333', 'profile_use_background_image': True, 'has_extended_profile': False, 'default_profile': True, 'default_profile_image': False, 'following': False, 'follow_request_sent': False, 'notifications': False, 'translator_type': 'none'}, id=2611296042, id_str='2611296042', name='Frank', screen_name='FranklinnnMJ', location='Everywhere', description='', url=None, entities={'description': {'urls': []}}, protected=False, followers_count=993, friends_count=169, listed_count=1, created_at=datetime.datetime(2014, 7, 8, 8, 47, 33), favourites_count=6411, utc_offset=None, time_zone=None, geo_enabled=True, verified=False, statuses_count=27471, lang=None, contributors_enabled=False, is_translator=False, is_translation_enabled=False, profile_background_color='C0DEED', profile_background_image_url='http://abs.twimg.com/images/themes/theme1/bg.png', profile_background_image_url_https='https://abs.twimg.com/images/themes/theme1/bg.png', profile_background_tile=False, profile_image_url='http://pbs.twimg.com/profile_images/1332584266186809346/VtKXNdMp_normal.jpg', profile_image_url_https='https://pbs.twimg.com/profile_images/1332584266186809346/VtKXNdMp_normal.jpg', profile_banner_url='https://pbs.twimg.com/profile_banners/2611296042/1607877608', profile_link_color='1DA1F2', profile_sidebar_border_color='C0DEED', profile_sidebar_fill_color='DDEEF6', profile_text_color='333333', profile_use_background_image=True, has_extended_profile=False, default_profile=True, default_profile_image=False, following=False, follow_request_sent=False, notifications=False, translator_type='none'), geo=None, coordinates=None, place=None, contributors=None, is_quote_status=False, retweet_count=0, favorite_count=0, favorited=False, retweeted=False, lang='en') \n",
      "\n",
      ".......................\n",
      "\n",
      "Status(_api=<tweepy.api.API object at 0x000002366791FDC8>, _json={'created_at': 'Fri Jan 01 05:24:33 +0000 2021', 'id': 1344877147635163136, 'id_str': '1344877147635163136', 'full_text': '@ItsYashswiniR RCB WINNING IPL TITLE.♥️🥺', 'truncated': False, 'display_text_range': [15, 40], 'entities': {'hashtags': [], 'symbols': [], 'user_mentions': [{'screen_name': 'ItsYashswiniR', 'name': 'Yashswini Rao', 'id': 1103247486682980352, 'id_str': '1103247486682980352', 'indices': [0, 14]}], 'urls': []}, 'metadata': {'iso_language_code': 'en', 'result_type': 'recent'}, 'source': '<a href=\"http://twitter.com/download/android\" rel=\"nofollow\">Twitter for Android</a>', 'in_reply_to_status_id': 1344874661981536256, 'in_reply_to_status_id_str': '1344874661981536256', 'in_reply_to_user_id': 1103247486682980352, 'in_reply_to_user_id_str': '1103247486682980352', 'in_reply_to_screen_name': 'ItsYashswiniR', 'user': {'id': 806879913877864449, 'id_str': '806879913877864449', 'name': '𝚈öù', 'screen_name': 'RamosVirat', 'location': 'Dead End', 'description': 'RCBIAN!!', 'url': None, 'entities': {'description': {'urls': []}}, 'protected': False, 'followers_count': 1043, 'friends_count': 266, 'listed_count': 0, 'created_at': 'Thu Dec 08 15:15:37 +0000 2016', 'favourites_count': 149489, 'utc_offset': None, 'time_zone': None, 'geo_enabled': False, 'verified': False, 'statuses_count': 15035, 'lang': None, 'contributors_enabled': False, 'is_translator': False, 'is_translation_enabled': False, 'profile_background_color': 'F5F8FA', 'profile_background_image_url': None, 'profile_background_image_url_https': None, 'profile_background_tile': False, 'profile_image_url': 'http://pbs.twimg.com/profile_images/1344869687276888064/ZSDLLaNi_normal.jpg', 'profile_image_url_https': 'https://pbs.twimg.com/profile_images/1344869687276888064/ZSDLLaNi_normal.jpg', 'profile_banner_url': 'https://pbs.twimg.com/profile_banners/806879913877864449/1609429135', 'profile_link_color': '1DA1F2', 'profile_sidebar_border_color': 'C0DEED', 'profile_sidebar_fill_color': 'DDEEF6', 'profile_text_color': '333333', 'profile_use_background_image': True, 'has_extended_profile': True, 'default_profile': True, 'default_profile_image': False, 'following': False, 'follow_request_sent': False, 'notifications': False, 'translator_type': 'none'}, 'geo': None, 'coordinates': None, 'place': None, 'contributors': None, 'is_quote_status': False, 'retweet_count': 0, 'favorite_count': 2, 'favorited': False, 'retweeted': False, 'lang': 'en'}, created_at=datetime.datetime(2021, 1, 1, 5, 24, 33), id=1344877147635163136, id_str='1344877147635163136', full_text='@ItsYashswiniR RCB WINNING IPL TITLE.♥️🥺', truncated=False, display_text_range=[15, 40], entities={'hashtags': [], 'symbols': [], 'user_mentions': [{'screen_name': 'ItsYashswiniR', 'name': 'Yashswini Rao', 'id': 1103247486682980352, 'id_str': '1103247486682980352', 'indices': [0, 14]}], 'urls': []}, metadata={'iso_language_code': 'en', 'result_type': 'recent'}, source='Twitter for Android', source_url='http://twitter.com/download/android', in_reply_to_status_id=1344874661981536256, in_reply_to_status_id_str='1344874661981536256', in_reply_to_user_id=1103247486682980352, in_reply_to_user_id_str='1103247486682980352', in_reply_to_screen_name='ItsYashswiniR', author=User(_api=<tweepy.api.API object at 0x000002366791FDC8>, _json={'id': 806879913877864449, 'id_str': '806879913877864449', 'name': '𝚈öù', 'screen_name': 'RamosVirat', 'location': 'Dead End', 'description': 'RCBIAN!!', 'url': None, 'entities': {'description': {'urls': []}}, 'protected': False, 'followers_count': 1043, 'friends_count': 266, 'listed_count': 0, 'created_at': 'Thu Dec 08 15:15:37 +0000 2016', 'favourites_count': 149489, 'utc_offset': None, 'time_zone': None, 'geo_enabled': False, 'verified': False, 'statuses_count': 15035, 'lang': None, 'contributors_enabled': False, 'is_translator': False, 'is_translation_enabled': False, 'profile_background_color': 'F5F8FA', 'profile_background_image_url': None, 'profile_background_image_url_https': None, 'profile_background_tile': False, 'profile_image_url': 'http://pbs.twimg.com/profile_images/1344869687276888064/ZSDLLaNi_normal.jpg', 'profile_image_url_https': 'https://pbs.twimg.com/profile_images/1344869687276888064/ZSDLLaNi_normal.jpg', 'profile_banner_url': 'https://pbs.twimg.com/profile_banners/806879913877864449/1609429135', 'profile_link_color': '1DA1F2', 'profile_sidebar_border_color': 'C0DEED', 'profile_sidebar_fill_color': 'DDEEF6', 'profile_text_color': '333333', 'profile_use_background_image': True, 'has_extended_profile': True, 'default_profile': True, 'default_profile_image': False, 'following': False, 'follow_request_sent': False, 'notifications': False, 'translator_type': 'none'}, id=806879913877864449, id_str='806879913877864449', name='𝚈öù', screen_name='RamosVirat', location='Dead End', description='RCBIAN!!', url=None, entities={'description': {'urls': []}}, protected=False, followers_count=1043, friends_count=266, listed_count=0, created_at=datetime.datetime(2016, 12, 8, 15, 15, 37), favourites_count=149489, utc_offset=None, time_zone=None, geo_enabled=False, verified=False, statuses_count=15035, lang=None, contributors_enabled=False, is_translator=False, is_translation_enabled=False, profile_background_color='F5F8FA', profile_background_image_url=None, profile_background_image_url_https=None, profile_background_tile=False, profile_image_url='http://pbs.twimg.com/profile_images/1344869687276888064/ZSDLLaNi_normal.jpg', profile_image_url_https='https://pbs.twimg.com/profile_images/1344869687276888064/ZSDLLaNi_normal.jpg', profile_banner_url='https://pbs.twimg.com/profile_banners/806879913877864449/1609429135', profile_link_color='1DA1F2', profile_sidebar_border_color='C0DEED', profile_sidebar_fill_color='DDEEF6', profile_text_color='333333', profile_use_background_image=True, has_extended_profile=True, default_profile=True, default_profile_image=False, following=False, follow_request_sent=False, notifications=False, translator_type='none'), user=User(_api=<tweepy.api.API object at 0x000002366791FDC8>, _json={'id': 806879913877864449, 'id_str': '806879913877864449', 'name': '𝚈öù', 'screen_name': 'RamosVirat', 'location': 'Dead End', 'description': 'RCBIAN!!', 'url': None, 'entities': {'description': {'urls': []}}, 'protected': False, 'followers_count': 1043, 'friends_count': 266, 'listed_count': 0, 'created_at': 'Thu Dec 08 15:15:37 +0000 2016', 'favourites_count': 149489, 'utc_offset': None, 'time_zone': None, 'geo_enabled': False, 'verified': False, 'statuses_count': 15035, 'lang': None, 'contributors_enabled': False, 'is_translator': False, 'is_translation_enabled': False, 'profile_background_color': 'F5F8FA', 'profile_background_image_url': None, 'profile_background_image_url_https': None, 'profile_background_tile': False, 'profile_image_url': 'http://pbs.twimg.com/profile_images/1344869687276888064/ZSDLLaNi_normal.jpg', 'profile_image_url_https': 'https://pbs.twimg.com/profile_images/1344869687276888064/ZSDLLaNi_normal.jpg', 'profile_banner_url': 'https://pbs.twimg.com/profile_banners/806879913877864449/1609429135', 'profile_link_color': '1DA1F2', 'profile_sidebar_border_color': 'C0DEED', 'profile_sidebar_fill_color': 'DDEEF6', 'profile_text_color': '333333', 'profile_use_background_image': True, 'has_extended_profile': True, 'default_profile': True, 'default_profile_image': False, 'following': False, 'follow_request_sent': False, 'notifications': False, 'translator_type': 'none'}, id=806879913877864449, id_str='806879913877864449', name='𝚈öù', screen_name='RamosVirat', location='Dead End', description='RCBIAN!!', url=None, entities={'description': {'urls': []}}, protected=False, followers_count=1043, friends_count=266, listed_count=0, created_at=datetime.datetime(2016, 12, 8, 15, 15, 37), favourites_count=149489, utc_offset=None, time_zone=None, geo_enabled=False, verified=False, statuses_count=15035, lang=None, contributors_enabled=False, is_translator=False, is_translation_enabled=False, profile_background_color='F5F8FA', profile_background_image_url=None, profile_background_image_url_https=None, profile_background_tile=False, profile_image_url='http://pbs.twimg.com/profile_images/1344869687276888064/ZSDLLaNi_normal.jpg', profile_image_url_https='https://pbs.twimg.com/profile_images/1344869687276888064/ZSDLLaNi_normal.jpg', profile_banner_url='https://pbs.twimg.com/profile_banners/806879913877864449/1609429135', profile_link_color='1DA1F2', profile_sidebar_border_color='C0DEED', profile_sidebar_fill_color='DDEEF6', profile_text_color='333333', profile_use_background_image=True, has_extended_profile=True, default_profile=True, default_profile_image=False, following=False, follow_request_sent=False, notifications=False, translator_type='none'), geo=None, coordinates=None, place=None, contributors=None, is_quote_status=False, retweet_count=0, favorite_count=2, favorited=False, retweeted=False, lang='en') \n",
      "\n",
      ".......................\n",
      "\n",
      "Status(_api=<tweepy.api.API object at 0x000002366791FDC8>, _json={'created_at': 'Fri Jan 01 05:10:47 +0000 2021', 'id': 1344873683051941888, 'id_str': '1344873683051941888', 'full_text': \"RCB finally winning IPL\\n- Don't think it can get any bolder than this...\\n\\n#IPL #Cricket https://t.co/uOzDJaY4q9\", 'truncated': False, 'display_text_range': [0, 87], 'entities': {'hashtags': [{'text': 'IPL', 'indices': [74, 78]}, {'text': 'Cricket', 'indices': [79, 87]}], 'symbols': [], 'user_mentions': [], 'urls': [{'url': 'https://t.co/uOzDJaY4q9', 'expanded_url': 'https://twitter.com/ESPNcricinfo/status/1344864628640124930', 'display_url': 'twitter.com/ESPNcricinfo/s…', 'indices': [88, 111]}]}, 'metadata': {'iso_language_code': 'en', 'result_type': 'recent'}, 'source': '<a href=\"http://twitter.com/download/android\" rel=\"nofollow\">Twitter for Android</a>', 'in_reply_to_status_id': None, 'in_reply_to_status_id_str': None, 'in_reply_to_user_id': None, 'in_reply_to_user_id_str': None, 'in_reply_to_screen_name': None, 'user': {'id': 4618875377, 'id_str': '4618875377', 'name': 'Hemant Kumar', 'screen_name': 'SportsCuppa', 'location': '', 'description': '19    YouTuber • Chelsea 💙 • Sports ❤️\\n\\n\\n\\n\\n\\n\\n\\n\\n\\n\\n\\n\\n\\n\\n\\n\\n\\n\\n\\n\\n\\n\\n\\n\\n\\n\\n\\n\\n\\n\\n\\n\\n\\n\\n\\n\\n\\n\\n\\n\\n\\n\\n\\n\\n\\n\\n\\n\\n\\n\\n\\n\\n\\n\\n\\n\\n\\n\\n\\n\\n\\n\\n\\n\\n\\n\\n\\n\\n\\n\\n\\n\\n\\n\\n\\n\\n\\n\\n\\n\\n\\n\\n\\n\\n\\n\\n\\n\\n\\n\\n\\n\\n\\n\\n\\n\\n\\n\\n\\n190+ Subscribers', 'url': 'https://t.co/4xWI7FcDw8', 'entities': {'url': {'urls': [{'url': 'https://t.co/4xWI7FcDw8', 'expanded_url': 'https://www.youtube.com/channel/UCibiZjBCHI4klakUIjRXdJA', 'display_url': 'youtube.com/channel/UCibiZ…', 'indices': [0, 23]}]}, 'description': {'urls': []}}, 'protected': False, 'followers_count': 247, 'friends_count': 307, 'listed_count': 16, 'created_at': 'Sun Dec 27 06:45:38 +0000 2015', 'favourites_count': 7170, 'utc_offset': None, 'time_zone': None, 'geo_enabled': False, 'verified': False, 'statuses_count': 5827, 'lang': None, 'contributors_enabled': False, 'is_translator': False, 'is_translation_enabled': False, 'profile_background_color': 'F5F8FA', 'profile_background_image_url': None, 'profile_background_image_url_https': None, 'profile_background_tile': False, 'profile_image_url': 'http://pbs.twimg.com/profile_images/1337675940516618240/-iXu6U9x_normal.jpg', 'profile_image_url_https': 'https://pbs.twimg.com/profile_images/1337675940516618240/-iXu6U9x_normal.jpg', 'profile_banner_url': 'https://pbs.twimg.com/profile_banners/4618875377/1608049325', 'profile_link_color': '1DA1F2', 'profile_sidebar_border_color': 'C0DEED', 'profile_sidebar_fill_color': 'DDEEF6', 'profile_text_color': '333333', 'profile_use_background_image': True, 'has_extended_profile': True, 'default_profile': True, 'default_profile_image': False, 'following': False, 'follow_request_sent': False, 'notifications': False, 'translator_type': 'none'}, 'geo': None, 'coordinates': None, 'place': None, 'contributors': None, 'is_quote_status': True, 'quoted_status_id': 1344864628640124930, 'quoted_status_id_str': '1344864628640124930', 'quoted_status': {'created_at': 'Fri Jan 01 04:34:48 +0000 2021', 'id': 1344864628640124930, 'id_str': '1344864628640124930', 'full_text': 'Make a bold prediction for 2021 👇', 'truncated': False, 'display_text_range': [0, 33], 'entities': {'hashtags': [], 'symbols': [], 'user_mentions': [], 'urls': []}, 'metadata': {'iso_language_code': 'en', 'result_type': 'recent'}, 'source': '<a href=\"https://mobile.twitter.com\" rel=\"nofollow\">Twitter Web App</a>', 'in_reply_to_status_id': None, 'in_reply_to_status_id_str': None, 'in_reply_to_user_id': None, 'in_reply_to_user_id_str': None, 'in_reply_to_screen_name': None, 'user': {'id': 16542390, 'id_str': '16542390', 'name': 'ESPNcricinfo', 'screen_name': 'ESPNcricinfo', 'location': 'At the cricket, mainly', 'description': 'Watch highlights from the Australia-India series in the subcontinent!\\n\\n👉 https://t.co/gCXLpZHVKP', 'url': 'https://t.co/EyZFY87NyE', 'entities': {'url': {'urls': [{'url': 'https://t.co/EyZFY87NyE', 'expanded_url': 'http://es.pn/ci', 'display_url': 'es.pn/ci', 'indices': [0, 23]}]}, 'description': {'urls': [{'url': 'https://t.co/gCXLpZHVKP', 'expanded_url': 'http://es.pn/CI-HLs', 'display_url': 'es.pn/CI-HLs', 'indices': [73, 96]}]}}, 'protected': False, 'followers_count': 5952259, 'friends_count': 199, 'listed_count': 5668, 'created_at': 'Wed Oct 01 10:36:44 +0000 2008', 'favourites_count': 262, 'utc_offset': None, 'time_zone': None, 'geo_enabled': False, 'verified': True, 'statuses_count': 156255, 'lang': None, 'contributors_enabled': False, 'is_translator': False, 'is_translation_enabled': False, 'profile_background_color': 'E0E0E0', 'profile_background_image_url': 'http://abs.twimg.com/images/themes/theme2/bg.gif', 'profile_background_image_url_https': 'https://abs.twimg.com/images/themes/theme2/bg.gif', 'profile_background_tile': False, 'profile_image_url': 'http://pbs.twimg.com/profile_images/888015358958940165/SmaHw6Rj_normal.jpg', 'profile_image_url_https': 'https://pbs.twimg.com/profile_images/888015358958940165/SmaHw6Rj_normal.jpg', 'profile_banner_url': 'https://pbs.twimg.com/profile_banners/16542390/1608808824', 'profile_link_color': '1F98C7', 'profile_sidebar_border_color': 'FFFFFF', 'profile_sidebar_fill_color': 'DAECF4', 'profile_text_color': '663B12', 'profile_use_background_image': True, 'has_extended_profile': False, 'default_profile': False, 'default_profile_image': False, 'following': False, 'follow_request_sent': False, 'notifications': False, 'translator_type': 'none'}, 'geo': None, 'coordinates': None, 'place': None, 'contributors': None, 'is_quote_status': False, 'retweet_count': 30, 'favorite_count': 1540, 'favorited': False, 'retweeted': False, 'lang': 'en'}, 'retweet_count': 0, 'favorite_count': 0, 'favorited': False, 'retweeted': False, 'possibly_sensitive': False, 'lang': 'en'}, created_at=datetime.datetime(2021, 1, 1, 5, 10, 47), id=1344873683051941888, id_str='1344873683051941888', full_text=\"RCB finally winning IPL\\n- Don't think it can get any bolder than this...\\n\\n#IPL #Cricket https://t.co/uOzDJaY4q9\", truncated=False, display_text_range=[0, 87], entities={'hashtags': [{'text': 'IPL', 'indices': [74, 78]}, {'text': 'Cricket', 'indices': [79, 87]}], 'symbols': [], 'user_mentions': [], 'urls': [{'url': 'https://t.co/uOzDJaY4q9', 'expanded_url': 'https://twitter.com/ESPNcricinfo/status/1344864628640124930', 'display_url': 'twitter.com/ESPNcricinfo/s…', 'indices': [88, 111]}]}, metadata={'iso_language_code': 'en', 'result_type': 'recent'}, source='Twitter for Android', source_url='http://twitter.com/download/android', in_reply_to_status_id=None, in_reply_to_status_id_str=None, in_reply_to_user_id=None, in_reply_to_user_id_str=None, in_reply_to_screen_name=None, author=User(_api=<tweepy.api.API object at 0x000002366791FDC8>, _json={'id': 4618875377, 'id_str': '4618875377', 'name': 'Hemant Kumar', 'screen_name': 'SportsCuppa', 'location': '', 'description': '19    YouTuber • Chelsea 💙 • Sports ❤️\\n\\n\\n\\n\\n\\n\\n\\n\\n\\n\\n\\n\\n\\n\\n\\n\\n\\n\\n\\n\\n\\n\\n\\n\\n\\n\\n\\n\\n\\n\\n\\n\\n\\n\\n\\n\\n\\n\\n\\n\\n\\n\\n\\n\\n\\n\\n\\n\\n\\n\\n\\n\\n\\n\\n\\n\\n\\n\\n\\n\\n\\n\\n\\n\\n\\n\\n\\n\\n\\n\\n\\n\\n\\n\\n\\n\\n\\n\\n\\n\\n\\n\\n\\n\\n\\n\\n\\n\\n\\n\\n\\n\\n\\n\\n\\n\\n\\n\\n\\n190+ Subscribers', 'url': 'https://t.co/4xWI7FcDw8', 'entities': {'url': {'urls': [{'url': 'https://t.co/4xWI7FcDw8', 'expanded_url': 'https://www.youtube.com/channel/UCibiZjBCHI4klakUIjRXdJA', 'display_url': 'youtube.com/channel/UCibiZ…', 'indices': [0, 23]}]}, 'description': {'urls': []}}, 'protected': False, 'followers_count': 247, 'friends_count': 307, 'listed_count': 16, 'created_at': 'Sun Dec 27 06:45:38 +0000 2015', 'favourites_count': 7170, 'utc_offset': None, 'time_zone': None, 'geo_enabled': False, 'verified': False, 'statuses_count': 5827, 'lang': None, 'contributors_enabled': False, 'is_translator': False, 'is_translation_enabled': False, 'profile_background_color': 'F5F8FA', 'profile_background_image_url': None, 'profile_background_image_url_https': None, 'profile_background_tile': False, 'profile_image_url': 'http://pbs.twimg.com/profile_images/1337675940516618240/-iXu6U9x_normal.jpg', 'profile_image_url_https': 'https://pbs.twimg.com/profile_images/1337675940516618240/-iXu6U9x_normal.jpg', 'profile_banner_url': 'https://pbs.twimg.com/profile_banners/4618875377/1608049325', 'profile_link_color': '1DA1F2', 'profile_sidebar_border_color': 'C0DEED', 'profile_sidebar_fill_color': 'DDEEF6', 'profile_text_color': '333333', 'profile_use_background_image': True, 'has_extended_profile': True, 'default_profile': True, 'default_profile_image': False, 'following': False, 'follow_request_sent': False, 'notifications': False, 'translator_type': 'none'}, id=4618875377, id_str='4618875377', name='Hemant Kumar', screen_name='SportsCuppa', location='', description='19    YouTuber • Chelsea 💙 • Sports ❤️\\n\\n\\n\\n\\n\\n\\n\\n\\n\\n\\n\\n\\n\\n\\n\\n\\n\\n\\n\\n\\n\\n\\n\\n\\n\\n\\n\\n\\n\\n\\n\\n\\n\\n\\n\\n\\n\\n\\n\\n\\n\\n\\n\\n\\n\\n\\n\\n\\n\\n\\n\\n\\n\\n\\n\\n\\n\\n\\n\\n\\n\\n\\n\\n\\n\\n\\n\\n\\n\\n\\n\\n\\n\\n\\n\\n\\n\\n\\n\\n\\n\\n\\n\\n\\n\\n\\n\\n\\n\\n\\n\\n\\n\\n\\n\\n\\n\\n\\n\\n190+ Subscribers', url='https://t.co/4xWI7FcDw8', entities={'url': {'urls': [{'url': 'https://t.co/4xWI7FcDw8', 'expanded_url': 'https://www.youtube.com/channel/UCibiZjBCHI4klakUIjRXdJA', 'display_url': 'youtube.com/channel/UCibiZ…', 'indices': [0, 23]}]}, 'description': {'urls': []}}, protected=False, followers_count=247, friends_count=307, listed_count=16, created_at=datetime.datetime(2015, 12, 27, 6, 45, 38), favourites_count=7170, utc_offset=None, time_zone=None, geo_enabled=False, verified=False, statuses_count=5827, lang=None, contributors_enabled=False, is_translator=False, is_translation_enabled=False, profile_background_color='F5F8FA', profile_background_image_url=None, profile_background_image_url_https=None, profile_background_tile=False, profile_image_url='http://pbs.twimg.com/profile_images/1337675940516618240/-iXu6U9x_normal.jpg', profile_image_url_https='https://pbs.twimg.com/profile_images/1337675940516618240/-iXu6U9x_normal.jpg', profile_banner_url='https://pbs.twimg.com/profile_banners/4618875377/1608049325', profile_link_color='1DA1F2', profile_sidebar_border_color='C0DEED', profile_sidebar_fill_color='DDEEF6', profile_text_color='333333', profile_use_background_image=True, has_extended_profile=True, default_profile=True, default_profile_image=False, following=False, follow_request_sent=False, notifications=False, translator_type='none'), user=User(_api=<tweepy.api.API object at 0x000002366791FDC8>, _json={'id': 4618875377, 'id_str': '4618875377', 'name': 'Hemant Kumar', 'screen_name': 'SportsCuppa', 'location': '', 'description': '19    YouTuber • Chelsea 💙 • Sports ❤️\\n\\n\\n\\n\\n\\n\\n\\n\\n\\n\\n\\n\\n\\n\\n\\n\\n\\n\\n\\n\\n\\n\\n\\n\\n\\n\\n\\n\\n\\n\\n\\n\\n\\n\\n\\n\\n\\n\\n\\n\\n\\n\\n\\n\\n\\n\\n\\n\\n\\n\\n\\n\\n\\n\\n\\n\\n\\n\\n\\n\\n\\n\\n\\n\\n\\n\\n\\n\\n\\n\\n\\n\\n\\n\\n\\n\\n\\n\\n\\n\\n\\n\\n\\n\\n\\n\\n\\n\\n\\n\\n\\n\\n\\n\\n\\n\\n\\n\\n\\n190+ Subscribers', 'url': 'https://t.co/4xWI7FcDw8', 'entities': {'url': {'urls': [{'url': 'https://t.co/4xWI7FcDw8', 'expanded_url': 'https://www.youtube.com/channel/UCibiZjBCHI4klakUIjRXdJA', 'display_url': 'youtube.com/channel/UCibiZ…', 'indices': [0, 23]}]}, 'description': {'urls': []}}, 'protected': False, 'followers_count': 247, 'friends_count': 307, 'listed_count': 16, 'created_at': 'Sun Dec 27 06:45:38 +0000 2015', 'favourites_count': 7170, 'utc_offset': None, 'time_zone': None, 'geo_enabled': False, 'verified': False, 'statuses_count': 5827, 'lang': None, 'contributors_enabled': False, 'is_translator': False, 'is_translation_enabled': False, 'profile_background_color': 'F5F8FA', 'profile_background_image_url': None, 'profile_background_image_url_https': None, 'profile_background_tile': False, 'profile_image_url': 'http://pbs.twimg.com/profile_images/1337675940516618240/-iXu6U9x_normal.jpg', 'profile_image_url_https': 'https://pbs.twimg.com/profile_images/1337675940516618240/-iXu6U9x_normal.jpg', 'profile_banner_url': 'https://pbs.twimg.com/profile_banners/4618875377/1608049325', 'profile_link_color': '1DA1F2', 'profile_sidebar_border_color': 'C0DEED', 'profile_sidebar_fill_color': 'DDEEF6', 'profile_text_color': '333333', 'profile_use_background_image': True, 'has_extended_profile': True, 'default_profile': True, 'default_profile_image': False, 'following': False, 'follow_request_sent': False, 'notifications': False, 'translator_type': 'none'}, id=4618875377, id_str='4618875377', name='Hemant Kumar', screen_name='SportsCuppa', location='', description='19    YouTuber • Chelsea 💙 • Sports ❤️\\n\\n\\n\\n\\n\\n\\n\\n\\n\\n\\n\\n\\n\\n\\n\\n\\n\\n\\n\\n\\n\\n\\n\\n\\n\\n\\n\\n\\n\\n\\n\\n\\n\\n\\n\\n\\n\\n\\n\\n\\n\\n\\n\\n\\n\\n\\n\\n\\n\\n\\n\\n\\n\\n\\n\\n\\n\\n\\n\\n\\n\\n\\n\\n\\n\\n\\n\\n\\n\\n\\n\\n\\n\\n\\n\\n\\n\\n\\n\\n\\n\\n\\n\\n\\n\\n\\n\\n\\n\\n\\n\\n\\n\\n\\n\\n\\n\\n\\n\\n190+ Subscribers', url='https://t.co/4xWI7FcDw8', entities={'url': {'urls': [{'url': 'https://t.co/4xWI7FcDw8', 'expanded_url': 'https://www.youtube.com/channel/UCibiZjBCHI4klakUIjRXdJA', 'display_url': 'youtube.com/channel/UCibiZ…', 'indices': [0, 23]}]}, 'description': {'urls': []}}, protected=False, followers_count=247, friends_count=307, listed_count=16, created_at=datetime.datetime(2015, 12, 27, 6, 45, 38), favourites_count=7170, utc_offset=None, time_zone=None, geo_enabled=False, verified=False, statuses_count=5827, lang=None, contributors_enabled=False, is_translator=False, is_translation_enabled=False, profile_background_color='F5F8FA', profile_background_image_url=None, profile_background_image_url_https=None, profile_background_tile=False, profile_image_url='http://pbs.twimg.com/profile_images/1337675940516618240/-iXu6U9x_normal.jpg', profile_image_url_https='https://pbs.twimg.com/profile_images/1337675940516618240/-iXu6U9x_normal.jpg', profile_banner_url='https://pbs.twimg.com/profile_banners/4618875377/1608049325', profile_link_color='1DA1F2', profile_sidebar_border_color='C0DEED', profile_sidebar_fill_color='DDEEF6', profile_text_color='333333', profile_use_background_image=True, has_extended_profile=True, default_profile=True, default_profile_image=False, following=False, follow_request_sent=False, notifications=False, translator_type='none'), geo=None, coordinates=None, place=None, contributors=None, is_quote_status=True, quoted_status_id=1344864628640124930, quoted_status_id_str='1344864628640124930', quoted_status=Status(_api=<tweepy.api.API object at 0x000002366791FDC8>, _json={'created_at': 'Fri Jan 01 04:34:48 +0000 2021', 'id': 1344864628640124930, 'id_str': '1344864628640124930', 'full_text': 'Make a bold prediction for 2021 👇', 'truncated': False, 'display_text_range': [0, 33], 'entities': {'hashtags': [], 'symbols': [], 'user_mentions': [], 'urls': []}, 'metadata': {'iso_language_code': 'en', 'result_type': 'recent'}, 'source': '<a href=\"https://mobile.twitter.com\" rel=\"nofollow\">Twitter Web App</a>', 'in_reply_to_status_id': None, 'in_reply_to_status_id_str': None, 'in_reply_to_user_id': None, 'in_reply_to_user_id_str': None, 'in_reply_to_screen_name': None, 'user': {'id': 16542390, 'id_str': '16542390', 'name': 'ESPNcricinfo', 'screen_name': 'ESPNcricinfo', 'location': 'At the cricket, mainly', 'description': 'Watch highlights from the Australia-India series in the subcontinent!\\n\\n👉 https://t.co/gCXLpZHVKP', 'url': 'https://t.co/EyZFY87NyE', 'entities': {'url': {'urls': [{'url': 'https://t.co/EyZFY87NyE', 'expanded_url': 'http://es.pn/ci', 'display_url': 'es.pn/ci', 'indices': [0, 23]}]}, 'description': {'urls': [{'url': 'https://t.co/gCXLpZHVKP', 'expanded_url': 'http://es.pn/CI-HLs', 'display_url': 'es.pn/CI-HLs', 'indices': [73, 96]}]}}, 'protected': False, 'followers_count': 5952259, 'friends_count': 199, 'listed_count': 5668, 'created_at': 'Wed Oct 01 10:36:44 +0000 2008', 'favourites_count': 262, 'utc_offset': None, 'time_zone': None, 'geo_enabled': False, 'verified': True, 'statuses_count': 156255, 'lang': None, 'contributors_enabled': False, 'is_translator': False, 'is_translation_enabled': False, 'profile_background_color': 'E0E0E0', 'profile_background_image_url': 'http://abs.twimg.com/images/themes/theme2/bg.gif', 'profile_background_image_url_https': 'https://abs.twimg.com/images/themes/theme2/bg.gif', 'profile_background_tile': False, 'profile_image_url': 'http://pbs.twimg.com/profile_images/888015358958940165/SmaHw6Rj_normal.jpg', 'profile_image_url_https': 'https://pbs.twimg.com/profile_images/888015358958940165/SmaHw6Rj_normal.jpg', 'profile_banner_url': 'https://pbs.twimg.com/profile_banners/16542390/1608808824', 'profile_link_color': '1F98C7', 'profile_sidebar_border_color': 'FFFFFF', 'profile_sidebar_fill_color': 'DAECF4', 'profile_text_color': '663B12', 'profile_use_background_image': True, 'has_extended_profile': False, 'default_profile': False, 'default_profile_image': False, 'following': False, 'follow_request_sent': False, 'notifications': False, 'translator_type': 'none'}, 'geo': None, 'coordinates': None, 'place': None, 'contributors': None, 'is_quote_status': False, 'retweet_count': 30, 'favorite_count': 1540, 'favorited': False, 'retweeted': False, 'lang': 'en'}, created_at=datetime.datetime(2021, 1, 1, 4, 34, 48), id=1344864628640124930, id_str='1344864628640124930', full_text='Make a bold prediction for 2021 👇', truncated=False, display_text_range=[0, 33], entities={'hashtags': [], 'symbols': [], 'user_mentions': [], 'urls': []}, metadata={'iso_language_code': 'en', 'result_type': 'recent'}, source='Twitter Web App', source_url='https://mobile.twitter.com', in_reply_to_status_id=None, in_reply_to_status_id_str=None, in_reply_to_user_id=None, in_reply_to_user_id_str=None, in_reply_to_screen_name=None, author=User(_api=<tweepy.api.API object at 0x000002366791FDC8>, _json={'id': 16542390, 'id_str': '16542390', 'name': 'ESPNcricinfo', 'screen_name': 'ESPNcricinfo', 'location': 'At the cricket, mainly', 'description': 'Watch highlights from the Australia-India series in the subcontinent!\\n\\n👉 https://t.co/gCXLpZHVKP', 'url': 'https://t.co/EyZFY87NyE', 'entities': {'url': {'urls': [{'url': 'https://t.co/EyZFY87NyE', 'expanded_url': 'http://es.pn/ci', 'display_url': 'es.pn/ci', 'indices': [0, 23]}]}, 'description': {'urls': [{'url': 'https://t.co/gCXLpZHVKP', 'expanded_url': 'http://es.pn/CI-HLs', 'display_url': 'es.pn/CI-HLs', 'indices': [73, 96]}]}}, 'protected': False, 'followers_count': 5952259, 'friends_count': 199, 'listed_count': 5668, 'created_at': 'Wed Oct 01 10:36:44 +0000 2008', 'favourites_count': 262, 'utc_offset': None, 'time_zone': None, 'geo_enabled': False, 'verified': True, 'statuses_count': 156255, 'lang': None, 'contributors_enabled': False, 'is_translator': False, 'is_translation_enabled': False, 'profile_background_color': 'E0E0E0', 'profile_background_image_url': 'http://abs.twimg.com/images/themes/theme2/bg.gif', 'profile_background_image_url_https': 'https://abs.twimg.com/images/themes/theme2/bg.gif', 'profile_background_tile': False, 'profile_image_url': 'http://pbs.twimg.com/profile_images/888015358958940165/SmaHw6Rj_normal.jpg', 'profile_image_url_https': 'https://pbs.twimg.com/profile_images/888015358958940165/SmaHw6Rj_normal.jpg', 'profile_banner_url': 'https://pbs.twimg.com/profile_banners/16542390/1608808824', 'profile_link_color': '1F98C7', 'profile_sidebar_border_color': 'FFFFFF', 'profile_sidebar_fill_color': 'DAECF4', 'profile_text_color': '663B12', 'profile_use_background_image': True, 'has_extended_profile': False, 'default_profile': False, 'default_profile_image': False, 'following': False, 'follow_request_sent': False, 'notifications': False, 'translator_type': 'none'}, id=16542390, id_str='16542390', name='ESPNcricinfo', screen_name='ESPNcricinfo', location='At the cricket, mainly', description='Watch highlights from the Australia-India series in the subcontinent!\\n\\n👉 https://t.co/gCXLpZHVKP', url='https://t.co/EyZFY87NyE', entities={'url': {'urls': [{'url': 'https://t.co/EyZFY87NyE', 'expanded_url': 'http://es.pn/ci', 'display_url': 'es.pn/ci', 'indices': [0, 23]}]}, 'description': {'urls': [{'url': 'https://t.co/gCXLpZHVKP', 'expanded_url': 'http://es.pn/CI-HLs', 'display_url': 'es.pn/CI-HLs', 'indices': [73, 96]}]}}, protected=False, followers_count=5952259, friends_count=199, listed_count=5668, created_at=datetime.datetime(2008, 10, 1, 10, 36, 44), favourites_count=262, utc_offset=None, time_zone=None, geo_enabled=False, verified=True, statuses_count=156255, lang=None, contributors_enabled=False, is_translator=False, is_translation_enabled=False, profile_background_color='E0E0E0', profile_background_image_url='http://abs.twimg.com/images/themes/theme2/bg.gif', profile_background_image_url_https='https://abs.twimg.com/images/themes/theme2/bg.gif', profile_background_tile=False, profile_image_url='http://pbs.twimg.com/profile_images/888015358958940165/SmaHw6Rj_normal.jpg', profile_image_url_https='https://pbs.twimg.com/profile_images/888015358958940165/SmaHw6Rj_normal.jpg', profile_banner_url='https://pbs.twimg.com/profile_banners/16542390/1608808824', profile_link_color='1F98C7', profile_sidebar_border_color='FFFFFF', profile_sidebar_fill_color='DAECF4', profile_text_color='663B12', profile_use_background_image=True, has_extended_profile=False, default_profile=False, default_profile_image=False, following=False, follow_request_sent=False, notifications=False, translator_type='none'), user=User(_api=<tweepy.api.API object at 0x000002366791FDC8>, _json={'id': 16542390, 'id_str': '16542390', 'name': 'ESPNcricinfo', 'screen_name': 'ESPNcricinfo', 'location': 'At the cricket, mainly', 'description': 'Watch highlights from the Australia-India series in the subcontinent!\\n\\n👉 https://t.co/gCXLpZHVKP', 'url': 'https://t.co/EyZFY87NyE', 'entities': {'url': {'urls': [{'url': 'https://t.co/EyZFY87NyE', 'expanded_url': 'http://es.pn/ci', 'display_url': 'es.pn/ci', 'indices': [0, 23]}]}, 'description': {'urls': [{'url': 'https://t.co/gCXLpZHVKP', 'expanded_url': 'http://es.pn/CI-HLs', 'display_url': 'es.pn/CI-HLs', 'indices': [73, 96]}]}}, 'protected': False, 'followers_count': 5952259, 'friends_count': 199, 'listed_count': 5668, 'created_at': 'Wed Oct 01 10:36:44 +0000 2008', 'favourites_count': 262, 'utc_offset': None, 'time_zone': None, 'geo_enabled': False, 'verified': True, 'statuses_count': 156255, 'lang': None, 'contributors_enabled': False, 'is_translator': False, 'is_translation_enabled': False, 'profile_background_color': 'E0E0E0', 'profile_background_image_url': 'http://abs.twimg.com/images/themes/theme2/bg.gif', 'profile_background_image_url_https': 'https://abs.twimg.com/images/themes/theme2/bg.gif', 'profile_background_tile': False, 'profile_image_url': 'http://pbs.twimg.com/profile_images/888015358958940165/SmaHw6Rj_normal.jpg', 'profile_image_url_https': 'https://pbs.twimg.com/profile_images/888015358958940165/SmaHw6Rj_normal.jpg', 'profile_banner_url': 'https://pbs.twimg.com/profile_banners/16542390/1608808824', 'profile_link_color': '1F98C7', 'profile_sidebar_border_color': 'FFFFFF', 'profile_sidebar_fill_color': 'DAECF4', 'profile_text_color': '663B12', 'profile_use_background_image': True, 'has_extended_profile': False, 'default_profile': False, 'default_profile_image': False, 'following': False, 'follow_request_sent': False, 'notifications': False, 'translator_type': 'none'}, id=16542390, id_str='16542390', name='ESPNcricinfo', screen_name='ESPNcricinfo', location='At the cricket, mainly', description='Watch highlights from the Australia-India series in the subcontinent!\\n\\n👉 https://t.co/gCXLpZHVKP', url='https://t.co/EyZFY87NyE', entities={'url': {'urls': [{'url': 'https://t.co/EyZFY87NyE', 'expanded_url': 'http://es.pn/ci', 'display_url': 'es.pn/ci', 'indices': [0, 23]}]}, 'description': {'urls': [{'url': 'https://t.co/gCXLpZHVKP', 'expanded_url': 'http://es.pn/CI-HLs', 'display_url': 'es.pn/CI-HLs', 'indices': [73, 96]}]}}, protected=False, followers_count=5952259, friends_count=199, listed_count=5668, created_at=datetime.datetime(2008, 10, 1, 10, 36, 44), favourites_count=262, utc_offset=None, time_zone=None, geo_enabled=False, verified=True, statuses_count=156255, lang=None, contributors_enabled=False, is_translator=False, is_translation_enabled=False, profile_background_color='E0E0E0', profile_background_image_url='http://abs.twimg.com/images/themes/theme2/bg.gif', profile_background_image_url_https='https://abs.twimg.com/images/themes/theme2/bg.gif', profile_background_tile=False, profile_image_url='http://pbs.twimg.com/profile_images/888015358958940165/SmaHw6Rj_normal.jpg', profile_image_url_https='https://pbs.twimg.com/profile_images/888015358958940165/SmaHw6Rj_normal.jpg', profile_banner_url='https://pbs.twimg.com/profile_banners/16542390/1608808824', profile_link_color='1F98C7', profile_sidebar_border_color='FFFFFF', profile_sidebar_fill_color='DAECF4', profile_text_color='663B12', profile_use_background_image=True, has_extended_profile=False, default_profile=False, default_profile_image=False, following=False, follow_request_sent=False, notifications=False, translator_type='none'), geo=None, coordinates=None, place=None, contributors=None, is_quote_status=False, retweet_count=30, favorite_count=1540, favorited=False, retweeted=False, lang='en'), retweet_count=0, favorite_count=0, favorited=False, retweeted=False, possibly_sensitive=False, lang='en') \n",
      "\n",
      ".......................\n",
      "\n",
      "Status(_api=<tweepy.api.API object at 0x000002366791FDC8>, _json={'created_at': 'Fri Jan 01 05:09:53 +0000 2021', 'id': 1344873456219746304, 'id_str': '1344873456219746304', 'full_text': \"@ESPNcricinfo RCB finally winning IPL\\n- Don't think it can get any bolder than this\", 'truncated': False, 'display_text_range': [14, 83], 'entities': {'hashtags': [], 'symbols': [], 'user_mentions': [{'screen_name': 'ESPNcricinfo', 'name': 'ESPNcricinfo', 'id': 16542390, 'id_str': '16542390', 'indices': [0, 13]}], 'urls': []}, 'metadata': {'iso_language_code': 'en', 'result_type': 'recent'}, 'source': '<a href=\"http://twitter.com/download/android\" rel=\"nofollow\">Twitter for Android</a>', 'in_reply_to_status_id': 1344864628640124930, 'in_reply_to_status_id_str': '1344864628640124930', 'in_reply_to_user_id': 16542390, 'in_reply_to_user_id_str': '16542390', 'in_reply_to_screen_name': 'ESPNcricinfo', 'user': {'id': 4618875377, 'id_str': '4618875377', 'name': 'Hemant Kumar', 'screen_name': 'SportsCuppa', 'location': '', 'description': '19    YouTuber • Chelsea 💙 • Sports ❤️\\n\\n\\n\\n\\n\\n\\n\\n\\n\\n\\n\\n\\n\\n\\n\\n\\n\\n\\n\\n\\n\\n\\n\\n\\n\\n\\n\\n\\n\\n\\n\\n\\n\\n\\n\\n\\n\\n\\n\\n\\n\\n\\n\\n\\n\\n\\n\\n\\n\\n\\n\\n\\n\\n\\n\\n\\n\\n\\n\\n\\n\\n\\n\\n\\n\\n\\n\\n\\n\\n\\n\\n\\n\\n\\n\\n\\n\\n\\n\\n\\n\\n\\n\\n\\n\\n\\n\\n\\n\\n\\n\\n\\n\\n\\n\\n\\n\\n\\n\\n190+ Subscribers', 'url': 'https://t.co/4xWI7FcDw8', 'entities': {'url': {'urls': [{'url': 'https://t.co/4xWI7FcDw8', 'expanded_url': 'https://www.youtube.com/channel/UCibiZjBCHI4klakUIjRXdJA', 'display_url': 'youtube.com/channel/UCibiZ…', 'indices': [0, 23]}]}, 'description': {'urls': []}}, 'protected': False, 'followers_count': 247, 'friends_count': 307, 'listed_count': 16, 'created_at': 'Sun Dec 27 06:45:38 +0000 2015', 'favourites_count': 7170, 'utc_offset': None, 'time_zone': None, 'geo_enabled': False, 'verified': False, 'statuses_count': 5827, 'lang': None, 'contributors_enabled': False, 'is_translator': False, 'is_translation_enabled': False, 'profile_background_color': 'F5F8FA', 'profile_background_image_url': None, 'profile_background_image_url_https': None, 'profile_background_tile': False, 'profile_image_url': 'http://pbs.twimg.com/profile_images/1337675940516618240/-iXu6U9x_normal.jpg', 'profile_image_url_https': 'https://pbs.twimg.com/profile_images/1337675940516618240/-iXu6U9x_normal.jpg', 'profile_banner_url': 'https://pbs.twimg.com/profile_banners/4618875377/1608049325', 'profile_link_color': '1DA1F2', 'profile_sidebar_border_color': 'C0DEED', 'profile_sidebar_fill_color': 'DDEEF6', 'profile_text_color': '333333', 'profile_use_background_image': True, 'has_extended_profile': True, 'default_profile': True, 'default_profile_image': False, 'following': False, 'follow_request_sent': False, 'notifications': False, 'translator_type': 'none'}, 'geo': None, 'coordinates': None, 'place': None, 'contributors': None, 'is_quote_status': False, 'retweet_count': 0, 'favorite_count': 1, 'favorited': False, 'retweeted': False, 'lang': 'en'}, created_at=datetime.datetime(2021, 1, 1, 5, 9, 53), id=1344873456219746304, id_str='1344873456219746304', full_text=\"@ESPNcricinfo RCB finally winning IPL\\n- Don't think it can get any bolder than this\", truncated=False, display_text_range=[14, 83], entities={'hashtags': [], 'symbols': [], 'user_mentions': [{'screen_name': 'ESPNcricinfo', 'name': 'ESPNcricinfo', 'id': 16542390, 'id_str': '16542390', 'indices': [0, 13]}], 'urls': []}, metadata={'iso_language_code': 'en', 'result_type': 'recent'}, source='Twitter for Android', source_url='http://twitter.com/download/android', in_reply_to_status_id=1344864628640124930, in_reply_to_status_id_str='1344864628640124930', in_reply_to_user_id=16542390, in_reply_to_user_id_str='16542390', in_reply_to_screen_name='ESPNcricinfo', author=User(_api=<tweepy.api.API object at 0x000002366791FDC8>, _json={'id': 4618875377, 'id_str': '4618875377', 'name': 'Hemant Kumar', 'screen_name': 'SportsCuppa', 'location': '', 'description': '19    YouTuber • Chelsea 💙 • Sports ❤️\\n\\n\\n\\n\\n\\n\\n\\n\\n\\n\\n\\n\\n\\n\\n\\n\\n\\n\\n\\n\\n\\n\\n\\n\\n\\n\\n\\n\\n\\n\\n\\n\\n\\n\\n\\n\\n\\n\\n\\n\\n\\n\\n\\n\\n\\n\\n\\n\\n\\n\\n\\n\\n\\n\\n\\n\\n\\n\\n\\n\\n\\n\\n\\n\\n\\n\\n\\n\\n\\n\\n\\n\\n\\n\\n\\n\\n\\n\\n\\n\\n\\n\\n\\n\\n\\n\\n\\n\\n\\n\\n\\n\\n\\n\\n\\n\\n\\n\\n\\n190+ Subscribers', 'url': 'https://t.co/4xWI7FcDw8', 'entities': {'url': {'urls': [{'url': 'https://t.co/4xWI7FcDw8', 'expanded_url': 'https://www.youtube.com/channel/UCibiZjBCHI4klakUIjRXdJA', 'display_url': 'youtube.com/channel/UCibiZ…', 'indices': [0, 23]}]}, 'description': {'urls': []}}, 'protected': False, 'followers_count': 247, 'friends_count': 307, 'listed_count': 16, 'created_at': 'Sun Dec 27 06:45:38 +0000 2015', 'favourites_count': 7170, 'utc_offset': None, 'time_zone': None, 'geo_enabled': False, 'verified': False, 'statuses_count': 5827, 'lang': None, 'contributors_enabled': False, 'is_translator': False, 'is_translation_enabled': False, 'profile_background_color': 'F5F8FA', 'profile_background_image_url': None, 'profile_background_image_url_https': None, 'profile_background_tile': False, 'profile_image_url': 'http://pbs.twimg.com/profile_images/1337675940516618240/-iXu6U9x_normal.jpg', 'profile_image_url_https': 'https://pbs.twimg.com/profile_images/1337675940516618240/-iXu6U9x_normal.jpg', 'profile_banner_url': 'https://pbs.twimg.com/profile_banners/4618875377/1608049325', 'profile_link_color': '1DA1F2', 'profile_sidebar_border_color': 'C0DEED', 'profile_sidebar_fill_color': 'DDEEF6', 'profile_text_color': '333333', 'profile_use_background_image': True, 'has_extended_profile': True, 'default_profile': True, 'default_profile_image': False, 'following': False, 'follow_request_sent': False, 'notifications': False, 'translator_type': 'none'}, id=4618875377, id_str='4618875377', name='Hemant Kumar', screen_name='SportsCuppa', location='', description='19    YouTuber • Chelsea 💙 • Sports ❤️\\n\\n\\n\\n\\n\\n\\n\\n\\n\\n\\n\\n\\n\\n\\n\\n\\n\\n\\n\\n\\n\\n\\n\\n\\n\\n\\n\\n\\n\\n\\n\\n\\n\\n\\n\\n\\n\\n\\n\\n\\n\\n\\n\\n\\n\\n\\n\\n\\n\\n\\n\\n\\n\\n\\n\\n\\n\\n\\n\\n\\n\\n\\n\\n\\n\\n\\n\\n\\n\\n\\n\\n\\n\\n\\n\\n\\n\\n\\n\\n\\n\\n\\n\\n\\n\\n\\n\\n\\n\\n\\n\\n\\n\\n\\n\\n\\n\\n\\n\\n190+ Subscribers', url='https://t.co/4xWI7FcDw8', entities={'url': {'urls': [{'url': 'https://t.co/4xWI7FcDw8', 'expanded_url': 'https://www.youtube.com/channel/UCibiZjBCHI4klakUIjRXdJA', 'display_url': 'youtube.com/channel/UCibiZ…', 'indices': [0, 23]}]}, 'description': {'urls': []}}, protected=False, followers_count=247, friends_count=307, listed_count=16, created_at=datetime.datetime(2015, 12, 27, 6, 45, 38), favourites_count=7170, utc_offset=None, time_zone=None, geo_enabled=False, verified=False, statuses_count=5827, lang=None, contributors_enabled=False, is_translator=False, is_translation_enabled=False, profile_background_color='F5F8FA', profile_background_image_url=None, profile_background_image_url_https=None, profile_background_tile=False, profile_image_url='http://pbs.twimg.com/profile_images/1337675940516618240/-iXu6U9x_normal.jpg', profile_image_url_https='https://pbs.twimg.com/profile_images/1337675940516618240/-iXu6U9x_normal.jpg', profile_banner_url='https://pbs.twimg.com/profile_banners/4618875377/1608049325', profile_link_color='1DA1F2', profile_sidebar_border_color='C0DEED', profile_sidebar_fill_color='DDEEF6', profile_text_color='333333', profile_use_background_image=True, has_extended_profile=True, default_profile=True, default_profile_image=False, following=False, follow_request_sent=False, notifications=False, translator_type='none'), user=User(_api=<tweepy.api.API object at 0x000002366791FDC8>, _json={'id': 4618875377, 'id_str': '4618875377', 'name': 'Hemant Kumar', 'screen_name': 'SportsCuppa', 'location': '', 'description': '19    YouTuber • Chelsea 💙 • Sports ❤️\\n\\n\\n\\n\\n\\n\\n\\n\\n\\n\\n\\n\\n\\n\\n\\n\\n\\n\\n\\n\\n\\n\\n\\n\\n\\n\\n\\n\\n\\n\\n\\n\\n\\n\\n\\n\\n\\n\\n\\n\\n\\n\\n\\n\\n\\n\\n\\n\\n\\n\\n\\n\\n\\n\\n\\n\\n\\n\\n\\n\\n\\n\\n\\n\\n\\n\\n\\n\\n\\n\\n\\n\\n\\n\\n\\n\\n\\n\\n\\n\\n\\n\\n\\n\\n\\n\\n\\n\\n\\n\\n\\n\\n\\n\\n\\n\\n\\n\\n\\n190+ Subscribers', 'url': 'https://t.co/4xWI7FcDw8', 'entities': {'url': {'urls': [{'url': 'https://t.co/4xWI7FcDw8', 'expanded_url': 'https://www.youtube.com/channel/UCibiZjBCHI4klakUIjRXdJA', 'display_url': 'youtube.com/channel/UCibiZ…', 'indices': [0, 23]}]}, 'description': {'urls': []}}, 'protected': False, 'followers_count': 247, 'friends_count': 307, 'listed_count': 16, 'created_at': 'Sun Dec 27 06:45:38 +0000 2015', 'favourites_count': 7170, 'utc_offset': None, 'time_zone': None, 'geo_enabled': False, 'verified': False, 'statuses_count': 5827, 'lang': None, 'contributors_enabled': False, 'is_translator': False, 'is_translation_enabled': False, 'profile_background_color': 'F5F8FA', 'profile_background_image_url': None, 'profile_background_image_url_https': None, 'profile_background_tile': False, 'profile_image_url': 'http://pbs.twimg.com/profile_images/1337675940516618240/-iXu6U9x_normal.jpg', 'profile_image_url_https': 'https://pbs.twimg.com/profile_images/1337675940516618240/-iXu6U9x_normal.jpg', 'profile_banner_url': 'https://pbs.twimg.com/profile_banners/4618875377/1608049325', 'profile_link_color': '1DA1F2', 'profile_sidebar_border_color': 'C0DEED', 'profile_sidebar_fill_color': 'DDEEF6', 'profile_text_color': '333333', 'profile_use_background_image': True, 'has_extended_profile': True, 'default_profile': True, 'default_profile_image': False, 'following': False, 'follow_request_sent': False, 'notifications': False, 'translator_type': 'none'}, id=4618875377, id_str='4618875377', name='Hemant Kumar', screen_name='SportsCuppa', location='', description='19    YouTuber • Chelsea 💙 • Sports ❤️\\n\\n\\n\\n\\n\\n\\n\\n\\n\\n\\n\\n\\n\\n\\n\\n\\n\\n\\n\\n\\n\\n\\n\\n\\n\\n\\n\\n\\n\\n\\n\\n\\n\\n\\n\\n\\n\\n\\n\\n\\n\\n\\n\\n\\n\\n\\n\\n\\n\\n\\n\\n\\n\\n\\n\\n\\n\\n\\n\\n\\n\\n\\n\\n\\n\\n\\n\\n\\n\\n\\n\\n\\n\\n\\n\\n\\n\\n\\n\\n\\n\\n\\n\\n\\n\\n\\n\\n\\n\\n\\n\\n\\n\\n\\n\\n\\n\\n\\n\\n190+ Subscribers', url='https://t.co/4xWI7FcDw8', entities={'url': {'urls': [{'url': 'https://t.co/4xWI7FcDw8', 'expanded_url': 'https://www.youtube.com/channel/UCibiZjBCHI4klakUIjRXdJA', 'display_url': 'youtube.com/channel/UCibiZ…', 'indices': [0, 23]}]}, 'description': {'urls': []}}, protected=False, followers_count=247, friends_count=307, listed_count=16, created_at=datetime.datetime(2015, 12, 27, 6, 45, 38), favourites_count=7170, utc_offset=None, time_zone=None, geo_enabled=False, verified=False, statuses_count=5827, lang=None, contributors_enabled=False, is_translator=False, is_translation_enabled=False, profile_background_color='F5F8FA', profile_background_image_url=None, profile_background_image_url_https=None, profile_background_tile=False, profile_image_url='http://pbs.twimg.com/profile_images/1337675940516618240/-iXu6U9x_normal.jpg', profile_image_url_https='https://pbs.twimg.com/profile_images/1337675940516618240/-iXu6U9x_normal.jpg', profile_banner_url='https://pbs.twimg.com/profile_banners/4618875377/1608049325', profile_link_color='1DA1F2', profile_sidebar_border_color='C0DEED', profile_sidebar_fill_color='DDEEF6', profile_text_color='333333', profile_use_background_image=True, has_extended_profile=True, default_profile=True, default_profile_image=False, following=False, follow_request_sent=False, notifications=False, translator_type='none'), geo=None, coordinates=None, place=None, contributors=None, is_quote_status=False, retweet_count=0, favorite_count=1, favorited=False, retweeted=False, lang='en') \n",
      "\n",
      ".......................\n",
      "\n",
      "Status(_api=<tweepy.api.API object at 0x000002366791FDC8>, _json={'created_at': 'Fri Jan 01 05:04:17 +0000 2021', 'id': 1344872048800145409, 'id_str': '1344872048800145409', 'full_text': 'Rcb winning ipl https://t.co/ClWSlJ1eqb', 'truncated': False, 'display_text_range': [0, 15], 'entities': {'hashtags': [], 'symbols': [], 'user_mentions': [], 'urls': [{'url': 'https://t.co/ClWSlJ1eqb', 'expanded_url': 'https://twitter.com/ESPNcricinfo/status/1344864628640124930', 'display_url': 'twitter.com/ESPNcricinfo/s…', 'indices': [16, 39]}]}, 'metadata': {'iso_language_code': 'en', 'result_type': 'recent'}, 'source': '<a href=\"http://twitter.com/download/android\" rel=\"nofollow\">Twitter for Android</a>', 'in_reply_to_status_id': None, 'in_reply_to_status_id_str': None, 'in_reply_to_user_id': None, 'in_reply_to_user_id_str': None, 'in_reply_to_screen_name': None, 'user': {'id': 147504554, 'id_str': '147504554', 'name': 'MASTER 🤘🤘', 'screen_name': 'santosh241241', 'location': '', 'description': '', 'url': None, 'entities': {'description': {'urls': []}}, 'protected': False, 'followers_count': 3616, 'friends_count': 425, 'listed_count': 10, 'created_at': 'Mon May 24 09:12:45 +0000 2010', 'favourites_count': 661, 'utc_offset': None, 'time_zone': None, 'geo_enabled': True, 'verified': False, 'statuses_count': 28893, 'lang': None, 'contributors_enabled': False, 'is_translator': False, 'is_translation_enabled': False, 'profile_background_color': 'DBE9ED', 'profile_background_image_url': 'http://abs.twimg.com/images/themes/theme1/bg.png', 'profile_background_image_url_https': 'https://abs.twimg.com/images/themes/theme1/bg.png', 'profile_background_tile': False, 'profile_image_url': 'http://pbs.twimg.com/profile_images/1294654252099309568/McVINFQ1_normal.jpg', 'profile_image_url_https': 'https://pbs.twimg.com/profile_images/1294654252099309568/McVINFQ1_normal.jpg', 'profile_banner_url': 'https://pbs.twimg.com/profile_banners/147504554/1586269883', 'profile_link_color': '3B94D9', 'profile_sidebar_border_color': 'FFFFFF', 'profile_sidebar_fill_color': 'DDEEF6', 'profile_text_color': '333333', 'profile_use_background_image': False, 'has_extended_profile': True, 'default_profile': False, 'default_profile_image': False, 'following': False, 'follow_request_sent': False, 'notifications': False, 'translator_type': 'none'}, 'geo': None, 'coordinates': None, 'place': None, 'contributors': None, 'is_quote_status': True, 'quoted_status_id': 1344864628640124930, 'quoted_status_id_str': '1344864628640124930', 'quoted_status': {'created_at': 'Fri Jan 01 04:34:48 +0000 2021', 'id': 1344864628640124930, 'id_str': '1344864628640124930', 'full_text': 'Make a bold prediction for 2021 👇', 'truncated': False, 'display_text_range': [0, 33], 'entities': {'hashtags': [], 'symbols': [], 'user_mentions': [], 'urls': []}, 'metadata': {'iso_language_code': 'en', 'result_type': 'recent'}, 'source': '<a href=\"https://mobile.twitter.com\" rel=\"nofollow\">Twitter Web App</a>', 'in_reply_to_status_id': None, 'in_reply_to_status_id_str': None, 'in_reply_to_user_id': None, 'in_reply_to_user_id_str': None, 'in_reply_to_screen_name': None, 'user': {'id': 16542390, 'id_str': '16542390', 'name': 'ESPNcricinfo', 'screen_name': 'ESPNcricinfo', 'location': 'At the cricket, mainly', 'description': 'Watch highlights from the Australia-India series in the subcontinent!\\n\\n👉 https://t.co/gCXLpZHVKP', 'url': 'https://t.co/EyZFY87NyE', 'entities': {'url': {'urls': [{'url': 'https://t.co/EyZFY87NyE', 'expanded_url': 'http://es.pn/ci', 'display_url': 'es.pn/ci', 'indices': [0, 23]}]}, 'description': {'urls': [{'url': 'https://t.co/gCXLpZHVKP', 'expanded_url': 'http://es.pn/CI-HLs', 'display_url': 'es.pn/CI-HLs', 'indices': [73, 96]}]}}, 'protected': False, 'followers_count': 5952259, 'friends_count': 199, 'listed_count': 5668, 'created_at': 'Wed Oct 01 10:36:44 +0000 2008', 'favourites_count': 262, 'utc_offset': None, 'time_zone': None, 'geo_enabled': False, 'verified': True, 'statuses_count': 156255, 'lang': None, 'contributors_enabled': False, 'is_translator': False, 'is_translation_enabled': False, 'profile_background_color': 'E0E0E0', 'profile_background_image_url': 'http://abs.twimg.com/images/themes/theme2/bg.gif', 'profile_background_image_url_https': 'https://abs.twimg.com/images/themes/theme2/bg.gif', 'profile_background_tile': False, 'profile_image_url': 'http://pbs.twimg.com/profile_images/888015358958940165/SmaHw6Rj_normal.jpg', 'profile_image_url_https': 'https://pbs.twimg.com/profile_images/888015358958940165/SmaHw6Rj_normal.jpg', 'profile_banner_url': 'https://pbs.twimg.com/profile_banners/16542390/1608808824', 'profile_link_color': '1F98C7', 'profile_sidebar_border_color': 'FFFFFF', 'profile_sidebar_fill_color': 'DAECF4', 'profile_text_color': '663B12', 'profile_use_background_image': True, 'has_extended_profile': False, 'default_profile': False, 'default_profile_image': False, 'following': False, 'follow_request_sent': False, 'notifications': False, 'translator_type': 'none'}, 'geo': None, 'coordinates': None, 'place': None, 'contributors': None, 'is_quote_status': False, 'retweet_count': 30, 'favorite_count': 1540, 'favorited': False, 'retweeted': False, 'lang': 'en'}, 'retweet_count': 0, 'favorite_count': 1, 'favorited': False, 'retweeted': False, 'possibly_sensitive': False, 'lang': 'en'}, created_at=datetime.datetime(2021, 1, 1, 5, 4, 17), id=1344872048800145409, id_str='1344872048800145409', full_text='Rcb winning ipl https://t.co/ClWSlJ1eqb', truncated=False, display_text_range=[0, 15], entities={'hashtags': [], 'symbols': [], 'user_mentions': [], 'urls': [{'url': 'https://t.co/ClWSlJ1eqb', 'expanded_url': 'https://twitter.com/ESPNcricinfo/status/1344864628640124930', 'display_url': 'twitter.com/ESPNcricinfo/s…', 'indices': [16, 39]}]}, metadata={'iso_language_code': 'en', 'result_type': 'recent'}, source='Twitter for Android', source_url='http://twitter.com/download/android', in_reply_to_status_id=None, in_reply_to_status_id_str=None, in_reply_to_user_id=None, in_reply_to_user_id_str=None, in_reply_to_screen_name=None, author=User(_api=<tweepy.api.API object at 0x000002366791FDC8>, _json={'id': 147504554, 'id_str': '147504554', 'name': 'MASTER 🤘🤘', 'screen_name': 'santosh241241', 'location': '', 'description': '', 'url': None, 'entities': {'description': {'urls': []}}, 'protected': False, 'followers_count': 3616, 'friends_count': 425, 'listed_count': 10, 'created_at': 'Mon May 24 09:12:45 +0000 2010', 'favourites_count': 661, 'utc_offset': None, 'time_zone': None, 'geo_enabled': True, 'verified': False, 'statuses_count': 28893, 'lang': None, 'contributors_enabled': False, 'is_translator': False, 'is_translation_enabled': False, 'profile_background_color': 'DBE9ED', 'profile_background_image_url': 'http://abs.twimg.com/images/themes/theme1/bg.png', 'profile_background_image_url_https': 'https://abs.twimg.com/images/themes/theme1/bg.png', 'profile_background_tile': False, 'profile_image_url': 'http://pbs.twimg.com/profile_images/1294654252099309568/McVINFQ1_normal.jpg', 'profile_image_url_https': 'https://pbs.twimg.com/profile_images/1294654252099309568/McVINFQ1_normal.jpg', 'profile_banner_url': 'https://pbs.twimg.com/profile_banners/147504554/1586269883', 'profile_link_color': '3B94D9', 'profile_sidebar_border_color': 'FFFFFF', 'profile_sidebar_fill_color': 'DDEEF6', 'profile_text_color': '333333', 'profile_use_background_image': False, 'has_extended_profile': True, 'default_profile': False, 'default_profile_image': False, 'following': False, 'follow_request_sent': False, 'notifications': False, 'translator_type': 'none'}, id=147504554, id_str='147504554', name='MASTER 🤘🤘', screen_name='santosh241241', location='', description='', url=None, entities={'description': {'urls': []}}, protected=False, followers_count=3616, friends_count=425, listed_count=10, created_at=datetime.datetime(2010, 5, 24, 9, 12, 45), favourites_count=661, utc_offset=None, time_zone=None, geo_enabled=True, verified=False, statuses_count=28893, lang=None, contributors_enabled=False, is_translator=False, is_translation_enabled=False, profile_background_color='DBE9ED', profile_background_image_url='http://abs.twimg.com/images/themes/theme1/bg.png', profile_background_image_url_https='https://abs.twimg.com/images/themes/theme1/bg.png', profile_background_tile=False, profile_image_url='http://pbs.twimg.com/profile_images/1294654252099309568/McVINFQ1_normal.jpg', profile_image_url_https='https://pbs.twimg.com/profile_images/1294654252099309568/McVINFQ1_normal.jpg', profile_banner_url='https://pbs.twimg.com/profile_banners/147504554/1586269883', profile_link_color='3B94D9', profile_sidebar_border_color='FFFFFF', profile_sidebar_fill_color='DDEEF6', profile_text_color='333333', profile_use_background_image=False, has_extended_profile=True, default_profile=False, default_profile_image=False, following=False, follow_request_sent=False, notifications=False, translator_type='none'), user=User(_api=<tweepy.api.API object at 0x000002366791FDC8>, _json={'id': 147504554, 'id_str': '147504554', 'name': 'MASTER 🤘🤘', 'screen_name': 'santosh241241', 'location': '', 'description': '', 'url': None, 'entities': {'description': {'urls': []}}, 'protected': False, 'followers_count': 3616, 'friends_count': 425, 'listed_count': 10, 'created_at': 'Mon May 24 09:12:45 +0000 2010', 'favourites_count': 661, 'utc_offset': None, 'time_zone': None, 'geo_enabled': True, 'verified': False, 'statuses_count': 28893, 'lang': None, 'contributors_enabled': False, 'is_translator': False, 'is_translation_enabled': False, 'profile_background_color': 'DBE9ED', 'profile_background_image_url': 'http://abs.twimg.com/images/themes/theme1/bg.png', 'profile_background_image_url_https': 'https://abs.twimg.com/images/themes/theme1/bg.png', 'profile_background_tile': False, 'profile_image_url': 'http://pbs.twimg.com/profile_images/1294654252099309568/McVINFQ1_normal.jpg', 'profile_image_url_https': 'https://pbs.twimg.com/profile_images/1294654252099309568/McVINFQ1_normal.jpg', 'profile_banner_url': 'https://pbs.twimg.com/profile_banners/147504554/1586269883', 'profile_link_color': '3B94D9', 'profile_sidebar_border_color': 'FFFFFF', 'profile_sidebar_fill_color': 'DDEEF6', 'profile_text_color': '333333', 'profile_use_background_image': False, 'has_extended_profile': True, 'default_profile': False, 'default_profile_image': False, 'following': False, 'follow_request_sent': False, 'notifications': False, 'translator_type': 'none'}, id=147504554, id_str='147504554', name='MASTER 🤘🤘', screen_name='santosh241241', location='', description='', url=None, entities={'description': {'urls': []}}, protected=False, followers_count=3616, friends_count=425, listed_count=10, created_at=datetime.datetime(2010, 5, 24, 9, 12, 45), favourites_count=661, utc_offset=None, time_zone=None, geo_enabled=True, verified=False, statuses_count=28893, lang=None, contributors_enabled=False, is_translator=False, is_translation_enabled=False, profile_background_color='DBE9ED', profile_background_image_url='http://abs.twimg.com/images/themes/theme1/bg.png', profile_background_image_url_https='https://abs.twimg.com/images/themes/theme1/bg.png', profile_background_tile=False, profile_image_url='http://pbs.twimg.com/profile_images/1294654252099309568/McVINFQ1_normal.jpg', profile_image_url_https='https://pbs.twimg.com/profile_images/1294654252099309568/McVINFQ1_normal.jpg', profile_banner_url='https://pbs.twimg.com/profile_banners/147504554/1586269883', profile_link_color='3B94D9', profile_sidebar_border_color='FFFFFF', profile_sidebar_fill_color='DDEEF6', profile_text_color='333333', profile_use_background_image=False, has_extended_profile=True, default_profile=False, default_profile_image=False, following=False, follow_request_sent=False, notifications=False, translator_type='none'), geo=None, coordinates=None, place=None, contributors=None, is_quote_status=True, quoted_status_id=1344864628640124930, quoted_status_id_str='1344864628640124930', quoted_status=Status(_api=<tweepy.api.API object at 0x000002366791FDC8>, _json={'created_at': 'Fri Jan 01 04:34:48 +0000 2021', 'id': 1344864628640124930, 'id_str': '1344864628640124930', 'full_text': 'Make a bold prediction for 2021 👇', 'truncated': False, 'display_text_range': [0, 33], 'entities': {'hashtags': [], 'symbols': [], 'user_mentions': [], 'urls': []}, 'metadata': {'iso_language_code': 'en', 'result_type': 'recent'}, 'source': '<a href=\"https://mobile.twitter.com\" rel=\"nofollow\">Twitter Web App</a>', 'in_reply_to_status_id': None, 'in_reply_to_status_id_str': None, 'in_reply_to_user_id': None, 'in_reply_to_user_id_str': None, 'in_reply_to_screen_name': None, 'user': {'id': 16542390, 'id_str': '16542390', 'name': 'ESPNcricinfo', 'screen_name': 'ESPNcricinfo', 'location': 'At the cricket, mainly', 'description': 'Watch highlights from the Australia-India series in the subcontinent!\\n\\n👉 https://t.co/gCXLpZHVKP', 'url': 'https://t.co/EyZFY87NyE', 'entities': {'url': {'urls': [{'url': 'https://t.co/EyZFY87NyE', 'expanded_url': 'http://es.pn/ci', 'display_url': 'es.pn/ci', 'indices': [0, 23]}]}, 'description': {'urls': [{'url': 'https://t.co/gCXLpZHVKP', 'expanded_url': 'http://es.pn/CI-HLs', 'display_url': 'es.pn/CI-HLs', 'indices': [73, 96]}]}}, 'protected': False, 'followers_count': 5952259, 'friends_count': 199, 'listed_count': 5668, 'created_at': 'Wed Oct 01 10:36:44 +0000 2008', 'favourites_count': 262, 'utc_offset': None, 'time_zone': None, 'geo_enabled': False, 'verified': True, 'statuses_count': 156255, 'lang': None, 'contributors_enabled': False, 'is_translator': False, 'is_translation_enabled': False, 'profile_background_color': 'E0E0E0', 'profile_background_image_url': 'http://abs.twimg.com/images/themes/theme2/bg.gif', 'profile_background_image_url_https': 'https://abs.twimg.com/images/themes/theme2/bg.gif', 'profile_background_tile': False, 'profile_image_url': 'http://pbs.twimg.com/profile_images/888015358958940165/SmaHw6Rj_normal.jpg', 'profile_image_url_https': 'https://pbs.twimg.com/profile_images/888015358958940165/SmaHw6Rj_normal.jpg', 'profile_banner_url': 'https://pbs.twimg.com/profile_banners/16542390/1608808824', 'profile_link_color': '1F98C7', 'profile_sidebar_border_color': 'FFFFFF', 'profile_sidebar_fill_color': 'DAECF4', 'profile_text_color': '663B12', 'profile_use_background_image': True, 'has_extended_profile': False, 'default_profile': False, 'default_profile_image': False, 'following': False, 'follow_request_sent': False, 'notifications': False, 'translator_type': 'none'}, 'geo': None, 'coordinates': None, 'place': None, 'contributors': None, 'is_quote_status': False, 'retweet_count': 30, 'favorite_count': 1540, 'favorited': False, 'retweeted': False, 'lang': 'en'}, created_at=datetime.datetime(2021, 1, 1, 4, 34, 48), id=1344864628640124930, id_str='1344864628640124930', full_text='Make a bold prediction for 2021 👇', truncated=False, display_text_range=[0, 33], entities={'hashtags': [], 'symbols': [], 'user_mentions': [], 'urls': []}, metadata={'iso_language_code': 'en', 'result_type': 'recent'}, source='Twitter Web App', source_url='https://mobile.twitter.com', in_reply_to_status_id=None, in_reply_to_status_id_str=None, in_reply_to_user_id=None, in_reply_to_user_id_str=None, in_reply_to_screen_name=None, author=User(_api=<tweepy.api.API object at 0x000002366791FDC8>, _json={'id': 16542390, 'id_str': '16542390', 'name': 'ESPNcricinfo', 'screen_name': 'ESPNcricinfo', 'location': 'At the cricket, mainly', 'description': 'Watch highlights from the Australia-India series in the subcontinent!\\n\\n👉 https://t.co/gCXLpZHVKP', 'url': 'https://t.co/EyZFY87NyE', 'entities': {'url': {'urls': [{'url': 'https://t.co/EyZFY87NyE', 'expanded_url': 'http://es.pn/ci', 'display_url': 'es.pn/ci', 'indices': [0, 23]}]}, 'description': {'urls': [{'url': 'https://t.co/gCXLpZHVKP', 'expanded_url': 'http://es.pn/CI-HLs', 'display_url': 'es.pn/CI-HLs', 'indices': [73, 96]}]}}, 'protected': False, 'followers_count': 5952259, 'friends_count': 199, 'listed_count': 5668, 'created_at': 'Wed Oct 01 10:36:44 +0000 2008', 'favourites_count': 262, 'utc_offset': None, 'time_zone': None, 'geo_enabled': False, 'verified': True, 'statuses_count': 156255, 'lang': None, 'contributors_enabled': False, 'is_translator': False, 'is_translation_enabled': False, 'profile_background_color': 'E0E0E0', 'profile_background_image_url': 'http://abs.twimg.com/images/themes/theme2/bg.gif', 'profile_background_image_url_https': 'https://abs.twimg.com/images/themes/theme2/bg.gif', 'profile_background_tile': False, 'profile_image_url': 'http://pbs.twimg.com/profile_images/888015358958940165/SmaHw6Rj_normal.jpg', 'profile_image_url_https': 'https://pbs.twimg.com/profile_images/888015358958940165/SmaHw6Rj_normal.jpg', 'profile_banner_url': 'https://pbs.twimg.com/profile_banners/16542390/1608808824', 'profile_link_color': '1F98C7', 'profile_sidebar_border_color': 'FFFFFF', 'profile_sidebar_fill_color': 'DAECF4', 'profile_text_color': '663B12', 'profile_use_background_image': True, 'has_extended_profile': False, 'default_profile': False, 'default_profile_image': False, 'following': False, 'follow_request_sent': False, 'notifications': False, 'translator_type': 'none'}, id=16542390, id_str='16542390', name='ESPNcricinfo', screen_name='ESPNcricinfo', location='At the cricket, mainly', description='Watch highlights from the Australia-India series in the subcontinent!\\n\\n👉 https://t.co/gCXLpZHVKP', url='https://t.co/EyZFY87NyE', entities={'url': {'urls': [{'url': 'https://t.co/EyZFY87NyE', 'expanded_url': 'http://es.pn/ci', 'display_url': 'es.pn/ci', 'indices': [0, 23]}]}, 'description': {'urls': [{'url': 'https://t.co/gCXLpZHVKP', 'expanded_url': 'http://es.pn/CI-HLs', 'display_url': 'es.pn/CI-HLs', 'indices': [73, 96]}]}}, protected=False, followers_count=5952259, friends_count=199, listed_count=5668, created_at=datetime.datetime(2008, 10, 1, 10, 36, 44), favourites_count=262, utc_offset=None, time_zone=None, geo_enabled=False, verified=True, statuses_count=156255, lang=None, contributors_enabled=False, is_translator=False, is_translation_enabled=False, profile_background_color='E0E0E0', profile_background_image_url='http://abs.twimg.com/images/themes/theme2/bg.gif', profile_background_image_url_https='https://abs.twimg.com/images/themes/theme2/bg.gif', profile_background_tile=False, profile_image_url='http://pbs.twimg.com/profile_images/888015358958940165/SmaHw6Rj_normal.jpg', profile_image_url_https='https://pbs.twimg.com/profile_images/888015358958940165/SmaHw6Rj_normal.jpg', profile_banner_url='https://pbs.twimg.com/profile_banners/16542390/1608808824', profile_link_color='1F98C7', profile_sidebar_border_color='FFFFFF', profile_sidebar_fill_color='DAECF4', profile_text_color='663B12', profile_use_background_image=True, has_extended_profile=False, default_profile=False, default_profile_image=False, following=False, follow_request_sent=False, notifications=False, translator_type='none'), user=User(_api=<tweepy.api.API object at 0x000002366791FDC8>, _json={'id': 16542390, 'id_str': '16542390', 'name': 'ESPNcricinfo', 'screen_name': 'ESPNcricinfo', 'location': 'At the cricket, mainly', 'description': 'Watch highlights from the Australia-India series in the subcontinent!\\n\\n👉 https://t.co/gCXLpZHVKP', 'url': 'https://t.co/EyZFY87NyE', 'entities': {'url': {'urls': [{'url': 'https://t.co/EyZFY87NyE', 'expanded_url': 'http://es.pn/ci', 'display_url': 'es.pn/ci', 'indices': [0, 23]}]}, 'description': {'urls': [{'url': 'https://t.co/gCXLpZHVKP', 'expanded_url': 'http://es.pn/CI-HLs', 'display_url': 'es.pn/CI-HLs', 'indices': [73, 96]}]}}, 'protected': False, 'followers_count': 5952259, 'friends_count': 199, 'listed_count': 5668, 'created_at': 'Wed Oct 01 10:36:44 +0000 2008', 'favourites_count': 262, 'utc_offset': None, 'time_zone': None, 'geo_enabled': False, 'verified': True, 'statuses_count': 156255, 'lang': None, 'contributors_enabled': False, 'is_translator': False, 'is_translation_enabled': False, 'profile_background_color': 'E0E0E0', 'profile_background_image_url': 'http://abs.twimg.com/images/themes/theme2/bg.gif', 'profile_background_image_url_https': 'https://abs.twimg.com/images/themes/theme2/bg.gif', 'profile_background_tile': False, 'profile_image_url': 'http://pbs.twimg.com/profile_images/888015358958940165/SmaHw6Rj_normal.jpg', 'profile_image_url_https': 'https://pbs.twimg.com/profile_images/888015358958940165/SmaHw6Rj_normal.jpg', 'profile_banner_url': 'https://pbs.twimg.com/profile_banners/16542390/1608808824', 'profile_link_color': '1F98C7', 'profile_sidebar_border_color': 'FFFFFF', 'profile_sidebar_fill_color': 'DAECF4', 'profile_text_color': '663B12', 'profile_use_background_image': True, 'has_extended_profile': False, 'default_profile': False, 'default_profile_image': False, 'following': False, 'follow_request_sent': False, 'notifications': False, 'translator_type': 'none'}, id=16542390, id_str='16542390', name='ESPNcricinfo', screen_name='ESPNcricinfo', location='At the cricket, mainly', description='Watch highlights from the Australia-India series in the subcontinent!\\n\\n👉 https://t.co/gCXLpZHVKP', url='https://t.co/EyZFY87NyE', entities={'url': {'urls': [{'url': 'https://t.co/EyZFY87NyE', 'expanded_url': 'http://es.pn/ci', 'display_url': 'es.pn/ci', 'indices': [0, 23]}]}, 'description': {'urls': [{'url': 'https://t.co/gCXLpZHVKP', 'expanded_url': 'http://es.pn/CI-HLs', 'display_url': 'es.pn/CI-HLs', 'indices': [73, 96]}]}}, protected=False, followers_count=5952259, friends_count=199, listed_count=5668, created_at=datetime.datetime(2008, 10, 1, 10, 36, 44), favourites_count=262, utc_offset=None, time_zone=None, geo_enabled=False, verified=True, statuses_count=156255, lang=None, contributors_enabled=False, is_translator=False, is_translation_enabled=False, profile_background_color='E0E0E0', profile_background_image_url='http://abs.twimg.com/images/themes/theme2/bg.gif', profile_background_image_url_https='https://abs.twimg.com/images/themes/theme2/bg.gif', profile_background_tile=False, profile_image_url='http://pbs.twimg.com/profile_images/888015358958940165/SmaHw6Rj_normal.jpg', profile_image_url_https='https://pbs.twimg.com/profile_images/888015358958940165/SmaHw6Rj_normal.jpg', profile_banner_url='https://pbs.twimg.com/profile_banners/16542390/1608808824', profile_link_color='1F98C7', profile_sidebar_border_color='FFFFFF', profile_sidebar_fill_color='DAECF4', profile_text_color='663B12', profile_use_background_image=True, has_extended_profile=False, default_profile=False, default_profile_image=False, following=False, follow_request_sent=False, notifications=False, translator_type='none'), geo=None, coordinates=None, place=None, contributors=None, is_quote_status=False, retweet_count=30, favorite_count=1540, favorited=False, retweeted=False, lang='en'), retweet_count=0, favorite_count=1, favorited=False, retweeted=False, possibly_sensitive=False, lang='en') \n",
      "\n",
      ".......................\n",
      "\n",
      "Status(_api=<tweepy.api.API object at 0x000002366791FDC8>, _json={'created_at': 'Fri Jan 01 04:57:18 +0000 2021', 'id': 1344870289235087360, 'id_str': '1344870289235087360', 'full_text': '@ESPNcricinfo RCB winning the IPL trophy \\nIndia will win T20 World cup 😌😌', 'truncated': False, 'display_text_range': [14, 73], 'entities': {'hashtags': [], 'symbols': [], 'user_mentions': [{'screen_name': 'ESPNcricinfo', 'name': 'ESPNcricinfo', 'id': 16542390, 'id_str': '16542390', 'indices': [0, 13]}], 'urls': []}, 'metadata': {'iso_language_code': 'en', 'result_type': 'recent'}, 'source': '<a href=\"http://twitter.com/download/android\" rel=\"nofollow\">Twitter for Android</a>', 'in_reply_to_status_id': 1344864628640124930, 'in_reply_to_status_id_str': '1344864628640124930', 'in_reply_to_user_id': 16542390, 'in_reply_to_user_id_str': '16542390', 'in_reply_to_screen_name': 'ESPNcricinfo', 'user': {'id': 1056196724321067009, 'id_str': '1056196724321067009', 'name': 'Apurva Gaurav', 'screen_name': 'ApurvaGaurav2', 'location': '', 'description': 'Kohli❤️Dhoni❤️\\n\\n🇮🇳 🇮🇳', 'url': None, 'entities': {'description': {'urls': []}}, 'protected': False, 'followers_count': 23, 'friends_count': 281, 'listed_count': 0, 'created_at': 'Sat Oct 27 14:51:37 +0000 2018', 'favourites_count': 10316, 'utc_offset': None, 'time_zone': None, 'geo_enabled': False, 'verified': False, 'statuses_count': 281, 'lang': None, 'contributors_enabled': False, 'is_translator': False, 'is_translation_enabled': False, 'profile_background_color': 'F5F8FA', 'profile_background_image_url': None, 'profile_background_image_url_https': None, 'profile_background_tile': False, 'profile_image_url': 'http://pbs.twimg.com/profile_images/1334511223514292228/A8g6ub8O_normal.jpg', 'profile_image_url_https': 'https://pbs.twimg.com/profile_images/1334511223514292228/A8g6ub8O_normal.jpg', 'profile_banner_url': 'https://pbs.twimg.com/profile_banners/1056196724321067009/1609248640', 'profile_link_color': '1DA1F2', 'profile_sidebar_border_color': 'C0DEED', 'profile_sidebar_fill_color': 'DDEEF6', 'profile_text_color': '333333', 'profile_use_background_image': True, 'has_extended_profile': False, 'default_profile': True, 'default_profile_image': False, 'following': False, 'follow_request_sent': False, 'notifications': False, 'translator_type': 'none'}, 'geo': None, 'coordinates': None, 'place': None, 'contributors': None, 'is_quote_status': False, 'retweet_count': 0, 'favorite_count': 0, 'favorited': False, 'retweeted': False, 'lang': 'en'}, created_at=datetime.datetime(2021, 1, 1, 4, 57, 18), id=1344870289235087360, id_str='1344870289235087360', full_text='@ESPNcricinfo RCB winning the IPL trophy \\nIndia will win T20 World cup 😌😌', truncated=False, display_text_range=[14, 73], entities={'hashtags': [], 'symbols': [], 'user_mentions': [{'screen_name': 'ESPNcricinfo', 'name': 'ESPNcricinfo', 'id': 16542390, 'id_str': '16542390', 'indices': [0, 13]}], 'urls': []}, metadata={'iso_language_code': 'en', 'result_type': 'recent'}, source='Twitter for Android', source_url='http://twitter.com/download/android', in_reply_to_status_id=1344864628640124930, in_reply_to_status_id_str='1344864628640124930', in_reply_to_user_id=16542390, in_reply_to_user_id_str='16542390', in_reply_to_screen_name='ESPNcricinfo', author=User(_api=<tweepy.api.API object at 0x000002366791FDC8>, _json={'id': 1056196724321067009, 'id_str': '1056196724321067009', 'name': 'Apurva Gaurav', 'screen_name': 'ApurvaGaurav2', 'location': '', 'description': 'Kohli❤️Dhoni❤️\\n\\n🇮🇳 🇮🇳', 'url': None, 'entities': {'description': {'urls': []}}, 'protected': False, 'followers_count': 23, 'friends_count': 281, 'listed_count': 0, 'created_at': 'Sat Oct 27 14:51:37 +0000 2018', 'favourites_count': 10316, 'utc_offset': None, 'time_zone': None, 'geo_enabled': False, 'verified': False, 'statuses_count': 281, 'lang': None, 'contributors_enabled': False, 'is_translator': False, 'is_translation_enabled': False, 'profile_background_color': 'F5F8FA', 'profile_background_image_url': None, 'profile_background_image_url_https': None, 'profile_background_tile': False, 'profile_image_url': 'http://pbs.twimg.com/profile_images/1334511223514292228/A8g6ub8O_normal.jpg', 'profile_image_url_https': 'https://pbs.twimg.com/profile_images/1334511223514292228/A8g6ub8O_normal.jpg', 'profile_banner_url': 'https://pbs.twimg.com/profile_banners/1056196724321067009/1609248640', 'profile_link_color': '1DA1F2', 'profile_sidebar_border_color': 'C0DEED', 'profile_sidebar_fill_color': 'DDEEF6', 'profile_text_color': '333333', 'profile_use_background_image': True, 'has_extended_profile': False, 'default_profile': True, 'default_profile_image': False, 'following': False, 'follow_request_sent': False, 'notifications': False, 'translator_type': 'none'}, id=1056196724321067009, id_str='1056196724321067009', name='Apurva Gaurav', screen_name='ApurvaGaurav2', location='', description='Kohli❤️Dhoni❤️\\n\\n🇮🇳 🇮🇳', url=None, entities={'description': {'urls': []}}, protected=False, followers_count=23, friends_count=281, listed_count=0, created_at=datetime.datetime(2018, 10, 27, 14, 51, 37), favourites_count=10316, utc_offset=None, time_zone=None, geo_enabled=False, verified=False, statuses_count=281, lang=None, contributors_enabled=False, is_translator=False, is_translation_enabled=False, profile_background_color='F5F8FA', profile_background_image_url=None, profile_background_image_url_https=None, profile_background_tile=False, profile_image_url='http://pbs.twimg.com/profile_images/1334511223514292228/A8g6ub8O_normal.jpg', profile_image_url_https='https://pbs.twimg.com/profile_images/1334511223514292228/A8g6ub8O_normal.jpg', profile_banner_url='https://pbs.twimg.com/profile_banners/1056196724321067009/1609248640', profile_link_color='1DA1F2', profile_sidebar_border_color='C0DEED', profile_sidebar_fill_color='DDEEF6', profile_text_color='333333', profile_use_background_image=True, has_extended_profile=False, default_profile=True, default_profile_image=False, following=False, follow_request_sent=False, notifications=False, translator_type='none'), user=User(_api=<tweepy.api.API object at 0x000002366791FDC8>, _json={'id': 1056196724321067009, 'id_str': '1056196724321067009', 'name': 'Apurva Gaurav', 'screen_name': 'ApurvaGaurav2', 'location': '', 'description': 'Kohli❤️Dhoni❤️\\n\\n🇮🇳 🇮🇳', 'url': None, 'entities': {'description': {'urls': []}}, 'protected': False, 'followers_count': 23, 'friends_count': 281, 'listed_count': 0, 'created_at': 'Sat Oct 27 14:51:37 +0000 2018', 'favourites_count': 10316, 'utc_offset': None, 'time_zone': None, 'geo_enabled': False, 'verified': False, 'statuses_count': 281, 'lang': None, 'contributors_enabled': False, 'is_translator': False, 'is_translation_enabled': False, 'profile_background_color': 'F5F8FA', 'profile_background_image_url': None, 'profile_background_image_url_https': None, 'profile_background_tile': False, 'profile_image_url': 'http://pbs.twimg.com/profile_images/1334511223514292228/A8g6ub8O_normal.jpg', 'profile_image_url_https': 'https://pbs.twimg.com/profile_images/1334511223514292228/A8g6ub8O_normal.jpg', 'profile_banner_url': 'https://pbs.twimg.com/profile_banners/1056196724321067009/1609248640', 'profile_link_color': '1DA1F2', 'profile_sidebar_border_color': 'C0DEED', 'profile_sidebar_fill_color': 'DDEEF6', 'profile_text_color': '333333', 'profile_use_background_image': True, 'has_extended_profile': False, 'default_profile': True, 'default_profile_image': False, 'following': False, 'follow_request_sent': False, 'notifications': False, 'translator_type': 'none'}, id=1056196724321067009, id_str='1056196724321067009', name='Apurva Gaurav', screen_name='ApurvaGaurav2', location='', description='Kohli❤️Dhoni❤️\\n\\n🇮🇳 🇮🇳', url=None, entities={'description': {'urls': []}}, protected=False, followers_count=23, friends_count=281, listed_count=0, created_at=datetime.datetime(2018, 10, 27, 14, 51, 37), favourites_count=10316, utc_offset=None, time_zone=None, geo_enabled=False, verified=False, statuses_count=281, lang=None, contributors_enabled=False, is_translator=False, is_translation_enabled=False, profile_background_color='F5F8FA', profile_background_image_url=None, profile_background_image_url_https=None, profile_background_tile=False, profile_image_url='http://pbs.twimg.com/profile_images/1334511223514292228/A8g6ub8O_normal.jpg', profile_image_url_https='https://pbs.twimg.com/profile_images/1334511223514292228/A8g6ub8O_normal.jpg', profile_banner_url='https://pbs.twimg.com/profile_banners/1056196724321067009/1609248640', profile_link_color='1DA1F2', profile_sidebar_border_color='C0DEED', profile_sidebar_fill_color='DDEEF6', profile_text_color='333333', profile_use_background_image=True, has_extended_profile=False, default_profile=True, default_profile_image=False, following=False, follow_request_sent=False, notifications=False, translator_type='none'), geo=None, coordinates=None, place=None, contributors=None, is_quote_status=False, retweet_count=0, favorite_count=0, favorited=False, retweeted=False, lang='en') \n",
      "\n",
      ".......................\n",
      "\n"
     ]
    }
   ],
   "source": [
    "Tweets = api.search( query , count=10, lang='en' , excluder='retweets' , tweet_mode='extended' )\n",
    "for tweet in Tweets:\n",
    "    print(tweet,\"\\n\")\n",
    "    print(\".......................\\n\")"
   ]
  },
  {
   "cell_type": "markdown",
   "metadata": {},
   "source": [
    "# Get the tweets and some Attributes"
   ]
  },
  {
   "cell_type": "code",
   "execution_count": 6,
   "metadata": {},
   "outputs": [
    {
     "name": "stdout",
     "output_type": "stream",
     "text": [
      "Empty DataFrame\n",
      "Columns: [Tweets, User, User_statuses_count, user_followers, User_location, User_verified, fav_count, rt_count, tweet_date]\n",
      "Index: []\n"
     ]
    }
   ],
   "source": [
    "df = pd.DataFrame(columns = ['Tweets' , 'User' , 'User_statuses_count' , \n",
    "                            'user_followers' , 'User_location' , 'User_verified' ,\n",
    "                            'fav_count' , 'rt_count' , 'tweet_date'])\n",
    "print(df)"
   ]
  },
  {
   "cell_type": "code",
   "execution_count": 7,
   "metadata": {},
   "outputs": [],
   "source": [
    "def stream(data, file_name):\n",
    "    i=0\n",
    "    for tweet in tweepy.Cursor(api.search, q=data, count=100, lang='en').items():\n",
    "        print(i, end='\\r')\n",
    "        df.loc[i, 'Tweets'] = tweet.text\n",
    "        df.loc[i, 'User'] = tweet.user.name\n",
    "        df.loc[i, 'User_statuses_count'] = tweet.user.statuses_count\n",
    "        df.loc[i, 'User_followers'] = tweet.user.followers_count\n",
    "        df.loc[i, 'User_location'] = tweet.user.location\n",
    "        df.loc[i, 'user_verified'] = tweet.user.verified\n",
    "        df.loc[i, 'fav_count'] = tweet.favorite_count\n",
    "        df.loc[i, 'rt_count'] = tweet.retweet_count\n",
    "        df.loc[i, 'tweet_date'] = tweet.created_at\n",
    "        df.to_excel('{}.xlsx'.format(file_name))\n",
    "        i = i+1\n",
    "        if i == 1000:\n",
    "            break\n",
    "        else:\n",
    "            pass"
   ]
  },
  {
   "cell_type": "code",
   "execution_count": 8,
   "metadata": {},
   "outputs": [
    {
     "name": "stdout",
     "output_type": "stream",
     "text": [
      "59\r"
     ]
    }
   ],
   "source": [
    "stream(data=[\"RCB winning IPL\"] , file_name='my_tweets')"
   ]
  },
  {
   "cell_type": "code",
   "execution_count": 9,
   "metadata": {},
   "outputs": [
    {
     "data": {
      "text/html": [
       "<div>\n",
       "<style scoped>\n",
       "    .dataframe tbody tr th:only-of-type {\n",
       "        vertical-align: middle;\n",
       "    }\n",
       "\n",
       "    .dataframe tbody tr th {\n",
       "        vertical-align: top;\n",
       "    }\n",
       "\n",
       "    .dataframe thead th {\n",
       "        text-align: right;\n",
       "    }\n",
       "</style>\n",
       "<table border=\"1\" class=\"dataframe\">\n",
       "  <thead>\n",
       "    <tr style=\"text-align: right;\">\n",
       "      <th></th>\n",
       "      <th>Tweets</th>\n",
       "      <th>User</th>\n",
       "      <th>User_statuses_count</th>\n",
       "      <th>user_followers</th>\n",
       "      <th>User_location</th>\n",
       "      <th>User_verified</th>\n",
       "      <th>fav_count</th>\n",
       "      <th>rt_count</th>\n",
       "      <th>tweet_date</th>\n",
       "      <th>User_followers</th>\n",
       "      <th>user_verified</th>\n",
       "    </tr>\n",
       "  </thead>\n",
       "  <tbody>\n",
       "    <tr>\n",
       "      <th>0</th>\n",
       "      <td>@StarSportsIndia INDIA WINNING T20 WC\\nRCB WIL...</td>\n",
       "      <td>Kriti Sharma</td>\n",
       "      <td>85</td>\n",
       "      <td>NaN</td>\n",
       "      <td></td>\n",
       "      <td>NaN</td>\n",
       "      <td>0</td>\n",
       "      <td>0</td>\n",
       "      <td>2021-01-01 06:32:29</td>\n",
       "      <td>171.0</td>\n",
       "      <td>False</td>\n",
       "    </tr>\n",
       "    <tr>\n",
       "      <th>1</th>\n",
       "      <td>@ItsYashswiniR Want to see RCB @RCBTweets  win...</td>\n",
       "      <td>Sandeep</td>\n",
       "      <td>14</td>\n",
       "      <td>NaN</td>\n",
       "      <td>Hyderabad</td>\n",
       "      <td>NaN</td>\n",
       "      <td>1</td>\n",
       "      <td>0</td>\n",
       "      <td>2021-01-01 06:32:21</td>\n",
       "      <td>1.0</td>\n",
       "      <td>False</td>\n",
       "    </tr>\n",
       "    <tr>\n",
       "      <th>2</th>\n",
       "      <td>@StarSportsIndia Rcb winning an IPL trophy 😂</td>\n",
       "      <td>R-O-H-I-T❣️</td>\n",
       "      <td>440</td>\n",
       "      <td>NaN</td>\n",
       "      <td>Chandabali, Bhadrak</td>\n",
       "      <td>NaN</td>\n",
       "      <td>0</td>\n",
       "      <td>0</td>\n",
       "      <td>2021-01-01 06:31:20</td>\n",
       "      <td>38.0</td>\n",
       "      <td>False</td>\n",
       "    </tr>\n",
       "    <tr>\n",
       "      <th>3</th>\n",
       "      <td>Rcb winning Ipl title this year🥳 https://t.co/...</td>\n",
       "      <td>crick_foot_lover</td>\n",
       "      <td>14880</td>\n",
       "      <td>NaN</td>\n",
       "      <td></td>\n",
       "      <td>NaN</td>\n",
       "      <td>1</td>\n",
       "      <td>0</td>\n",
       "      <td>2021-01-01 05:41:21</td>\n",
       "      <td>588.0</td>\n",
       "      <td>False</td>\n",
       "    </tr>\n",
       "    <tr>\n",
       "      <th>4</th>\n",
       "      <td>@ESPNcricinfo RCB winning IPL 2021. @ESPNcrici...</td>\n",
       "      <td>Frank</td>\n",
       "      <td>27471</td>\n",
       "      <td>NaN</td>\n",
       "      <td>Everywhere</td>\n",
       "      <td>NaN</td>\n",
       "      <td>0</td>\n",
       "      <td>0</td>\n",
       "      <td>2021-01-01 05:33:33</td>\n",
       "      <td>993.0</td>\n",
       "      <td>False</td>\n",
       "    </tr>\n",
       "  </tbody>\n",
       "</table>\n",
       "</div>"
      ],
      "text/plain": [
       "                                              Tweets              User  \\\n",
       "0  @StarSportsIndia INDIA WINNING T20 WC\\nRCB WIL...      Kriti Sharma   \n",
       "1  @ItsYashswiniR Want to see RCB @RCBTweets  win...           Sandeep   \n",
       "2       @StarSportsIndia Rcb winning an IPL trophy 😂       R-O-H-I-T❣️   \n",
       "3  Rcb winning Ipl title this year🥳 https://t.co/...  crick_foot_lover   \n",
       "4  @ESPNcricinfo RCB winning IPL 2021. @ESPNcrici...             Frank   \n",
       "\n",
       "  User_statuses_count user_followers        User_location User_verified  \\\n",
       "0                  85            NaN                                NaN   \n",
       "1                  14            NaN            Hyderabad           NaN   \n",
       "2                 440            NaN  Chandabali, Bhadrak           NaN   \n",
       "3               14880            NaN                                NaN   \n",
       "4               27471            NaN           Everywhere           NaN   \n",
       "\n",
       "  fav_count rt_count           tweet_date  User_followers user_verified  \n",
       "0         0        0  2021-01-01 06:32:29           171.0         False  \n",
       "1         1        0  2021-01-01 06:32:21             1.0         False  \n",
       "2         0        0  2021-01-01 06:31:20            38.0         False  \n",
       "3         1        0  2021-01-01 05:41:21           588.0         False  \n",
       "4         0        0  2021-01-01 05:33:33           993.0         False  "
      ]
     },
     "execution_count": 9,
     "metadata": {},
     "output_type": "execute_result"
    }
   ],
   "source": [
    "df.head()"
   ]
  },
  {
   "cell_type": "raw",
   "metadata": {},
   "source": [
    "!pip install textblob"
   ]
  },
  {
   "cell_type": "raw",
   "metadata": {},
   "source": [
    "Sentiment(polarity, subjectivity)\n",
    "\n",
    "Polarity score: [-1 , +1]\n",
    "    \n",
    "Subjectivity: [0.0 , 1.0]\n",
    "where 0.0 is very objective and 1.0 is very subjective."
   ]
  },
  {
   "cell_type": "code",
   "execution_count": 10,
   "metadata": {},
   "outputs": [],
   "source": [
    "from textblob import TextBlob"
   ]
  },
  {
   "cell_type": "code",
   "execution_count": 11,
   "metadata": {},
   "outputs": [],
   "source": [
    "import re\n",
    "def clean_tweet(tweet):\n",
    "    return ' '.join(re.sub('(@[A-za-z0-9]+)|([^0-9A-Za-z \\t])|(\\w+:\\/\\/\\s+)',' ', tweet).split())"
   ]
  },
  {
   "cell_type": "code",
   "execution_count": 12,
   "metadata": {},
   "outputs": [],
   "source": [
    "def analyze_sentiment(tweet):\n",
    "    analysis = TextBlob(tweet)\n",
    "    if analysis.sentiment.polarity > 0:\n",
    "        return 'Positive'\n",
    "    elif analysis.sentiment.polarity == 0:\n",
    "        return 'Neutral'\n",
    "    else:\n",
    "        return 'Negative'"
   ]
  },
  {
   "cell_type": "code",
   "execution_count": 13,
   "metadata": {},
   "outputs": [],
   "source": [
    "df['clean_tweet'] = df['Tweets'].apply(lambda x : clean_tweet(x))"
   ]
  },
  {
   "cell_type": "code",
   "execution_count": 14,
   "metadata": {
    "scrolled": true
   },
   "outputs": [
    {
     "data": {
      "text/html": [
       "<div>\n",
       "<style scoped>\n",
       "    .dataframe tbody tr th:only-of-type {\n",
       "        vertical-align: middle;\n",
       "    }\n",
       "\n",
       "    .dataframe tbody tr th {\n",
       "        vertical-align: top;\n",
       "    }\n",
       "\n",
       "    .dataframe thead th {\n",
       "        text-align: right;\n",
       "    }\n",
       "</style>\n",
       "<table border=\"1\" class=\"dataframe\">\n",
       "  <thead>\n",
       "    <tr style=\"text-align: right;\">\n",
       "      <th></th>\n",
       "      <th>Tweets</th>\n",
       "      <th>User</th>\n",
       "      <th>User_statuses_count</th>\n",
       "      <th>user_followers</th>\n",
       "      <th>User_location</th>\n",
       "      <th>User_verified</th>\n",
       "      <th>fav_count</th>\n",
       "      <th>rt_count</th>\n",
       "      <th>tweet_date</th>\n",
       "      <th>User_followers</th>\n",
       "      <th>user_verified</th>\n",
       "      <th>clean_tweet</th>\n",
       "    </tr>\n",
       "  </thead>\n",
       "  <tbody>\n",
       "    <tr>\n",
       "      <th>0</th>\n",
       "      <td>@StarSportsIndia INDIA WINNING T20 WC\\nRCB WIL...</td>\n",
       "      <td>Kriti Sharma</td>\n",
       "      <td>85</td>\n",
       "      <td>NaN</td>\n",
       "      <td></td>\n",
       "      <td>NaN</td>\n",
       "      <td>0</td>\n",
       "      <td>0</td>\n",
       "      <td>2021-01-01 06:32:29</td>\n",
       "      <td>171.0</td>\n",
       "      <td>False</td>\n",
       "      <td>INDIA WINNING T20 WC RCB WILL WIN IPL TROPHY R...</td>\n",
       "    </tr>\n",
       "    <tr>\n",
       "      <th>1</th>\n",
       "      <td>@ItsYashswiniR Want to see RCB @RCBTweets  win...</td>\n",
       "      <td>Sandeep</td>\n",
       "      <td>14</td>\n",
       "      <td>NaN</td>\n",
       "      <td>Hyderabad</td>\n",
       "      <td>NaN</td>\n",
       "      <td>1</td>\n",
       "      <td>0</td>\n",
       "      <td>2021-01-01 06:32:21</td>\n",
       "      <td>1.0</td>\n",
       "      <td>False</td>\n",
       "      <td>Want to see RCB winning the IPL title</td>\n",
       "    </tr>\n",
       "    <tr>\n",
       "      <th>2</th>\n",
       "      <td>@StarSportsIndia Rcb winning an IPL trophy 😂</td>\n",
       "      <td>R-O-H-I-T❣️</td>\n",
       "      <td>440</td>\n",
       "      <td>NaN</td>\n",
       "      <td>Chandabali, Bhadrak</td>\n",
       "      <td>NaN</td>\n",
       "      <td>0</td>\n",
       "      <td>0</td>\n",
       "      <td>2021-01-01 06:31:20</td>\n",
       "      <td>38.0</td>\n",
       "      <td>False</td>\n",
       "      <td>Rcb winning an IPL trophy</td>\n",
       "    </tr>\n",
       "    <tr>\n",
       "      <th>3</th>\n",
       "      <td>Rcb winning Ipl title this year🥳 https://t.co/...</td>\n",
       "      <td>crick_foot_lover</td>\n",
       "      <td>14880</td>\n",
       "      <td>NaN</td>\n",
       "      <td></td>\n",
       "      <td>NaN</td>\n",
       "      <td>1</td>\n",
       "      <td>0</td>\n",
       "      <td>2021-01-01 05:41:21</td>\n",
       "      <td>588.0</td>\n",
       "      <td>False</td>\n",
       "      <td>Rcb winning Ipl title this year https t co KRb...</td>\n",
       "    </tr>\n",
       "    <tr>\n",
       "      <th>4</th>\n",
       "      <td>@ESPNcricinfo RCB winning IPL 2021. @ESPNcrici...</td>\n",
       "      <td>Frank</td>\n",
       "      <td>27471</td>\n",
       "      <td>NaN</td>\n",
       "      <td>Everywhere</td>\n",
       "      <td>NaN</td>\n",
       "      <td>0</td>\n",
       "      <td>0</td>\n",
       "      <td>2021-01-01 05:33:33</td>\n",
       "      <td>993.0</td>\n",
       "      <td>False</td>\n",
       "      <td>RCB winning IPL 2021 quote this if you ve have...</td>\n",
       "    </tr>\n",
       "  </tbody>\n",
       "</table>\n",
       "</div>"
      ],
      "text/plain": [
       "                                              Tweets              User  \\\n",
       "0  @StarSportsIndia INDIA WINNING T20 WC\\nRCB WIL...      Kriti Sharma   \n",
       "1  @ItsYashswiniR Want to see RCB @RCBTweets  win...           Sandeep   \n",
       "2       @StarSportsIndia Rcb winning an IPL trophy 😂       R-O-H-I-T❣️   \n",
       "3  Rcb winning Ipl title this year🥳 https://t.co/...  crick_foot_lover   \n",
       "4  @ESPNcricinfo RCB winning IPL 2021. @ESPNcrici...             Frank   \n",
       "\n",
       "  User_statuses_count user_followers        User_location User_verified  \\\n",
       "0                  85            NaN                                NaN   \n",
       "1                  14            NaN            Hyderabad           NaN   \n",
       "2                 440            NaN  Chandabali, Bhadrak           NaN   \n",
       "3               14880            NaN                                NaN   \n",
       "4               27471            NaN           Everywhere           NaN   \n",
       "\n",
       "  fav_count rt_count           tweet_date  User_followers user_verified  \\\n",
       "0         0        0  2021-01-01 06:32:29           171.0         False   \n",
       "1         1        0  2021-01-01 06:32:21             1.0         False   \n",
       "2         0        0  2021-01-01 06:31:20            38.0         False   \n",
       "3         1        0  2021-01-01 05:41:21           588.0         False   \n",
       "4         0        0  2021-01-01 05:33:33           993.0         False   \n",
       "\n",
       "                                         clean_tweet  \n",
       "0  INDIA WINNING T20 WC RCB WILL WIN IPL TROPHY R...  \n",
       "1              Want to see RCB winning the IPL title  \n",
       "2                          Rcb winning an IPL trophy  \n",
       "3  Rcb winning Ipl title this year https t co KRb...  \n",
       "4  RCB winning IPL 2021 quote this if you ve have...  "
      ]
     },
     "execution_count": 14,
     "metadata": {},
     "output_type": "execute_result"
    }
   ],
   "source": [
    "df.head()"
   ]
  },
  {
   "cell_type": "code",
   "execution_count": 15,
   "metadata": {},
   "outputs": [
    {
     "data": {
      "text/html": [
       "<div>\n",
       "<style scoped>\n",
       "    .dataframe tbody tr th:only-of-type {\n",
       "        vertical-align: middle;\n",
       "    }\n",
       "\n",
       "    .dataframe tbody tr th {\n",
       "        vertical-align: top;\n",
       "    }\n",
       "\n",
       "    .dataframe thead th {\n",
       "        text-align: right;\n",
       "    }\n",
       "</style>\n",
       "<table border=\"1\" class=\"dataframe\">\n",
       "  <thead>\n",
       "    <tr style=\"text-align: right;\">\n",
       "      <th></th>\n",
       "      <th>Tweets</th>\n",
       "      <th>User</th>\n",
       "      <th>User_statuses_count</th>\n",
       "      <th>user_followers</th>\n",
       "      <th>User_location</th>\n",
       "      <th>User_verified</th>\n",
       "      <th>fav_count</th>\n",
       "      <th>rt_count</th>\n",
       "      <th>tweet_date</th>\n",
       "      <th>User_followers</th>\n",
       "      <th>user_verified</th>\n",
       "      <th>clean_tweet</th>\n",
       "      <th>Sentiment</th>\n",
       "    </tr>\n",
       "  </thead>\n",
       "  <tbody>\n",
       "    <tr>\n",
       "      <th>0</th>\n",
       "      <td>@StarSportsIndia INDIA WINNING T20 WC\\nRCB WIL...</td>\n",
       "      <td>Kriti Sharma</td>\n",
       "      <td>85</td>\n",
       "      <td>NaN</td>\n",
       "      <td></td>\n",
       "      <td>NaN</td>\n",
       "      <td>0</td>\n",
       "      <td>0</td>\n",
       "      <td>2021-01-01 06:32:29</td>\n",
       "      <td>171.0</td>\n",
       "      <td>False</td>\n",
       "      <td>INDIA WINNING T20 WC RCB WILL WIN IPL TROPHY R...</td>\n",
       "      <td>Positive</td>\n",
       "    </tr>\n",
       "    <tr>\n",
       "      <th>1</th>\n",
       "      <td>@ItsYashswiniR Want to see RCB @RCBTweets  win...</td>\n",
       "      <td>Sandeep</td>\n",
       "      <td>14</td>\n",
       "      <td>NaN</td>\n",
       "      <td>Hyderabad</td>\n",
       "      <td>NaN</td>\n",
       "      <td>1</td>\n",
       "      <td>0</td>\n",
       "      <td>2021-01-01 06:32:21</td>\n",
       "      <td>1.0</td>\n",
       "      <td>False</td>\n",
       "      <td>Want to see RCB winning the IPL title</td>\n",
       "      <td>Positive</td>\n",
       "    </tr>\n",
       "    <tr>\n",
       "      <th>2</th>\n",
       "      <td>@StarSportsIndia Rcb winning an IPL trophy 😂</td>\n",
       "      <td>R-O-H-I-T❣️</td>\n",
       "      <td>440</td>\n",
       "      <td>NaN</td>\n",
       "      <td>Chandabali, Bhadrak</td>\n",
       "      <td>NaN</td>\n",
       "      <td>0</td>\n",
       "      <td>0</td>\n",
       "      <td>2021-01-01 06:31:20</td>\n",
       "      <td>38.0</td>\n",
       "      <td>False</td>\n",
       "      <td>Rcb winning an IPL trophy</td>\n",
       "      <td>Positive</td>\n",
       "    </tr>\n",
       "    <tr>\n",
       "      <th>3</th>\n",
       "      <td>Rcb winning Ipl title this year🥳 https://t.co/...</td>\n",
       "      <td>crick_foot_lover</td>\n",
       "      <td>14880</td>\n",
       "      <td>NaN</td>\n",
       "      <td></td>\n",
       "      <td>NaN</td>\n",
       "      <td>1</td>\n",
       "      <td>0</td>\n",
       "      <td>2021-01-01 05:41:21</td>\n",
       "      <td>588.0</td>\n",
       "      <td>False</td>\n",
       "      <td>Rcb winning Ipl title this year https t co KRb...</td>\n",
       "      <td>Positive</td>\n",
       "    </tr>\n",
       "    <tr>\n",
       "      <th>4</th>\n",
       "      <td>@ESPNcricinfo RCB winning IPL 2021. @ESPNcrici...</td>\n",
       "      <td>Frank</td>\n",
       "      <td>27471</td>\n",
       "      <td>NaN</td>\n",
       "      <td>Everywhere</td>\n",
       "      <td>NaN</td>\n",
       "      <td>0</td>\n",
       "      <td>0</td>\n",
       "      <td>2021-01-01 05:33:33</td>\n",
       "      <td>993.0</td>\n",
       "      <td>False</td>\n",
       "      <td>RCB winning IPL 2021 quote this if you ve have...</td>\n",
       "      <td>Positive</td>\n",
       "    </tr>\n",
       "  </tbody>\n",
       "</table>\n",
       "</div>"
      ],
      "text/plain": [
       "                                              Tweets              User  \\\n",
       "0  @StarSportsIndia INDIA WINNING T20 WC\\nRCB WIL...      Kriti Sharma   \n",
       "1  @ItsYashswiniR Want to see RCB @RCBTweets  win...           Sandeep   \n",
       "2       @StarSportsIndia Rcb winning an IPL trophy 😂       R-O-H-I-T❣️   \n",
       "3  Rcb winning Ipl title this year🥳 https://t.co/...  crick_foot_lover   \n",
       "4  @ESPNcricinfo RCB winning IPL 2021. @ESPNcrici...             Frank   \n",
       "\n",
       "  User_statuses_count user_followers        User_location User_verified  \\\n",
       "0                  85            NaN                                NaN   \n",
       "1                  14            NaN            Hyderabad           NaN   \n",
       "2                 440            NaN  Chandabali, Bhadrak           NaN   \n",
       "3               14880            NaN                                NaN   \n",
       "4               27471            NaN           Everywhere           NaN   \n",
       "\n",
       "  fav_count rt_count           tweet_date  User_followers user_verified  \\\n",
       "0         0        0  2021-01-01 06:32:29           171.0         False   \n",
       "1         1        0  2021-01-01 06:32:21             1.0         False   \n",
       "2         0        0  2021-01-01 06:31:20            38.0         False   \n",
       "3         1        0  2021-01-01 05:41:21           588.0         False   \n",
       "4         0        0  2021-01-01 05:33:33           993.0         False   \n",
       "\n",
       "                                         clean_tweet Sentiment  \n",
       "0  INDIA WINNING T20 WC RCB WILL WIN IPL TROPHY R...  Positive  \n",
       "1              Want to see RCB winning the IPL title  Positive  \n",
       "2                          Rcb winning an IPL trophy  Positive  \n",
       "3  Rcb winning Ipl title this year https t co KRb...  Positive  \n",
       "4  RCB winning IPL 2021 quote this if you ve have...  Positive  "
      ]
     },
     "execution_count": 15,
     "metadata": {},
     "output_type": "execute_result"
    }
   ],
   "source": [
    "df['Sentiment'] = df['clean_tweet'].apply(lambda x : analyze_sentiment(x) ) \n",
    "df.head()"
   ]
  },
  {
   "cell_type": "code",
   "execution_count": 16,
   "metadata": {},
   "outputs": [
    {
     "name": "stdout",
     "output_type": "stream",
     "text": [
      "Original tweet:\n",
      " @ItsYashswiniR Want to see RCB @RCBTweets  winning the IPL title\n",
      "\n",
      "Clean twwet:\n",
      " Want to see RCB winning the IPL title\n",
      "\n",
      "Sentiment of the tweet:\n",
      " Positive\n"
     ]
    }
   ],
   "source": [
    "n = 1\n",
    "print(\"Original tweet:\\n\" , df['Tweets'][n])\n",
    "print()\n",
    "print(\"Clean twwet:\\n\",df['clean_tweet'][n])\n",
    "print()\n",
    "print(\"Sentiment of the tweet:\\n\",df['Sentiment'][n])"
   ]
  },
  {
   "cell_type": "code",
   "execution_count": 17,
   "metadata": {},
   "outputs": [
    {
     "name": "stdout",
     "output_type": "stream",
     "text": [
      "Original tweet:\n",
      " 2021 wishes -\n",
      "\n",
      "1) India winning T20 WC n WTC , RCB to win IPL\n",
      "2) Madrid winning UCL and Spain winning Euro\n",
      "3) Virat… https://t.co/2jIhhkdGRS\n",
      "\n",
      "Clean twwet:\n",
      " 2021 wishes 1 India winning T20 WC n WTC RCB to win IPL 2 Madrid winning UCL and Spain winning Euro 3 Virat https t co 2jIhhkdGRS\n",
      "\n",
      "Sentiment of the tweet:\n",
      " Positive\n"
     ]
    }
   ],
   "source": [
    "n = 20\n",
    "print(\"Original tweet:\\n\" , df['Tweets'][n])\n",
    "print()\n",
    "print(\"Clean twwet:\\n\",df['clean_tweet'][n])\n",
    "print()\n",
    "print(\"Sentiment of the tweet:\\n\",df['Sentiment'][n])"
   ]
  },
  {
   "cell_type": "code",
   "execution_count": 18,
   "metadata": {},
   "outputs": [
    {
     "data": {
      "text/plain": [
       "51"
      ]
     },
     "execution_count": 18,
     "metadata": {},
     "output_type": "execute_result"
    }
   ],
   "source": [
    "df[df.Sentiment == 'Positive'].shape[0]"
   ]
  },
  {
   "cell_type": "code",
   "execution_count": 19,
   "metadata": {},
   "outputs": [
    {
     "data": {
      "text/plain": [
       "4"
      ]
     },
     "execution_count": 19,
     "metadata": {},
     "output_type": "execute_result"
    }
   ],
   "source": [
    "df[df.Sentiment == 'Neutral'].shape[0]"
   ]
  },
  {
   "cell_type": "code",
   "execution_count": 20,
   "metadata": {},
   "outputs": [
    {
     "data": {
      "text/plain": [
       "5"
      ]
     },
     "execution_count": 20,
     "metadata": {},
     "output_type": "execute_result"
    }
   ],
   "source": [
    "df[df.Sentiment == 'Negative'].shape[0]"
   ]
  }
 ],
 "metadata": {
  "kernelspec": {
   "display_name": "Python 3",
   "language": "python",
   "name": "python3"
  },
  "language_info": {
   "codemirror_mode": {
    "name": "ipython",
    "version": 3
   },
   "file_extension": ".py",
   "mimetype": "text/x-python",
   "name": "python",
   "nbconvert_exporter": "python",
   "pygments_lexer": "ipython3",
   "version": "3.7.6"
  }
 },
 "nbformat": 4,
 "nbformat_minor": 4
}
