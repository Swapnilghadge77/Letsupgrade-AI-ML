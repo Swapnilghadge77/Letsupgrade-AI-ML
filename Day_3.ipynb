{
  "nbformat": 4,
  "nbformat_minor": 0,
  "metadata": {
    "colab": {
      "name": "Day 3.ipynb",
      "provenance": [],
      "collapsed_sections": []
    },
    "kernelspec": {
      "name": "python3",
      "display_name": "Python 3"
    }
  },
  "cells": [
    {
      "cell_type": "markdown",
      "metadata": {
        "id": "rqPU9rwMP0dx",
        "colab_type": "text"
      },
      "source": [
        "**Que 1. Program to substract two complex numbers**"
      ]
    },
    {
      "cell_type": "code",
      "metadata": {
        "id": "SVzX2aNQPdhh",
        "colab_type": "code",
        "colab": {}
      },
      "source": [
        "a = 9+80j\n",
        "b = 5-90j\n",
        "print(a-b)"
      ],
      "execution_count": null,
      "outputs": []
    },
    {
      "cell_type": "code",
      "metadata": {
        "id": "1o35eUjTPkg0",
        "colab_type": "code",
        "colab": {}
      },
      "source": [
        "c = 90+80j\n",
        "d = 100+50j\n",
        "e = d-c\n",
        "print(e)"
      ],
      "execution_count": null,
      "outputs": []
    },
    {
      "cell_type": "markdown",
      "metadata": {
        "id": "50HigZscQafr",
        "colab_type": "text"
      },
      "source": [
        "**Que 2. Program to find the fourth root of a number**"
      ]
    },
    {
      "cell_type": "code",
      "metadata": {
        "id": "zi0Ojwh7Po12",
        "colab_type": "code",
        "colab": {}
      },
      "source": [
        "print(64**1/4)\n",
        "print(256**1/4)"
      ],
      "execution_count": null,
      "outputs": []
    },
    {
      "cell_type": "markdown",
      "metadata": {
        "id": "OrJ4Is75QeNJ",
        "colab_type": "text"
      },
      "source": [
        "**Que 3. Program to swap two numbers in Python with the help of a temporary variable**"
      ]
    },
    {
      "cell_type": "code",
      "metadata": {
        "id": "NbiLY58uPys2",
        "colab_type": "code",
        "colab": {}
      },
      "source": [
        "num1 = int(input(\"enter the number for num1:\"))\n",
        "num2 = int(input(\"enter the number for num2:\"))\n",
        "\n",
        "print(\"before swapping num1 = {0} num2 = {1}\".format(num1,num2))\n",
        "\n",
        "temp = num1\n",
        "num1 = num2\n",
        "num2 = temp\n",
        "\n",
        "print(\"after swapping num1 = {0} num2 = {1}\".format(num1,num2))"
      ],
      "execution_count": null,
      "outputs": []
    },
    {
      "cell_type": "markdown",
      "metadata": {
        "id": "BmNklH0vQMP9",
        "colab_type": "text"
      },
      "source": [
        "**Que 4. Program to swap two numbers in Python with the help of a temporary variable**"
      ]
    },
    {
      "cell_type": "code",
      "metadata": {
        "id": "OnHCW3WOQQNX",
        "colab_type": "code",
        "colab": {}
      },
      "source": [
        "num3 = int(input(\"enter the number for num3:\"))\n",
        "num4 = int(input(\"enter the number for num4:\"))\n",
        "print(\"before swapping num3 = {0} and num4 = {1}\".format(num3,num4))\n",
        "print(\"after swapping num3 = {1} and num4 = {0}\".format(num3,num4))"
      ],
      "execution_count": null,
      "outputs": []
    },
    {
      "cell_type": "markdown",
      "metadata": {
        "id": "IhH3Tt2PQokb",
        "colab_type": "text"
      },
      "source": [
        "**Que 5. Program to convert fahrenheit to kelvin and celsius both**"
      ]
    },
    {
      "cell_type": "code",
      "metadata": {
        "id": "Zwm-eUV3Qr64",
        "colab_type": "code",
        "colab": {}
      },
      "source": [
        "fahrenheit = float(input(\"enter the temperature in degree fahrenheit: \"))\n",
        "celsius = (fahrenheit - 32)*5//9\n",
        "kelvin = celsius + 273.15\n",
        "print(\"the coverted temperature is:\",celsius,\"degree celsius\")\n",
        "print(\"the coverted temperature is:\",kelvin,\"K\")"
      ],
      "execution_count": null,
      "outputs": []
    },
    {
      "cell_type": "markdown",
      "metadata": {
        "id": "LUe6MSGxVrei",
        "colab_type": "text"
      },
      "source": [
        "**Que 6. Program to demonstrate all the available data types in Python**"
      ]
    },
    {
      "cell_type": "code",
      "metadata": {
        "id": "GVJNQmrhVsZF",
        "colab_type": "code",
        "colab": {}
      },
      "source": [
        "print(type(a))\n",
        "print(type(num1))\n",
        "print(type(celsius))"
      ],
      "execution_count": null,
      "outputs": []
    },
    {
      "cell_type": "markdown",
      "metadata": {
        "id": "ZYiF0HT4XF_7",
        "colab_type": "text"
      },
      "source": [
        "**Que 7. Markdown cell for to create Github profile and upload Githubs Assignment link**"
      ]
    },
    {
      "cell_type": "markdown",
      "metadata": {
        "id": "tLm-K1DHXKyb",
        "colab_type": "text"
      },
      "source": [
        "> **To create Github profile**\n",
        "\n",
        "1.   Firstly, go to the website \"Github.com\"\n",
        "2.   Then Sign up and  fill up the information like Username,Eamil id And Password\n",
        "3.   Then you will be able to see your Profile\n",
        "\n",
        "> **To upload Githubs Assignment link**\n",
        "\n",
        "1.   Go to the Jupyter notebook path in your computer\n",
        "2.   Create folder in your computer like 'Day 3'\n",
        "3.   Put a file .ipynb into Day 3 folder\n",
        "4.   Come back to Githubs and click on the option 'NEW'\n",
        "5.   Then Fill the Repositary name \"letsupgrade AL-ML\"\n",
        "6.   Description - \"Assignments\"\n",
        "7.   Then click on \"create Repository\"\n",
        "8.   Then Folder created as \"letsupgarde AI-ML\"\n",
        "9.   Then click on uploading an existing file\n",
        "10.  Drag and Drop the file '.ipynb'\n",
        "11.  Then upload '.ipynb' file on \"https://bit.ly/aimlassignment\""
      ]
    }
  ]
}