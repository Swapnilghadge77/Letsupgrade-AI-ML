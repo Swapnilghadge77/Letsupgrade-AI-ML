{
 "cells": [
  {
   "cell_type": "markdown",
   "metadata": {},
   "source": [
    "# Question 1\n",
    "\n",
    "Assuming that we have some email addresses in the \"username@companyname.com\" format, please write program to print the company name of a given email address. Both user names and company names are composed of letters only.\n",
    "\n",
    "Input Format:\n",
    "The first line of the input contains an email address.\n",
    "\n",
    "Output Format:\n",
    "Print the company name in single line."
   ]
  },
  {
   "cell_type": "code",
   "execution_count": 1,
   "metadata": {},
   "outputs": [
    {
     "name": "stdout",
     "output_type": "stream",
     "text": [
      "Email id =  john@google.com\n",
      "google\n"
     ]
    }
   ],
   "source": [
    "str = 'john@google.com'\n",
    "print(\"Email id = \",str)\n",
    "print(str[5:11])"
   ]
  },
  {
   "cell_type": "code",
   "execution_count": 3,
   "metadata": {},
   "outputs": [
    {
     "name": "stdout",
     "output_type": "stream",
     "text": [
      "eamil_id: swapnil@google.com\n",
      "google\n"
     ]
    }
   ],
   "source": [
    "print(input('eamil_id: ').split('@')[1].split(\".\")[0])"
   ]
  },
  {
   "cell_type": "markdown",
   "metadata": {},
   "source": [
    "# Question 2:\n",
    "\n",
    "Write a program that accepts a comma-separated sequence of words as input and prints the words in a comma separated sequence after sorting them alphabetically.\n",
    "\n",
    "Input Format:\n",
    "The first line of input contains words separated by the comma.\n",
    "\n",
    "Output Format:\n",
    "Print the sorted words separated by the comma."
   ]
  },
  {
   "cell_type": "code",
   "execution_count": 2,
   "metadata": {},
   "outputs": [
    {
     "name": "stdout",
     "output_type": "stream",
     "text": [
      "Enter Comma-separated sequence of words: pen,book,bag,notebook,marker,laptop\n",
      "bag,book,laptop,marker,notebook,pen\n"
     ]
    }
   ],
   "source": [
    "letters = input(\"Enter Comma-separated sequence of words: \").split(',')\n",
    "items = [i for i in letters]\n",
    "items.sort()\n",
    "print(','.join(items))"
   ]
  },
  {
   "cell_type": "markdown",
   "metadata": {},
   "source": [
    "# Question 3\n",
    "\n",
    "Create your own Jupyter Notebook for Sets.\n",
    "\n",
    "Reference link: https://www.w3schools.com/python/python_sets.asp"
   ]
  },
  {
   "cell_type": "code",
   "execution_count": 1,
   "metadata": {},
   "outputs": [
    {
     "name": "stdout",
     "output_type": "stream",
     "text": [
      "{'banana', 'orange', 'apple'}\n",
      "{'banana', 'pink', 'orange', 'apple', 'onion'}\n",
      "set()\n"
     ]
    }
   ],
   "source": [
    "sets = {'apple','banana','orange'}\n",
    "print(sets)\n",
    "sets.update(['pink','onion'])\n",
    "print(sets)\n",
    "sets.clear()\n",
    "print(sets)"
   ]
  },
  {
   "cell_type": "markdown",
   "metadata": {},
   "source": [
    "# Question 4\n",
    "\n",
    "Given a list of n-1 numbers ranging from 1 to n, your task is to find the missing number. There are no duplicates.\n",
    "\n",
    "Input Format:\n",
    "The first line contains n-1 numbers with each number separated by a space.\n",
    "\n",
    "Output Format:\n",
    "Print the missing number"
   ]
  },
  {
   "cell_type": "code",
   "execution_count": 1,
   "metadata": {},
   "outputs": [
    {
     "name": "stdout",
     "output_type": "stream",
     "text": [
      "list= 1 2 3 4 6 7 8\n",
      "5\n"
     ]
    }
   ],
   "source": [
    "def getmissing(a):\n",
    "    n = len(a)\n",
    "    total = (n+1)*(n+2)/2\n",
    "    sum_of_a = sum(a)\n",
    "    return total-sum_of_a\n",
    "x = [int(x) for x in input(\"list= \").split()]\n",
    "miss = getmissing(x)\n",
    "print(int(miss))"
   ]
  },
  {
   "cell_type": "markdown",
   "metadata": {},
   "source": [
    "# Question 5\n",
    "\n",
    "With a given list L, write a program to print this list L after removing all duplicate values with original order reserved.\n",
    "\n",
    "Example:\n",
    "\n",
    "If the input list is\n",
    "12 24 35 24 88 120 155 88 120 155\n",
    "\n",
    "Then the output should be\n",
    "12 24 35 88 120 155"
   ]
  },
  {
   "cell_type": "code",
   "execution_count": 1,
   "metadata": {},
   "outputs": [
    {
     "name": "stdout",
     "output_type": "stream",
     "text": [
      "[1, 2, 5, 6, 8, 9, 54, 3]\n"
     ]
    }
   ],
   "source": [
    "def dup_num(data):\n",
    "    ndata = []\n",
    "    arr = set()\n",
    "    for item in data:\n",
    "        if item not in arr:\n",
    "            arr.add(item)\n",
    "            ndata.append(item)\n",
    "    return ndata\n",
    "data = [1,2,5,6,8,9,8,2,1,54,3]\n",
    "print(dup_num (data))"
   ]
  }
 ],
 "metadata": {
  "kernelspec": {
   "display_name": "Python 3",
   "language": "python",
   "name": "python3"
  },
  "language_info": {
   "codemirror_mode": {
    "name": "ipython",
    "version": 3
   },
   "file_extension": ".py",
   "mimetype": "text/x-python",
   "name": "python",
   "nbconvert_exporter": "python",
   "pygments_lexer": "ipython3",
   "version": "3.7.6"
  }
 },
 "nbformat": 4,
 "nbformat_minor": 4
}
