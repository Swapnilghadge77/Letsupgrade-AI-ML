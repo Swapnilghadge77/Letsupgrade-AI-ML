{
 "cells": [
  {
   "cell_type": "markdown",
   "metadata": {},
   "source": [
    "# 1. Create a 3x3x3 array with random values "
   ]
  },
  {
   "cell_type": "code",
   "execution_count": 1,
   "metadata": {},
   "outputs": [],
   "source": [
    "import numpy as np"
   ]
  },
  {
   "cell_type": "code",
   "execution_count": 3,
   "metadata": {},
   "outputs": [
    {
     "name": "stdout",
     "output_type": "stream",
     "text": [
      "[[[0.15252796 0.87469529 0.05894754]\n",
      "  [0.75651597 0.72321396 0.28471195]\n",
      "  [0.03265713 0.27479286 0.63228301]]\n",
      "\n",
      " [[0.79324071 0.51942394 0.94612039]\n",
      "  [0.12108624 0.28537851 0.08726282]\n",
      "  [0.34991526 0.87348087 0.31069989]]\n",
      "\n",
      " [[0.60873601 0.13516512 0.53418039]\n",
      "  [0.20261593 0.20813704 0.20179194]\n",
      "  [0.99828648 0.62426699 0.22445848]]]\n"
     ]
    }
   ],
   "source": [
    "x = np.random.random((3,3,3))\n",
    "print(x)"
   ]
  },
  {
   "cell_type": "markdown",
   "metadata": {},
   "source": [
    "# 2.Create a 5x5 matrix with values 1,2,3,4 just below the diagonal"
   ]
  },
  {
   "cell_type": "code",
   "execution_count": 7,
   "metadata": {},
   "outputs": [
    {
     "name": "stdout",
     "output_type": "stream",
     "text": [
      "[[0 0 0 0 0]\n",
      " [1 0 0 0 0]\n",
      " [0 2 0 0 0]\n",
      " [0 0 3 0 0]\n",
      " [0 0 0 4 0]]\n"
     ]
    }
   ],
   "source": [
    "a = np.diag(1+np.arange(4),k=-1)\n",
    "print(a)"
   ]
  },
  {
   "cell_type": "markdown",
   "metadata": {},
   "source": [
    "# 3.Create a 8x8 matrix and fill it with a checkerboard pattern"
   ]
  },
  {
   "cell_type": "code",
   "execution_count": 5,
   "metadata": {},
   "outputs": [
    {
     "name": "stdout",
     "output_type": "stream",
     "text": [
      "[[0 1 0 1 0 1 0 1]\n",
      " [1 0 1 0 1 0 1 0]\n",
      " [0 1 0 1 0 1 0 1]\n",
      " [1 0 1 0 1 0 1 0]\n",
      " [0 1 0 1 0 1 0 1]\n",
      " [1 0 1 0 1 0 1 0]\n",
      " [0 1 0 1 0 1 0 1]\n",
      " [1 0 1 0 1 0 1 0]]\n"
     ]
    }
   ],
   "source": [
    "s = np.zeros((8,8), dtype=int)\n",
    "s[1::2, ::2]=1\n",
    "s[::2, 1::2]=1\n",
    "print(s)"
   ]
  },
  {
   "cell_type": "markdown",
   "metadata": {},
   "source": [
    "# 4. Normalize a 5x5 random matrix"
   ]
  },
  {
   "cell_type": "code",
   "execution_count": 3,
   "metadata": {},
   "outputs": [
    {
     "name": "stdout",
     "output_type": "stream",
     "text": [
      "Original Array:\n",
      "\n",
      "[[0.30935413 0.55193685 0.4847795  0.26930181 0.78918187]\n",
      " [0.34546578 0.16061834 0.91349347 0.54949623 0.59673044]\n",
      " [0.45584695 0.98676168 0.5658416  0.72717638 0.24603578]\n",
      " [0.98512813 0.95040847 0.17241881 0.96843369 0.12986823]\n",
      " [0.69869409 0.55575134 0.7026603  0.50248088 0.54515515]]\n",
      "\n",
      "After normalization:\n",
      "\n",
      "[[0.20946117 0.49255671 0.41418366 0.16271986 0.76942313]\n",
      " [0.25160369 0.03588557 0.91449554 0.48970849 0.54483111]\n",
      " [0.38041919 1.         0.50878365 0.69706234 0.13556825]\n",
      " [0.99809363 0.95757558 0.04965679 0.97861111 0.        ]\n",
      " [0.66382333 0.49700824 0.66845192 0.43484129 0.48464243]]\n"
     ]
    }
   ],
   "source": [
    "n= np.random.random((5,5))\n",
    "print(\"Original Array:\\n\")\n",
    "print(n)\n",
    "nmax, nmin = n.max(), n.min()\n",
    "n = (n - nmin)/(nmax - nmin)\n",
    "print(\"\\nAfter normalization:\\n\")\n",
    "print(n)"
   ]
  },
  {
   "cell_type": "markdown",
   "metadata": {},
   "source": [
    "# 5.  How to find common values between two arrays?"
   ]
  },
  {
   "cell_type": "code",
   "execution_count": 4,
   "metadata": {},
   "outputs": [
    {
     "name": "stdout",
     "output_type": "stream",
     "text": [
      "Arr1:  [ 70  50 200  40  60]\n",
      "Arr2:  [100, 50, 40, 90]\n",
      "\n",
      "Common values between two arrays:\n",
      "[40 50]\n"
     ]
    }
   ],
   "source": [
    "arr1 = np.array([70, 50, 200, 40, 60])\n",
    "print(\"Arr1: \",arr1)\n",
    "arr2 = [100, 50, 40, 90]\n",
    "print(\"Arr2: \",arr2)\n",
    "print(\"\\nCommon values between two arrays:\")\n",
    "print(np.intersect1d(arr1, arr2))"
   ]
  },
  {
   "cell_type": "markdown",
   "metadata": {},
   "source": [
    "# 6.How to get the dates of yesterday, today and tomorrow?"
   ]
  },
  {
   "cell_type": "code",
   "execution_count": 15,
   "metadata": {},
   "outputs": [
    {
     "name": "stdout",
     "output_type": "stream",
     "text": [
      "Yestraday:  2020-07-26\n",
      "Today:  2020-07-27\n",
      "Tomorrow:  2020-07-28\n"
     ]
    }
   ],
   "source": [
    "yesterday = np.datetime64('today', 'D') - np.timedelta64(1, 'D')\n",
    "print(\"Yestraday: \",yesterday)\n",
    "today     = np.datetime64('today', 'D')\n",
    "print(\"Today: \",today)\n",
    "tomorrow  = np.datetime64('today', 'D') + np.timedelta64(1, 'D')\n",
    "print(\"Tomorrow: \",tomorrow)"
   ]
  },
  {
   "cell_type": "markdown",
   "metadata": {},
   "source": [
    "# 7. Consider two random array A and B, check if they are equal"
   ]
  },
  {
   "cell_type": "code",
   "execution_count": 3,
   "metadata": {},
   "outputs": [
    {
     "name": "stdout",
     "output_type": "stream",
     "text": [
      "First array:\n",
      "[3 3 3 1 0 1]\n",
      "Second array:\n",
      "[0 3 3 4 0 1]\n",
      "Test above two arrays are equal or not!\n",
      "False\n"
     ]
    }
   ],
   "source": [
    "x = np.random.randint(0,5,6)\n",
    "print(\"First array:\")\n",
    "print(x)\n",
    "y = np.random.randint(0,5,6)\n",
    "print(\"Second array:\")\n",
    "print(y)\n",
    "print(\"Test above two arrays are equal or not!\")\n",
    "array_equal = np.allclose(x, y)\n",
    "print(array_equal)"
   ]
  },
  {
   "cell_type": "markdown",
   "metadata": {},
   "source": [
    "# 8.Create random vector of size 10 and replace the maximum value by 0 "
   ]
  },
  {
   "cell_type": "code",
   "execution_count": 5,
   "metadata": {},
   "outputs": [
    {
     "name": "stdout",
     "output_type": "stream",
     "text": [
      "Original Arrays:\n",
      " \n",
      "[0.1118214  0.34359217 0.57992791 0.02344045 0.06671609 0.68353262\n",
      " 0.86565286 0.39349336 0.81922531 0.80835922]\n",
      "\n",
      "Maximum value replaced by 0:\n",
      "\n",
      "[0.1118214  0.34359217 0.57992791 0.02344045 0.06671609 0.68353262\n",
      " 0.         0.39349336 0.81922531 0.80835922]\n"
     ]
    }
   ],
   "source": [
    "n= np.random.random((10))\n",
    "print(\"Original Arrays:\\n \")\n",
    "print(n)\n",
    "n[n.argmax()] = 0\n",
    "print(\"\\nMaximum value replaced by 0:\\n\")\n",
    "print(n)"
   ]
  },
  {
   "cell_type": "markdown",
   "metadata": {},
   "source": [
    "# 9. How to print all the values of an array?"
   ]
  },
  {
   "cell_type": "code",
   "execution_count": 6,
   "metadata": {},
   "outputs": [
    {
     "name": "stdout",
     "output_type": "stream",
     "text": [
      "[[1. 1. 1. 1. 1. 1. 1. 1.]\n",
      " [1. 1. 1. 1. 1. 1. 1. 1.]\n",
      " [1. 1. 1. 1. 1. 1. 1. 1.]\n",
      " [1. 1. 1. 1. 1. 1. 1. 1.]\n",
      " [1. 1. 1. 1. 1. 1. 1. 1.]\n",
      " [1. 1. 1. 1. 1. 1. 1. 1.]\n",
      " [1. 1. 1. 1. 1. 1. 1. 1.]\n",
      " [1. 1. 1. 1. 1. 1. 1. 1.]]\n"
     ]
    }
   ],
   "source": [
    "import sys\n",
    "np.set_printoptions(threshold=sys.maxsize)\n",
    "Z = np.ones((8,8))\n",
    "print(Z)"
   ]
  },
  {
   "cell_type": "markdown",
   "metadata": {},
   "source": [
    "# 10.Subtract the mean of each row of a matrix"
   ]
  },
  {
   "cell_type": "code",
   "execution_count": 15,
   "metadata": {
    "scrolled": false
   },
   "outputs": [
    {
     "name": "stdout",
     "output_type": "stream",
     "text": [
      "Original Matrix:\n",
      " \n",
      "[[0.01646787 0.27315546 0.47600627 0.75761898 0.42889726]\n",
      " [0.17481597 0.18153522 0.27669861 0.34278409 0.05370857]\n",
      " [0.94591536 0.74527612 0.76185747 0.5534309  0.93885451]\n",
      " [0.34735931 0.81492837 0.96395668 0.11631002 0.31989853]]\n",
      "\n",
      "After subtracting the mean of each row of a matrix:\n",
      "\n",
      "[[-0.3739613  -0.11727371  0.08557711  0.36718981  0.03846809]\n",
      " [-0.03109252 -0.02437327  0.07079012  0.1368756  -0.15219992]\n",
      " [ 0.15684849 -0.04379075 -0.0272094  -0.23563597  0.14978764]\n",
      " [-0.16513127  0.30243778  0.4514661  -0.39618057 -0.19259205]]\n"
     ]
    }
   ],
   "source": [
    "d = np.random.rand(4,5)\n",
    "print(\"Original Matrix:\\n \")\n",
    "print(d)\n",
    "print(\"\\nAfter subtracting the mean of each row of a matrix:\\n\")\n",
    "e = d-d.mean(axis=1, keepdims=True)\n",
    "print(e)"
   ]
  },
  {
   "cell_type": "markdown",
   "metadata": {},
   "source": [
    "# 11.Consider a given vector, how to add 1 to each element indexed by a second vector (be careful with repeated indices)? "
   ]
  },
  {
   "cell_type": "code",
   "execution_count": 3,
   "metadata": {},
   "outputs": [
    {
     "name": "stdout",
     "output_type": "stream",
     "text": [
      "[6. 3. 2. 3. 3. 1. 3. 2. 1. 1. 1. 2. 1. 4. 3. 2. 3. 2. 2. 5.]\n"
     ]
    }
   ],
   "source": [
    "Z = np.ones(20)\n",
    "I = np.random.randint(0,len(Z),30)\n",
    "Z += np.bincount(I, minlength=len(Z))\n",
    "print(Z)"
   ]
  },
  {
   "cell_type": "markdown",
   "metadata": {},
   "source": [
    "# 12.How to get the diagonal of a dot product?"
   ]
  },
  {
   "cell_type": "code",
   "execution_count": 3,
   "metadata": {},
   "outputs": [
    {
     "data": {
      "text/plain": [
       "array([ 93, 318, 210, 247])"
      ]
     },
     "execution_count": 3,
     "metadata": {},
     "output_type": "execute_result"
    }
   ],
   "source": [
    "A = np.random.randint(0,15,(4,4))\n",
    "B= np.random.randint(0,15,(4,4))\n",
    "np.diag(np.dot(A, B))"
   ]
  },
  {
   "cell_type": "markdown",
   "metadata": {},
   "source": [
    "# 13.How to find the most frequent value in an array?"
   ]
  },
  {
   "cell_type": "code",
   "execution_count": 5,
   "metadata": {},
   "outputs": [
    {
     "name": "stdout",
     "output_type": "stream",
     "text": [
      "[7 1 7 6 9 3 1 0 3 4 5 8 5 7 7 1 4 4 1 5 8 6 5 8 2 4 6 8 4 7]\n",
      "Most Frequent Value: 4\n"
     ]
    }
   ],
   "source": [
    "Z = np.random.randint(0,10,30)\n",
    "print (Z)\n",
    "print('Most Frequent Value:', np.bincount(Z).argmax())"
   ]
  },
  {
   "cell_type": "markdown",
   "metadata": {},
   "source": [
    "# 14.How to get the n largest values of an array"
   ]
  },
  {
   "cell_type": "code",
   "execution_count": 11,
   "metadata": {},
   "outputs": [
    {
     "name": "stdout",
     "output_type": "stream",
     "text": [
      "[994 995 996 997 998 999]\n"
     ]
    }
   ],
   "source": [
    "Z = np.arange(1000)\n",
    "np.random.shuffle(Z)\n",
    "n = 6\n",
    "print (Z[np.argsort(Z)[-n:]])"
   ]
  },
  {
   "cell_type": "markdown",
   "metadata": {},
   "source": [
    "# 15.How to create a record array from a regular array?"
   ]
  },
  {
   "cell_type": "code",
   "execution_count": 15,
   "metadata": {},
   "outputs": [
    {
     "data": {
      "text/plain": [
       "rec.array([(b'Hello', 8.5, 7), (b'World', 9.6, 4)],\n",
       "          dtype=[('num1', 'S8'), ('num2', '<f8'), ('num3', '<i8')])"
      ]
     },
     "execution_count": 15,
     "metadata": {},
     "output_type": "execute_result"
    }
   ],
   "source": [
    "Z = np.array([(\"Hello\", 8.5, 7),\n",
    "              (\"World\", 9.6, 4)])\n",
    "R = np.core.records.fromarrays(Z.T,\n",
    "                               names='num1, num2, num3',\n",
    "                               formats = 'S8, f8, i8')\n",
    "R"
   ]
  }
 ],
 "metadata": {
  "kernelspec": {
   "display_name": "Python 3",
   "language": "python",
   "name": "python3"
  },
  "language_info": {
   "codemirror_mode": {
    "name": "ipython",
    "version": 3
   },
   "file_extension": ".py",
   "mimetype": "text/x-python",
   "name": "python",
   "nbconvert_exporter": "python",
   "pygments_lexer": "ipython3",
   "version": "3.7.6"
  }
 },
 "nbformat": 4,
 "nbformat_minor": 2
}
