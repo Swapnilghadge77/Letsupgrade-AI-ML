{
 "cells": [
  {
   "cell_type": "code",
   "execution_count": 1,
   "metadata": {},
   "outputs": [],
   "source": [
    "import numpy as np\n",
    "import os\n",
    "import sys\n",
    "import pandas as pd\n",
    "from sklearn.model_selection import train_test_split\n",
    "from scipy.io import loadmat "
   ]
  },
  {
   "cell_type": "code",
   "execution_count": 2,
   "metadata": {},
   "outputs": [
    {
     "name": "stderr",
     "output_type": "stream",
     "text": [
      "C:\\Users\\HP\\anaconda3\\lib\\site-packages\\sklearn\\utils\\deprecation.py:144: FutureWarning: The sklearn.utils.testing module is  deprecated in version 0.22 and will be removed in version 0.24. The corresponding classes / functions should instead be imported from sklearn.utils. Anything that cannot be imported from sklearn.utils is now part of the private API.\n",
      "  warnings.warn(message, FutureWarning)\n"
     ]
    }
   ],
   "source": [
    "#import Pyod Packages & the methods\n",
    "\n",
    "from pyod.models.pca import PCA  # Pca model\n",
    "from pyod.models.mcd import MCD   # Mcd model\n",
    "from pyod.models.ocsvm import OCSVM # Ocsvm model\n",
    "from pyod.models.lof import LOF # lof model\n",
    "from pyod.models.cblof import CBLOF\n",
    "from pyod.models.knn import KNN\n",
    "from pyod.models.hbos import HBOS\n",
    "from pyod.models.abod import ABOD\n",
    "from pyod.models.iforest import IForest\n",
    "from pyod.models.feature_bagging import FeatureBagging"
   ]
  },
  {
   "cell_type": "code",
   "execution_count": 3,
   "metadata": {},
   "outputs": [],
   "source": [
    "# Import Metics Packages\n",
    "\n",
    "from pyod.utils.utility import standardizer\n",
    "from pyod.utils.utility import precision_n_scores\n",
    "from sklearn.metrics import roc_auc_score"
   ]
  },
  {
   "cell_type": "code",
   "execution_count": 4,
   "metadata": {},
   "outputs": [],
   "source": [
    "# Define data file and read X and Y\n",
    "mat_file_list = [\"arrhythmia.mat\",\"cardio.mat\",\"glass.mat\",\"ionosphere.mat\",\"letter.mat\",\"lympho.mat\",\"mnist.mat\",\"musk.mat\",\"optdigits.mat\",\"pendigits.mat\",\"pima.mat\",\"satellite.mat\",\"satimage-2.mat\",\"shuttle.mat\",\"vertebral.mat\",\"vowels.mat\",\"wbc.mat\"]"
   ]
  },
  {
   "cell_type": "code",
   "execution_count": 5,
   "metadata": {},
   "outputs": [],
   "source": [
    "# How to load mat file\n",
    "data = loadmat('data/cardio.mat')"
   ]
  },
  {
   "cell_type": "code",
   "execution_count": 6,
   "metadata": {},
   "outputs": [
    {
     "data": {
      "text/plain": [
       "{'__header__': b'MATLAB 5.0 MAT-file, written by Octave 3.8.0, 2014-12-18 10:48:09 UTC',\n",
       " '__version__': '1.0',\n",
       " '__globals__': [],\n",
       " 'X': array([[ 0.00491231,  0.69319077, -0.20364049, ...,  0.23149795,\n",
       "         -0.28978574, -0.49329397],\n",
       "        [ 0.11072935, -0.07990259, -0.20364049, ...,  0.09356344,\n",
       "         -0.25638541, -0.49329397],\n",
       "        [ 0.21654639, -0.27244466, -0.20364049, ...,  0.02459619,\n",
       "         -0.25638541,  1.14001753],\n",
       "        ...,\n",
       "        [-0.41835583, -0.91998844, -0.16463485, ..., -1.49268341,\n",
       "          0.24461959, -0.49329397],\n",
       "        [-0.41835583, -0.91998844, -0.15093411, ..., -1.42371616,\n",
       "          0.14441859, -0.49329397],\n",
       "        [-0.41835583, -0.91998844, -0.20364049, ..., -1.28578165,\n",
       "          3.58465295, -0.49329397]]),\n",
       " 'y': array([[0.],\n",
       "        [0.],\n",
       "        [0.],\n",
       "        ...,\n",
       "        [1.],\n",
       "        [1.],\n",
       "        [1.]])}"
      ]
     },
     "execution_count": 6,
     "metadata": {},
     "output_type": "execute_result"
    }
   ],
   "source": [
    "data"
   ]
  },
  {
   "cell_type": "code",
   "execution_count": 7,
   "metadata": {},
   "outputs": [
    {
     "data": {
      "text/plain": [
       "dict_keys(['__header__', '__version__', '__globals__', 'X', 'y'])"
      ]
     },
     "execution_count": 7,
     "metadata": {},
     "output_type": "execute_result"
    }
   ],
   "source": [
    "data.keys()"
   ]
  },
  {
   "cell_type": "code",
   "execution_count": 8,
   "metadata": {},
   "outputs": [
    {
     "data": {
      "text/plain": [
       "dict_values([b'MATLAB 5.0 MAT-file, written by Octave 3.8.0, 2014-12-18 10:48:09 UTC', '1.0', [], array([[ 0.00491231,  0.69319077, -0.20364049, ...,  0.23149795,\n",
       "        -0.28978574, -0.49329397],\n",
       "       [ 0.11072935, -0.07990259, -0.20364049, ...,  0.09356344,\n",
       "        -0.25638541, -0.49329397],\n",
       "       [ 0.21654639, -0.27244466, -0.20364049, ...,  0.02459619,\n",
       "        -0.25638541,  1.14001753],\n",
       "       ...,\n",
       "       [-0.41835583, -0.91998844, -0.16463485, ..., -1.49268341,\n",
       "         0.24461959, -0.49329397],\n",
       "       [-0.41835583, -0.91998844, -0.15093411, ..., -1.42371616,\n",
       "         0.14441859, -0.49329397],\n",
       "       [-0.41835583, -0.91998844, -0.20364049, ..., -1.28578165,\n",
       "         3.58465295, -0.49329397]]), array([[0.],\n",
       "       [0.],\n",
       "       [0.],\n",
       "       ...,\n",
       "       [1.],\n",
       "       [1.],\n",
       "       [1.]])])"
      ]
     },
     "execution_count": 8,
     "metadata": {},
     "output_type": "execute_result"
    }
   ],
   "source": [
    "data.values()"
   ]
  },
  {
   "cell_type": "code",
   "execution_count": 9,
   "metadata": {},
   "outputs": [
    {
     "data": {
      "text/plain": [
       "(numpy.ndarray, (1831, 21))"
      ]
     },
     "execution_count": 9,
     "metadata": {},
     "output_type": "execute_result"
    }
   ],
   "source": [
    "type(data['X']),data['X'].shape"
   ]
  },
  {
   "cell_type": "code",
   "execution_count": 10,
   "metadata": {},
   "outputs": [
    {
     "data": {
      "text/plain": [
       "(numpy.ndarray, (1831, 1))"
      ]
     },
     "execution_count": 10,
     "metadata": {},
     "output_type": "execute_result"
    }
   ],
   "source": [
    "type(data['y']),data['y'].shape"
   ]
  },
  {
   "cell_type": "code",
   "execution_count": 11,
   "metadata": {},
   "outputs": [],
   "source": [
    "df_columns = ['data','#samples','#Dimensuions','Outlier','ABOD','CBLOF','FB','HBOS','IForest','KNN','LOF','MCD','OCSVM','PCA']"
   ]
  },
  {
   "cell_type": "code",
   "execution_count": 12,
   "metadata": {},
   "outputs": [
    {
     "data": {
      "text/html": [
       "<div>\n",
       "<style scoped>\n",
       "    .dataframe tbody tr th:only-of-type {\n",
       "        vertical-align: middle;\n",
       "    }\n",
       "\n",
       "    .dataframe tbody tr th {\n",
       "        vertical-align: top;\n",
       "    }\n",
       "\n",
       "    .dataframe thead th {\n",
       "        text-align: right;\n",
       "    }\n",
       "</style>\n",
       "<table border=\"1\" class=\"dataframe\">\n",
       "  <thead>\n",
       "    <tr style=\"text-align: right;\">\n",
       "      <th></th>\n",
       "      <th>data</th>\n",
       "      <th>#samples</th>\n",
       "      <th>#Dimensuions</th>\n",
       "      <th>Outlier</th>\n",
       "      <th>ABOD</th>\n",
       "      <th>CBLOF</th>\n",
       "      <th>FB</th>\n",
       "      <th>HBOS</th>\n",
       "      <th>IForest</th>\n",
       "      <th>KNN</th>\n",
       "      <th>LOF</th>\n",
       "      <th>MCD</th>\n",
       "      <th>OCSVM</th>\n",
       "      <th>PCA</th>\n",
       "    </tr>\n",
       "  </thead>\n",
       "  <tbody>\n",
       "  </tbody>\n",
       "</table>\n",
       "</div>"
      ],
      "text/plain": [
       "Empty DataFrame\n",
       "Columns: [data, #samples, #Dimensuions, Outlier, ABOD, CBLOF, FB, HBOS, IForest, KNN, LOF, MCD, OCSVM, PCA]\n",
       "Index: []"
      ]
     },
     "execution_count": 12,
     "metadata": {},
     "output_type": "execute_result"
    }
   ],
   "source": [
    "roc_df = pd.DataFrame(columns=df_columns)  # ROC Perforance Valuation Table\n",
    "roc_df"
   ]
  },
  {
   "cell_type": "code",
   "execution_count": 13,
   "metadata": {},
   "outputs": [
    {
     "data": {
      "text/html": [
       "<div>\n",
       "<style scoped>\n",
       "    .dataframe tbody tr th:only-of-type {\n",
       "        vertical-align: middle;\n",
       "    }\n",
       "\n",
       "    .dataframe tbody tr th {\n",
       "        vertical-align: top;\n",
       "    }\n",
       "\n",
       "    .dataframe thead th {\n",
       "        text-align: right;\n",
       "    }\n",
       "</style>\n",
       "<table border=\"1\" class=\"dataframe\">\n",
       "  <thead>\n",
       "    <tr style=\"text-align: right;\">\n",
       "      <th></th>\n",
       "      <th>data</th>\n",
       "      <th>#samples</th>\n",
       "      <th>#Dimensuions</th>\n",
       "      <th>Outlier</th>\n",
       "      <th>ABOD</th>\n",
       "      <th>CBLOF</th>\n",
       "      <th>FB</th>\n",
       "      <th>HBOS</th>\n",
       "      <th>IForest</th>\n",
       "      <th>KNN</th>\n",
       "      <th>LOF</th>\n",
       "      <th>MCD</th>\n",
       "      <th>OCSVM</th>\n",
       "      <th>PCA</th>\n",
       "    </tr>\n",
       "  </thead>\n",
       "  <tbody>\n",
       "  </tbody>\n",
       "</table>\n",
       "</div>"
      ],
      "text/plain": [
       "Empty DataFrame\n",
       "Columns: [data, #samples, #Dimensuions, Outlier, ABOD, CBLOF, FB, HBOS, IForest, KNN, LOF, MCD, OCSVM, PCA]\n",
       "Index: []"
      ]
     },
     "execution_count": 13,
     "metadata": {},
     "output_type": "execute_result"
    }
   ],
   "source": [
    "prn_df = pd.DataFrame(columns=df_columns)  # precision_n_scores Perforance Valuation Table \n",
    "prn_df"
   ]
  },
  {
   "cell_type": "code",
   "execution_count": 14,
   "metadata": {},
   "outputs": [
    {
     "data": {
      "text/html": [
       "<div>\n",
       "<style scoped>\n",
       "    .dataframe tbody tr th:only-of-type {\n",
       "        vertical-align: middle;\n",
       "    }\n",
       "\n",
       "    .dataframe tbody tr th {\n",
       "        vertical-align: top;\n",
       "    }\n",
       "\n",
       "    .dataframe thead th {\n",
       "        text-align: right;\n",
       "    }\n",
       "</style>\n",
       "<table border=\"1\" class=\"dataframe\">\n",
       "  <thead>\n",
       "    <tr style=\"text-align: right;\">\n",
       "      <th></th>\n",
       "      <th>data</th>\n",
       "      <th>#samples</th>\n",
       "      <th>#Dimensuions</th>\n",
       "      <th>Outlier</th>\n",
       "      <th>ABOD</th>\n",
       "      <th>CBLOF</th>\n",
       "      <th>FB</th>\n",
       "      <th>HBOS</th>\n",
       "      <th>IForest</th>\n",
       "      <th>KNN</th>\n",
       "      <th>LOF</th>\n",
       "      <th>MCD</th>\n",
       "      <th>OCSVM</th>\n",
       "      <th>PCA</th>\n",
       "    </tr>\n",
       "  </thead>\n",
       "  <tbody>\n",
       "  </tbody>\n",
       "</table>\n",
       "</div>"
      ],
      "text/plain": [
       "Empty DataFrame\n",
       "Columns: [data, #samples, #Dimensuions, Outlier, ABOD, CBLOF, FB, HBOS, IForest, KNN, LOF, MCD, OCSVM, PCA]\n",
       "Index: []"
      ]
     },
     "execution_count": 14,
     "metadata": {},
     "output_type": "execute_result"
    }
   ],
   "source": [
    "time_df = pd.DataFrame(columns=df_columns) # Time dataframe\n",
    "time_df"
   ]
  },
  {
   "cell_type": "markdown",
   "metadata": {},
   "source": [
    "# Exploring all Mat files"
   ]
  },
  {
   "cell_type": "code",
   "execution_count": 15,
   "metadata": {
    "scrolled": true
   },
   "outputs": [
    {
     "name": "stdout",
     "output_type": "stream",
     "text": [
      "\n",
      "... Processing arrhythmia.mat ...\n",
      "Angle-based Outlier Detector (ABOD) ROC:0.7687, precision @rank n:0.3571,execution time: 6.3046s\n",
      "Cluster-based Local Outlier Factor ROC:0.7684, precision @rank n:0.4643,execution time: 4.5968s\n",
      "Feature Bagging ROC:0.7799, precision @rank n:0.5,execution time: 1.3308s\n",
      "Histogram-base Outlier Detection (HBOS) ROC:0.8511, precision @rank n:0.5714,execution time: 3.5003s\n",
      "Isolation Forest ROC:0.8527, precision @rank n:0.5714,execution time: 0.9718s\n",
      "K Nearest Neighbors (KNN) ROC:0.782, precision @rank n:0.5,execution time: 0.1981s\n",
      "Local Outlier Factor (LOF) ROC:0.7787, precision @rank n:0.4643,execution time: 0.1664s\n"
     ]
    },
    {
     "name": "stderr",
     "output_type": "stream",
     "text": [
      "C:\\Users\\HP\\anaconda3\\lib\\site-packages\\sklearn\\covariance\\_robust_covariance.py:644: UserWarning: The covariance matrix associated to your dataset is not full rank\n",
      "  warnings.warn(\"The covariance matrix associated to your dataset \"\n"
     ]
    },
    {
     "name": "stdout",
     "output_type": "stream",
     "text": [
      "Minimum Covariance Determinant (MCD) ROC:0.8228, precision @rank n:0.4286,execution time: 2.0785s\n",
      "One-class SVM (OCSVM) ROC:0.7986, precision @rank n:0.5,execution time: 0.1424s\n",
      "Principal Component Analysis (PCA) ROC:0.7997, precision @rank n:0.5,execution time: 0.1611s\n",
      "\n",
      "... Processing cardio.mat ...\n",
      "Angle-based Outlier Detector (ABOD) ROC:0.5763, precision @rank n:0.1875,execution time: 0.9383s\n",
      "Cluster-based Local Outlier Factor ROC:0.8221, precision @rank n:0.4844,execution time: 0.3689s\n",
      "Feature Bagging ROC:0.4879, precision @rank n:0.1406,execution time: 1.851s\n",
      "Histogram-base Outlier Detection (HBOS) ROC:0.8453, precision @rank n:0.4688,execution time: 0.0157s\n",
      "Isolation Forest ROC:0.9414, precision @rank n:0.5,execution time: 0.9181s\n",
      "K Nearest Neighbors (KNN) ROC:0.6959, precision @rank n:0.2812,execution time: 0.3733s\n",
      "Local Outlier Factor (LOF) ROC:0.4715, precision @rank n:0.125,execution time: 0.2068s\n"
     ]
    },
    {
     "name": "stderr",
     "output_type": "stream",
     "text": [
      "C:\\Users\\HP\\anaconda3\\lib\\site-packages\\sklearn\\covariance\\_robust_covariance.py:644: UserWarning: The covariance matrix associated to your dataset is not full rank\n",
      "  warnings.warn(\"The covariance matrix associated to your dataset \"\n",
      "C:\\Users\\HP\\anaconda3\\lib\\site-packages\\sklearn\\covariance\\_robust_covariance.py:170: RuntimeWarning: Determinant has increased; this should not happen: log(det) > log(previous_det) (-152.770956835748848 > -250.696836140088948). You may want to try with a higher value of support_fraction (current value: 0.511).\n",
      "  RuntimeWarning)\n"
     ]
    },
    {
     "name": "stdout",
     "output_type": "stream",
     "text": [
      "Minimum Covariance Determinant (MCD) ROC:0.8778, precision @rank n:0.3906,execution time: 1.2304s\n",
      "One-class SVM (OCSVM) ROC:0.9507, precision @rank n:0.5938,execution time: 0.1865s\n",
      "Principal Component Analysis (PCA) ROC:0.9638, precision @rank n:0.6875,execution time: 0.0598s\n",
      "\n",
      "... Processing glass.mat ...\n",
      "Angle-based Outlier Detector (ABOD) ROC:0.7104, precision @rank n:0.25,execution time: 0.1294s\n",
      "Cluster-based Local Outlier Factor ROC:0.8506, precision @rank n:0.25,execution time: 0.0981s\n",
      "Feature Bagging ROC:0.7043, precision @rank n:0.25,execution time: 0.0713s\n",
      "Histogram-base Outlier Detection (HBOS) ROC:0.6524, precision @rank n:0.0,execution time: 0.0091s\n",
      "Isolation Forest ROC:0.7195, precision @rank n:0.25,execution time: 0.6575s\n",
      "K Nearest Neighbors (KNN) ROC:0.7805, precision @rank n:0.25,execution time: 0.028s\n",
      "Local Outlier Factor (LOF) ROC:0.7774, precision @rank n:0.25,execution time: 0.0093s\n",
      "Minimum Covariance Determinant (MCD) ROC:0.7165, precision @rank n:0.0,execution time: 0.1036s\n",
      "One-class SVM (OCSVM) ROC:0.6189, precision @rank n:0.25,execution time: 0.0041s\n",
      "Principal Component Analysis (PCA) ROC:0.622, precision @rank n:0.25,execution time: 0.0478s\n",
      "\n",
      "... Processing ionosphere.mat ...\n",
      "Angle-based Outlier Detector (ABOD) ROC:0.9004, precision @rank n:0.8214,execution time: 0.2052s\n",
      "Cluster-based Local Outlier Factor ROC:0.8952, precision @rank n:0.8036,execution time: 0.1126s\n",
      "Feature Bagging ROC:0.8933, precision @rank n:0.75,execution time: 0.1818s\n",
      "Histogram-base Outlier Detection (HBOS) ROC:0.5195, precision @rank n:0.3393,execution time: 0.0194s\n",
      "Isolation Forest ROC:0.8309, precision @rank n:0.6607,execution time: 0.6974s\n",
      "K Nearest Neighbors (KNN) ROC:0.9134, precision @rank n:0.8393,execution time: 0.0395s\n",
      "Local Outlier Factor (LOF) ROC:0.8989, precision @rank n:0.75,execution time: 0.0139s\n",
      "Minimum Covariance Determinant (MCD) ROC:0.9399, precision @rank n:0.8571,execution time: 0.1553s\n",
      "One-class SVM (OCSVM) ROC:0.8372, precision @rank n:0.7143,execution time: 0.0103s\n",
      "Principal Component Analysis (PCA) ROC:0.7971, precision @rank n:0.5893,execution time: 0.0754s\n",
      "\n",
      "... Processing letter.mat ...\n",
      "Angle-based Outlier Detector (ABOD) ROC:0.8465, precision @rank n:0.275,execution time: 0.8796s\n",
      "Cluster-based Local Outlier Factor ROC:0.7423, precision @rank n:0.175,execution time: 0.2706s\n",
      "Feature Bagging ROC:0.866, precision @rank n:0.4,execution time: 1.5519s\n",
      "Histogram-base Outlier Detection (HBOS) ROC:0.5728, precision @rank n:0.125,execution time: 0.0215s\n",
      "Isolation Forest ROC:0.5778, precision @rank n:0.05,execution time: 0.9704s\n",
      "K Nearest Neighbors (KNN) ROC:0.845, precision @rank n:0.3,execution time: 0.2785s\n",
      "Local Outlier Factor (LOF) ROC:0.8409, precision @rank n:0.325,execution time: 0.2061s\n",
      "Minimum Covariance Determinant (MCD) ROC:0.7499, precision @rank n:0.075,execution time: 2.3037s\n",
      "One-class SVM (OCSVM) ROC:0.5744, precision @rank n:0.1,execution time: 0.1853s\n",
      "Principal Component Analysis (PCA) ROC:0.48, precision @rank n:0.05,execution time: 0.0147s\n",
      "\n",
      "... Processing lympho.mat ...\n",
      "Angle-based Outlier Detector (ABOD) ROC:0.9382, precision @rank n:0.4,execution time: 0.0653s\n",
      "Cluster-based Local Outlier Factor ROC:0.9709, precision @rank n:0.6,execution time: 0.0813s\n",
      "Feature Bagging ROC:0.9673, precision @rank n:0.6,execution time: 0.0655s\n",
      "Histogram-base Outlier Detection (HBOS) ROC:0.9964, precision @rank n:0.8,execution time: 0.012s\n",
      "Isolation Forest ROC:0.9855, precision @rank n:0.6,execution time: 0.6301s\n",
      "K Nearest Neighbors (KNN) ROC:0.9636, precision @rank n:0.6,execution time: 0.016s\n",
      "Local Outlier Factor (LOF) ROC:0.9636, precision @rank n:0.6,execution time: 0.0015s\n",
      "Minimum Covariance Determinant (MCD) ROC:0.9164, precision @rank n:0.6,execution time: 0.0769s\n",
      "One-class SVM (OCSVM) ROC:0.9636, precision @rank n:0.6,execution time: 0.0035s\n",
      "Principal Component Analysis (PCA) ROC:0.9818, precision @rank n:0.8,execution time: 0.0051s\n",
      "\n",
      "... Processing mnist.mat ...\n"
     ]
    },
    {
     "name": "stderr",
     "output_type": "stream",
     "text": [
      "C:\\Users\\HP\\anaconda3\\lib\\site-packages\\sklearn\\covariance\\_robust_covariance.py:170: RuntimeWarning: Determinant has increased; this should not happen: log(det) > log(previous_det) (-303.881944356529402 > -525.830836350540153). You may want to try with a higher value of support_fraction (current value: 0.614).\n",
      "  RuntimeWarning)\n",
      "C:\\Users\\HP\\anaconda3\\lib\\site-packages\\sklearn\\covariance\\_robust_covariance.py:170: RuntimeWarning: Determinant has increased; this should not happen: log(det) > log(previous_det) (-304.021763033307082 > -523.143378896311901). You may want to try with a higher value of support_fraction (current value: 0.614).\n",
      "  RuntimeWarning)\n",
      "C:\\Users\\HP\\anaconda3\\lib\\site-packages\\sklearn\\covariance\\_robust_covariance.py:170: RuntimeWarning: Determinant has increased; this should not happen: log(det) > log(previous_det) (-338.921775030610604 > -381.672782741425522). You may want to try with a higher value of support_fraction (current value: 0.614).\n",
      "  RuntimeWarning)\n"
     ]
    },
    {
     "name": "stdout",
     "output_type": "stream",
     "text": [
      "Angle-based Outlier Detector (ABOD) ROC:0.7813, precision @rank n:0.3562,execution time: 14.9514s\n",
      "Cluster-based Local Outlier Factor ROC:0.8447, precision @rank n:0.4007,execution time: 2.3043s\n",
      "Feature Bagging ROC:0.7259, precision @rank n:0.3664,execution time: 68.6613s\n",
      "Histogram-base Outlier Detection (HBOS) ROC:0.5675, precision @rank n:0.1199,execution time: 0.0524s\n",
      "Isolation Forest ROC:0.7801, precision @rank n:0.2979,execution time: 2.1405s\n",
      "K Nearest Neighbors (KNN) ROC:0.8409, precision @rank n:0.4144,execution time: 6.6632s\n",
      "Local Outlier Factor (LOF) ROC:0.7085, precision @rank n:0.339,execution time: 6.5764s\n"
     ]
    },
    {
     "name": "stderr",
     "output_type": "stream",
     "text": [
      "C:\\Users\\HP\\anaconda3\\lib\\site-packages\\sklearn\\covariance\\_robust_covariance.py:644: UserWarning: The covariance matrix associated to your dataset is not full rank\n",
      "  warnings.warn(\"The covariance matrix associated to your dataset \"\n"
     ]
    },
    {
     "name": "stdout",
     "output_type": "stream",
     "text": [
      "Minimum Covariance Determinant (MCD) ROC:0.863, precision @rank n:0.3973,execution time: 2.9452s\n",
      "One-class SVM (OCSVM) ROC:0.8417, precision @rank n:0.3801,execution time: 4.7469s\n",
      "Principal Component Analysis (PCA) ROC:0.8396, precision @rank n:0.3767,execution time: 0.2233s\n",
      "\n",
      "... Processing musk.mat ...\n",
      "Angle-based Outlier Detector (ABOD) ROC:0.0809, precision @rank n:0.0333,execution time: 2.3592s\n",
      "Cluster-based Local Outlier Factor ROC:1.0, precision @rank n:1.0,execution time: 0.3529s\n",
      "Feature Bagging ROC:0.5228, precision @rank n:0.1667,execution time: 14.0471s\n",
      "Histogram-base Outlier Detection (HBOS) ROC:0.9999, precision @rank n:0.9667,execution time: 0.0978s\n",
      "Isolation Forest ROC:0.9996, precision @rank n:0.9333,execution time: 1.3118s\n",
      "K Nearest Neighbors (KNN) ROC:0.7348, precision @rank n:0.2333,execution time: 1.8465s\n",
      "Local Outlier Factor (LOF) ROC:0.5323, precision @rank n:0.1333,execution time: 1.7778s\n",
      "Minimum Covariance Determinant (MCD) ROC:1.0, precision @rank n:0.9667,execution time: 11.1432s\n",
      "One-class SVM (OCSVM) ROC:1.0, precision @rank n:1.0,execution time: 1.2931s\n",
      "Principal Component Analysis (PCA) ROC:1.0, precision @rank n:1.0,execution time: 0.163s\n",
      "\n",
      "... Processing optdigits.mat ...\n",
      "Angle-based Outlier Detector (ABOD) ROC:0.4428, precision @rank n:0.0161,execution time: 2.5394s\n",
      "Cluster-based Local Outlier Factor ROC:0.7852, precision @rank n:0.0,execution time: 0.4705s\n",
      "Feature Bagging ROC:0.4641, precision @rank n:0.0484,execution time: 22.715s\n",
      "Histogram-base Outlier Detection (HBOS) ROC:0.8822, precision @rank n:0.2581,execution time: 0.0693s\n",
      "Isolation Forest ROC:0.5764, precision @rank n:0.0161,execution time: 2.1544s\n",
      "K Nearest Neighbors (KNN) ROC:0.3824, precision @rank n:0.0,execution time: 4.0664s\n",
      "Local Outlier Factor (LOF) ROC:0.4584, precision @rank n:0.0484,execution time: 3.6481s\n"
     ]
    },
    {
     "name": "stderr",
     "output_type": "stream",
     "text": [
      "C:\\Users\\HP\\anaconda3\\lib\\site-packages\\sklearn\\covariance\\_robust_covariance.py:644: UserWarning: The covariance matrix associated to your dataset is not full rank\n",
      "  warnings.warn(\"The covariance matrix associated to your dataset \"\n"
     ]
    },
    {
     "name": "stdout",
     "output_type": "stream",
     "text": [
      "Minimum Covariance Determinant (MCD) ROC:0.3486, precision @rank n:0.0,execution time: 2.4473s\n",
      "One-class SVM (OCSVM) ROC:0.4972, precision @rank n:0.0,execution time: 3.1354s\n",
      "Principal Component Analysis (PCA) ROC:0.504, precision @rank n:0.0,execution time: 0.0929s\n",
      "\n",
      "... Processing pendigits.mat ...\n",
      "Angle-based Outlier Detector (ABOD) ROC:0.7008, precision @rank n:0.0308,execution time: 3.7422s\n",
      "Cluster-based Local Outlier Factor ROC:0.9609, precision @rank n:0.3077,execution time: 0.6062s\n",
      "Feature Bagging ROC:0.4687, precision @rank n:0.0462,execution time: 10.4853s\n",
      "Histogram-base Outlier Detection (HBOS) ROC:0.9294, precision @rank n:0.2615,execution time: 0.0234s\n",
      "Isolation Forest ROC:0.9422, precision @rank n:0.2769,execution time: 1.5323s\n",
      "K Nearest Neighbors (KNN) ROC:0.7602, precision @rank n:0.0462,execution time: 1.4373s\n",
      "Local Outlier Factor (LOF) ROC:0.481, precision @rank n:0.0462,execution time: 1.284s\n",
      "Minimum Covariance Determinant (MCD) ROC:0.8271, precision @rank n:0.0615,execution time: 4.3254s\n",
      "One-class SVM (OCSVM) ROC:0.93, precision @rank n:0.2923,execution time: 1.6509s\n",
      "Principal Component Analysis (PCA) ROC:0.9332, precision @rank n:0.3385,execution time: 0.0113s\n",
      "\n",
      "... Processing pima.mat ...\n",
      "Angle-based Outlier Detector (ABOD) ROC:0.6757, precision @rank n:0.5106,execution time: 0.3277s\n",
      "Cluster-based Local Outlier Factor ROC:0.684, precision @rank n:0.4681,execution time: 0.1914s\n",
      "Feature Bagging ROC:0.6446, precision @rank n:0.4468,execution time: 0.1989s\n",
      "Histogram-base Outlier Detection (HBOS) ROC:0.7169, precision @rank n:0.5213,execution time: 0.0092s\n",
      "Isolation Forest ROC:0.6604, precision @rank n:0.4787,execution time: 0.794s\n",
      "K Nearest Neighbors (KNN) ROC:0.7252, precision @rank n:0.5106,execution time: 0.082s\n",
      "Local Outlier Factor (LOF) ROC:0.6604, precision @rank n:0.4787,execution time: 0.0223s\n",
      "Minimum Covariance Determinant (MCD) ROC:0.7047, precision @rank n:0.4787,execution time: 0.121s\n",
      "One-class SVM (OCSVM) ROC:0.6423, precision @rank n:0.4574,execution time: 0.0266s\n",
      "Principal Component Analysis (PCA) ROC:0.6639, precision @rank n:0.5,execution time: 0.0026s\n",
      "\n",
      "... Processing satellite.mat ...\n",
      "Angle-based Outlier Detector (ABOD) ROC:0.5681, precision @rank n:0.3918,execution time: 4.1745s\n",
      "Cluster-based Local Outlier Factor ROC:0.7234, precision @rank n:0.5574,execution time: 0.7307s\n",
      "Feature Bagging ROC:0.557, precision @rank n:0.4051,execution time: 15.5292s\n",
      "Histogram-base Outlier Detection (HBOS) ROC:0.7393, precision @rank n:0.5466,execution time: 0.0357s\n",
      "Isolation Forest ROC:0.6843, precision @rank n:0.5719,execution time: 1.6242s\n",
      "K Nearest Neighbors (KNN) ROC:0.6781, precision @rank n:0.4994,execution time: 2.2268s\n",
      "Local Outlier Factor (LOF) ROC:0.5551, precision @rank n:0.4051,execution time: 2.0513s\n",
      "Minimum Covariance Determinant (MCD) ROC:0.792, precision @rank n:0.6747,execution time: 3.7567s\n",
      "One-class SVM (OCSVM) ROC:0.636, precision @rank n:0.5224,execution time: 2.4543s\n",
      "Principal Component Analysis (PCA) ROC:0.5783, precision @rank n:0.4559,execution time: 0.033s\n",
      "\n",
      "... Processing satimage-2.mat ...\n",
      "Angle-based Outlier Detector (ABOD) ROC:0.86, precision @rank n:0.2593,execution time: 3.5534s\n",
      "Cluster-based Local Outlier Factor ROC:0.9987, precision @rank n:0.8889,execution time: 0.5717s\n",
      "Feature Bagging ROC:0.4971, precision @rank n:0.0741,execution time: 13.2389s\n",
      "Histogram-base Outlier Detection (HBOS) ROC:0.9837, precision @rank n:0.5926,execution time: 0.0392s\n",
      "Isolation Forest ROC:0.9962, precision @rank n:0.8889,execution time: 1.4987s\n",
      "K Nearest Neighbors (KNN) ROC:0.9505, precision @rank n:0.3704,execution time: 1.9078s\n",
      "Local Outlier Factor (LOF) ROC:0.5006, precision @rank n:0.0741,execution time: 1.6823s\n",
      "Minimum Covariance Determinant (MCD) ROC:0.9946, precision @rank n:0.5185,execution time: 4.0969s\n",
      "One-class SVM (OCSVM) ROC:0.9976, precision @rank n:0.9259,execution time: 2.3145s\n",
      "Principal Component Analysis (PCA) ROC:0.9841, precision @rank n:0.8519,execution time: 0.0416s\n",
      "\n",
      "... Processing shuttle.mat ...\n",
      "Angle-based Outlier Detector (ABOD) ROC:0.6186, precision @rank n:0.1918,execution time: 37.5711s\n",
      "Cluster-based Local Outlier Factor ROC:0.6287, precision @rank n:0.2336,execution time: 2.2557s\n",
      "Feature Bagging ROC:0.5211, precision @rank n:0.111,execution time: 114.1313s\n",
      "Histogram-base Outlier Detection (HBOS) ROC:0.9851, precision @rank n:0.9857,execution time: 0.038s\n",
      "Isolation Forest ROC:0.997, precision @rank n:0.9308,execution time: 7.6654s\n",
      "K Nearest Neighbors (KNN) ROC:0.645, precision @rank n:0.2199,execution time: 20.6512s\n",
      "Local Outlier Factor (LOF) ROC:0.5347, precision @rank n:0.1406,execution time: 25.8153s\n"
     ]
    },
    {
     "name": "stderr",
     "output_type": "stream",
     "text": [
      "C:\\Users\\HP\\anaconda3\\lib\\site-packages\\sklearn\\covariance\\_robust_covariance.py:170: RuntimeWarning: Determinant has increased; this should not happen: log(det) > log(previous_det) (-49.541490230701029 > -75.592253998160075). You may want to try with a higher value of support_fraction (current value: 0.503).\n",
      "  RuntimeWarning)\n",
      "C:\\Users\\HP\\anaconda3\\lib\\site-packages\\sklearn\\covariance\\_robust_covariance.py:170: RuntimeWarning: Determinant has increased; this should not happen: log(det) > log(previous_det) (-50.022992269210960 > -76.150022952275933). You may want to try with a higher value of support_fraction (current value: 0.503).\n",
      "  RuntimeWarning)\n",
      "C:\\Users\\HP\\anaconda3\\lib\\site-packages\\sklearn\\covariance\\_robust_covariance.py:170: RuntimeWarning: Determinant has increased; this should not happen: log(det) > log(previous_det) (-48.588090860494539 > -73.997089087121466). You may want to try with a higher value of support_fraction (current value: 0.503).\n",
      "  RuntimeWarning)\n",
      "C:\\Users\\HP\\anaconda3\\lib\\site-packages\\sklearn\\covariance\\_robust_covariance.py:170: RuntimeWarning: Determinant has increased; this should not happen: log(det) > log(previous_det) (-50.127165967938033 > -76.814431864511533). You may want to try with a higher value of support_fraction (current value: 0.501).\n",
      "  RuntimeWarning)\n",
      "C:\\Users\\HP\\anaconda3\\lib\\site-packages\\sklearn\\covariance\\_robust_covariance.py:170: RuntimeWarning: Determinant has increased; this should not happen: log(det) > log(previous_det) (-50.260339163313560 > -77.183008377260506). You may want to try with a higher value of support_fraction (current value: 0.501).\n",
      "  RuntimeWarning)\n",
      "C:\\Users\\HP\\anaconda3\\lib\\site-packages\\sklearn\\covariance\\_robust_covariance.py:170: RuntimeWarning: Determinant has increased; this should not happen: log(det) > log(previous_det) (-50.088727288180451 > -75.865165747812611). You may want to try with a higher value of support_fraction (current value: 0.501).\n",
      "  RuntimeWarning)\n",
      "C:\\Users\\HP\\anaconda3\\lib\\site-packages\\sklearn\\covariance\\_robust_covariance.py:170: RuntimeWarning: Determinant has increased; this should not happen: log(det) > log(previous_det) (-50.582785491594258 > -76.611820576922298). You may want to try with a higher value of support_fraction (current value: 0.501).\n",
      "  RuntimeWarning)\n",
      "C:\\Users\\HP\\anaconda3\\lib\\site-packages\\sklearn\\covariance\\_robust_covariance.py:170: RuntimeWarning: Determinant has increased; this should not happen: log(det) > log(previous_det) (-50.000544286938101 > -76.202702178617812). You may want to try with a higher value of support_fraction (current value: 0.501).\n",
      "  RuntimeWarning)\n",
      "C:\\Users\\HP\\anaconda3\\lib\\site-packages\\sklearn\\covariance\\_robust_covariance.py:170: RuntimeWarning: Determinant has increased; this should not happen: log(det) > log(previous_det) (-50.556584528453953 > -77.098667780846995). You may want to try with a higher value of support_fraction (current value: 0.501).\n",
      "  RuntimeWarning)\n",
      "C:\\Users\\HP\\anaconda3\\lib\\site-packages\\sklearn\\covariance\\_robust_covariance.py:170: RuntimeWarning: Determinant has increased; this should not happen: log(det) > log(previous_det) (-50.240104267009002 > -75.051128375205053). You may want to try with a higher value of support_fraction (current value: 0.501).\n",
      "  RuntimeWarning)\n",
      "C:\\Users\\HP\\anaconda3\\lib\\site-packages\\sklearn\\covariance\\_robust_covariance.py:170: RuntimeWarning: Determinant has increased; this should not happen: log(det) > log(previous_det) (-49.250211305123095 > -75.269917048873594). You may want to try with a higher value of support_fraction (current value: 0.501).\n",
      "  RuntimeWarning)\n",
      "C:\\Users\\HP\\anaconda3\\lib\\site-packages\\sklearn\\covariance\\_robust_covariance.py:170: RuntimeWarning: Determinant has increased; this should not happen: log(det) > log(previous_det) (-49.909548626708364 > -77.316510535945554). You may want to try with a higher value of support_fraction (current value: 0.501).\n",
      "  RuntimeWarning)\n",
      "C:\\Users\\HP\\anaconda3\\lib\\site-packages\\sklearn\\covariance\\_robust_covariance.py:170: RuntimeWarning: Determinant has increased; this should not happen: log(det) > log(previous_det) (-50.891326544720059 > -75.752323826887846). You may want to try with a higher value of support_fraction (current value: 0.501).\n",
      "  RuntimeWarning)\n",
      "C:\\Users\\HP\\anaconda3\\lib\\site-packages\\sklearn\\covariance\\_robust_covariance.py:170: RuntimeWarning: Determinant has increased; this should not happen: log(det) > log(previous_det) (-49.859327893628439 > -75.506059781784089). You may want to try with a higher value of support_fraction (current value: 0.501).\n",
      "  RuntimeWarning)\n",
      "C:\\Users\\HP\\anaconda3\\lib\\site-packages\\sklearn\\covariance\\_robust_covariance.py:170: RuntimeWarning: Determinant has increased; this should not happen: log(det) > log(previous_det) (-49.586488761882819 > -75.469733773072221). You may want to try with a higher value of support_fraction (current value: 0.501).\n",
      "  RuntimeWarning)\n",
      "C:\\Users\\HP\\anaconda3\\lib\\site-packages\\sklearn\\covariance\\_robust_covariance.py:170: RuntimeWarning: Determinant has increased; this should not happen: log(det) > log(previous_det) (-50.101075588075524 > -76.262519209035275). You may want to try with a higher value of support_fraction (current value: 0.501).\n",
      "  RuntimeWarning)\n",
      "C:\\Users\\HP\\anaconda3\\lib\\site-packages\\sklearn\\covariance\\_robust_covariance.py:170: RuntimeWarning: Determinant has increased; this should not happen: log(det) > log(previous_det) (-50.312636661667774 > -76.827897355973249). You may want to try with a higher value of support_fraction (current value: 0.501).\n",
      "  RuntimeWarning)\n",
      "C:\\Users\\HP\\anaconda3\\lib\\site-packages\\sklearn\\covariance\\_robust_covariance.py:170: RuntimeWarning: Determinant has increased; this should not happen: log(det) > log(previous_det) (-50.250066970764166 > -78.448260993170479). You may want to try with a higher value of support_fraction (current value: 0.501).\n",
      "  RuntimeWarning)\n",
      "C:\\Users\\HP\\anaconda3\\lib\\site-packages\\sklearn\\covariance\\_robust_covariance.py:170: RuntimeWarning: Determinant has increased; this should not happen: log(det) > log(previous_det) (-49.555505358476601 > -76.383177602584297). You may want to try with a higher value of support_fraction (current value: 0.501).\n",
      "  RuntimeWarning)\n",
      "C:\\Users\\HP\\anaconda3\\lib\\site-packages\\sklearn\\covariance\\_robust_covariance.py:170: RuntimeWarning: Determinant has increased; this should not happen: log(det) > log(previous_det) (-49.428222337190036 > -77.657757837885939). You may want to try with a higher value of support_fraction (current value: 0.501).\n",
      "  RuntimeWarning)\n",
      "C:\\Users\\HP\\anaconda3\\lib\\site-packages\\sklearn\\covariance\\_robust_covariance.py:170: RuntimeWarning: Determinant has increased; this should not happen: log(det) > log(previous_det) (-50.312868452035886 > -78.275586981066255). You may want to try with a higher value of support_fraction (current value: 0.501).\n",
      "  RuntimeWarning)\n",
      "C:\\Users\\HP\\anaconda3\\lib\\site-packages\\sklearn\\covariance\\_robust_covariance.py:170: RuntimeWarning: Determinant has increased; this should not happen: log(det) > log(previous_det) (-50.764724066883446 > -77.282352110428548). You may want to try with a higher value of support_fraction (current value: 0.501).\n",
      "  RuntimeWarning)\n",
      "C:\\Users\\HP\\anaconda3\\lib\\site-packages\\sklearn\\covariance\\_robust_covariance.py:170: RuntimeWarning: Determinant has increased; this should not happen: log(det) > log(previous_det) (-49.672481809425953 > -75.780064170775518). You may want to try with a higher value of support_fraction (current value: 0.501).\n",
      "  RuntimeWarning)\n",
      "C:\\Users\\HP\\anaconda3\\lib\\site-packages\\sklearn\\covariance\\_robust_covariance.py:170: RuntimeWarning: Determinant has increased; this should not happen: log(det) > log(previous_det) (-48.810409699568289 > -116.332661175263610). You may want to try with a higher value of support_fraction (current value: 0.501).\n",
      "  RuntimeWarning)\n",
      "C:\\Users\\HP\\anaconda3\\lib\\site-packages\\sklearn\\covariance\\_robust_covariance.py:170: RuntimeWarning: Determinant has increased; this should not happen: log(det) > log(previous_det) (-50.246740593074648 > -75.373826826201935). You may want to try with a higher value of support_fraction (current value: 0.501).\n",
      "  RuntimeWarning)\n",
      "C:\\Users\\HP\\anaconda3\\lib\\site-packages\\sklearn\\covariance\\_robust_covariance.py:170: RuntimeWarning: Determinant has increased; this should not happen: log(det) > log(previous_det) (-50.256978425484292 > -76.476983289741440). You may want to try with a higher value of support_fraction (current value: 0.501).\n",
      "  RuntimeWarning)\n"
     ]
    },
    {
     "name": "stderr",
     "output_type": "stream",
     "text": [
      "C:\\Users\\HP\\anaconda3\\lib\\site-packages\\sklearn\\covariance\\_robust_covariance.py:170: RuntimeWarning: Determinant has increased; this should not happen: log(det) > log(previous_det) (-50.288199308055468 > -75.990589261846011). You may want to try with a higher value of support_fraction (current value: 0.501).\n",
      "  RuntimeWarning)\n",
      "C:\\Users\\HP\\anaconda3\\lib\\site-packages\\sklearn\\covariance\\_robust_covariance.py:170: RuntimeWarning: Determinant has increased; this should not happen: log(det) > log(previous_det) (-50.329968951469141 > -77.419260242705974). You may want to try with a higher value of support_fraction (current value: 0.501).\n",
      "  RuntimeWarning)\n",
      "C:\\Users\\HP\\anaconda3\\lib\\site-packages\\sklearn\\covariance\\_robust_covariance.py:170: RuntimeWarning: Determinant has increased; this should not happen: log(det) > log(previous_det) (-50.221834205302052 > -78.090864446968652). You may want to try with a higher value of support_fraction (current value: 0.501).\n",
      "  RuntimeWarning)\n",
      "C:\\Users\\HP\\anaconda3\\lib\\site-packages\\sklearn\\covariance\\_robust_covariance.py:170: RuntimeWarning: Determinant has increased; this should not happen: log(det) > log(previous_det) (-49.289029393101089 > -75.757556561107862). You may want to try with a higher value of support_fraction (current value: 0.501).\n",
      "  RuntimeWarning)\n",
      "C:\\Users\\HP\\anaconda3\\lib\\site-packages\\sklearn\\covariance\\_robust_covariance.py:170: RuntimeWarning: Determinant has increased; this should not happen: log(det) > log(previous_det) (-49.385618505522793 > -77.171277510572310). You may want to try with a higher value of support_fraction (current value: 0.501).\n",
      "  RuntimeWarning)\n",
      "C:\\Users\\HP\\anaconda3\\lib\\site-packages\\sklearn\\covariance\\_robust_covariance.py:170: RuntimeWarning: Determinant has increased; this should not happen: log(det) > log(previous_det) (-50.209250265997660 > -76.818840276676667). You may want to try with a higher value of support_fraction (current value: 0.501).\n",
      "  RuntimeWarning)\n",
      "C:\\Users\\HP\\anaconda3\\lib\\site-packages\\sklearn\\covariance\\_robust_covariance.py:170: RuntimeWarning: Determinant has increased; this should not happen: log(det) > log(previous_det) (-50.362224422506152 > -76.716480514242747). You may want to try with a higher value of support_fraction (current value: 0.501).\n",
      "  RuntimeWarning)\n",
      "C:\\Users\\HP\\anaconda3\\lib\\site-packages\\sklearn\\covariance\\_robust_covariance.py:170: RuntimeWarning: Determinant has increased; this should not happen: log(det) > log(previous_det) (-50.173137659451463 > -75.808458672225186). You may want to try with a higher value of support_fraction (current value: 0.501).\n",
      "  RuntimeWarning)\n",
      "C:\\Users\\HP\\anaconda3\\lib\\site-packages\\sklearn\\covariance\\_robust_covariance.py:170: RuntimeWarning: Determinant has increased; this should not happen: log(det) > log(previous_det) (-50.294483190145293 > -76.390291443926770). You may want to try with a higher value of support_fraction (current value: 0.501).\n",
      "  RuntimeWarning)\n",
      "C:\\Users\\HP\\anaconda3\\lib\\site-packages\\sklearn\\covariance\\_robust_covariance.py:170: RuntimeWarning: Determinant has increased; this should not happen: log(det) > log(previous_det) (-50.208972773367584 > -75.741530995676783). You may want to try with a higher value of support_fraction (current value: 0.501).\n",
      "  RuntimeWarning)\n",
      "C:\\Users\\HP\\anaconda3\\lib\\site-packages\\sklearn\\covariance\\_robust_covariance.py:170: RuntimeWarning: Determinant has increased; this should not happen: log(det) > log(previous_det) (-50.378081918546030 > -76.605948395137275). You may want to try with a higher value of support_fraction (current value: 0.501).\n",
      "  RuntimeWarning)\n",
      "C:\\Users\\HP\\anaconda3\\lib\\site-packages\\sklearn\\covariance\\_robust_covariance.py:170: RuntimeWarning: Determinant has increased; this should not happen: log(det) > log(previous_det) (-50.916820128958108 > -76.552623764140179). You may want to try with a higher value of support_fraction (current value: 0.501).\n",
      "  RuntimeWarning)\n",
      "C:\\Users\\HP\\anaconda3\\lib\\site-packages\\sklearn\\covariance\\_robust_covariance.py:170: RuntimeWarning: Determinant has increased; this should not happen: log(det) > log(previous_det) (-50.077545968806284 > -75.696921172394283). You may want to try with a higher value of support_fraction (current value: 0.501).\n",
      "  RuntimeWarning)\n",
      "C:\\Users\\HP\\anaconda3\\lib\\site-packages\\sklearn\\covariance\\_robust_covariance.py:170: RuntimeWarning: Determinant has increased; this should not happen: log(det) > log(previous_det) (-50.436632051329951 > -76.438541656063492). You may want to try with a higher value of support_fraction (current value: 0.501).\n",
      "  RuntimeWarning)\n",
      "C:\\Users\\HP\\anaconda3\\lib\\site-packages\\sklearn\\covariance\\_robust_covariance.py:170: RuntimeWarning: Determinant has increased; this should not happen: log(det) > log(previous_det) (-50.734734341696203 > -76.521728710156154). You may want to try with a higher value of support_fraction (current value: 0.501).\n",
      "  RuntimeWarning)\n",
      "C:\\Users\\HP\\anaconda3\\lib\\site-packages\\sklearn\\covariance\\_robust_covariance.py:170: RuntimeWarning: Determinant has increased; this should not happen: log(det) > log(previous_det) (-51.027942813065295 > -77.260538598709132). You may want to try with a higher value of support_fraction (current value: 0.501).\n",
      "  RuntimeWarning)\n",
      "C:\\Users\\HP\\anaconda3\\lib\\site-packages\\sklearn\\covariance\\_robust_covariance.py:170: RuntimeWarning: Determinant has increased; this should not happen: log(det) > log(previous_det) (-51.132819510101456 > -80.575229534353539). You may want to try with a higher value of support_fraction (current value: 0.501).\n",
      "  RuntimeWarning)\n",
      "C:\\Users\\HP\\anaconda3\\lib\\site-packages\\sklearn\\covariance\\_robust_covariance.py:170: RuntimeWarning: Determinant has increased; this should not happen: log(det) > log(previous_det) (-50.826679532509623 > -77.642101236679707). You may want to try with a higher value of support_fraction (current value: 0.501).\n",
      "  RuntimeWarning)\n"
     ]
    },
    {
     "name": "stdout",
     "output_type": "stream",
     "text": [
      "Minimum Covariance Determinant (MCD) ROC:0.9903, precision @rank n:0.7534,execution time: 24.2093s\n",
      "One-class SVM (OCSVM) ROC:0.9922, precision @rank n:0.9553,execution time: 95.9656s\n",
      "Principal Component Analysis (PCA) ROC:0.9902, precision @rank n:0.9503,execution time: 0.0725s\n",
      "\n",
      "... Processing vertebral.mat ...\n",
      "Angle-based Outlier Detector (ABOD) ROC:0.2797, precision @rank n:0.0,execution time: 0.1257s\n",
      "Cluster-based Local Outlier Factor ROC:0.3908, precision @rank n:0.0,execution time: 0.1046s\n",
      "Feature Bagging ROC:0.3027, precision @rank n:0.0,execution time: 0.0753s\n",
      "Histogram-base Outlier Detection (HBOS) ROC:0.2695, precision @rank n:0.0,execution time: 0.0053s\n",
      "Isolation Forest ROC:0.3576, precision @rank n:0.0,execution time: 0.6297s\n",
      "K Nearest Neighbors (KNN) ROC:0.318, precision @rank n:0.0,execution time: 0.0239s\n",
      "Local Outlier Factor (LOF) ROC:0.318, precision @rank n:0.0,execution time: 0.0065s\n",
      "Minimum Covariance Determinant (MCD) ROC:0.3308, precision @rank n:0.0,execution time: 0.1399s\n",
      "One-class SVM (OCSVM) ROC:0.4087, precision @rank n:0.0,execution time: 0.0039s\n",
      "Principal Component Analysis (PCA) ROC:0.3397, precision @rank n:0.0,execution time: 0.0083s\n",
      "\n",
      "... Processing vowels.mat ...\n",
      "Angle-based Outlier Detector (ABOD) ROC:0.9521, precision @rank n:0.4706,execution time: 0.656s\n",
      "Cluster-based Local Outlier Factor ROC:0.9278, precision @rank n:0.4118,execution time: 0.2189s\n",
      "Feature Bagging ROC:0.9385, precision @rank n:0.3529,execution time: 0.6298s\n",
      "Histogram-base Outlier Detection (HBOS) ROC:0.6758, precision @rank n:0.1765,execution time: 0.0132s\n",
      "Isolation Forest ROC:0.6933, precision @rank n:0.1765,execution time: 0.8123s\n",
      "K Nearest Neighbors (KNN) ROC:0.9568, precision @rank n:0.5294,execution time: 0.1668s\n",
      "Local Outlier Factor (LOF) ROC:0.9345, precision @rank n:0.4118,execution time: 0.0667s\n",
      "Minimum Covariance Determinant (MCD) ROC:0.6779, precision @rank n:0.0,execution time: 1.6621s\n",
      "One-class SVM (OCSVM) ROC:0.7415, precision @rank n:0.2941,execution time: 0.1023s\n",
      "Principal Component Analysis (PCA) ROC:0.5787, precision @rank n:0.1176,execution time: 0.003s\n",
      "\n",
      "... Processing wbc.mat ...\n",
      "Angle-based Outlier Detector (ABOD) ROC:0.9232, precision @rank n:0.3,execution time: 0.1892s\n",
      "Cluster-based Local Outlier Factor ROC:0.9063, precision @rank n:0.6,execution time: 0.1267s\n",
      "Feature Bagging ROC:0.9415, precision @rank n:0.5,execution time: 0.1954s\n",
      "Histogram-base Outlier Detection (HBOS) ROC:0.9592, precision @rank n:0.7,execution time: 0.0192s\n",
      "Isolation Forest ROC:0.9451, precision @rank n:0.5,execution time: 0.6603s\n",
      "K Nearest Neighbors (KNN) ROC:0.9437, precision @rank n:0.5,execution time: 0.0438s\n",
      "Local Outlier Factor (LOF) ROC:0.9352, precision @rank n:0.4,execution time: 0.0141s\n",
      "Minimum Covariance Determinant (MCD) ROC:0.8986, precision @rank n:0.4,execution time: 0.1339s\n",
      "One-class SVM (OCSVM) ROC:0.9408, precision @rank n:0.5,execution time: 0.0175s\n",
      "Principal Component Analysis (PCA) ROC:0.9324, precision @rank n:0.6,execution time: 0.0038s\n"
     ]
    }
   ],
   "source": [
    "from time import time\n",
    "random_state = np.random.RandomState(42)\n",
    "\n",
    "for mat_file in mat_file_list:\n",
    "    print(\"\\n... Processing\",mat_file, '...')\n",
    "    mat = loadmat(os.path.join('data',mat_file))\n",
    "    \n",
    "    X = mat['X']\n",
    "    y = mat['y'].ravel()\n",
    "    outliers_fraction = np.count_nonzero(y)/len(y)\n",
    "    outliers_percentage = round(outliers_fraction * 100,ndigits=4)\n",
    "    \n",
    "    # contruct containers for saving results\n",
    "    roc_list = [mat_file[:-4], X.shape[0], X.shape[1], outliers_percentage]\n",
    "    prn_list = [mat_file[:-4], X.shape[0], X.shape[1], outliers_percentage]\n",
    "    time_list = [mat_file[:-4], X.shape[0], X.shape[1], outliers_percentage]\n",
    "    \n",
    "    # 60% data for training and 40% for testing\n",
    "    X_train,X_test,y_train,y_test = train_test_split(X,y,test_size=0.4,random_state=random_state)\n",
    "    \n",
    "    # standardizing data for processing\n",
    "    X_train_norm,X_test_norm = standardizer(X_train,X_test)\n",
    "    \n",
    "    classifier = {'Angle-based Outlier Detector (ABOD)': ABOD(contamination=outliers_fraction),\n",
    "                  'Cluster-based Local Outlier Factor':CBLOF(contamination=outliers_fraction, check_estimator=False,random_state=random_state),\n",
    "                 'Feature Bagging': FeatureBagging(contamination=outliers_fraction,random_state=random_state),\n",
    "                 'Histogram-base Outlier Detection (HBOS)': HBOS(contamination=outliers_fraction),\n",
    "                 'Isolation Forest': IForest(contamination=outliers_fraction,random_state=random_state),\n",
    "                 'K Nearest Neighbors (KNN)':KNN(contamination=outliers_fraction),\n",
    "                 'Local Outlier Factor (LOF)': LOF(contamination=outliers_fraction),\n",
    "                 'Minimum Covariance Determinant (MCD)': MCD(contamination=outliers_fraction, random_state=random_state),\n",
    "                 'One-class SVM (OCSVM)': OCSVM(contamination=outliers_fraction),\n",
    "                 'Principal Component Analysis (PCA)': PCA(contamination=outliers_fraction, random_state=random_state),\n",
    "                 }\n",
    "    for clf_name,clf in classifier.items():\n",
    "        t0 = time()\n",
    "        clf.fit(X_train_norm)\n",
    "        test_scores = clf.decision_function(X_test_norm)\n",
    "        t1 = time()\n",
    "        duration = round(t1-t0,ndigits=4)\n",
    "        time_list.append(duration)\n",
    "        \n",
    "        roc = round(roc_auc_score(y_test,test_scores),ndigits=4)\n",
    "        prn = round(precision_n_scores(y_test,test_scores), ndigits=4)\n",
    "        \n",
    "        print('{clf_name} ROC:{roc}, precision @rank n:{prn},'\n",
    "              'execution time: {duration}s'.format(clf_name = clf_name, roc=roc, prn=prn, duration=duration))\n",
    "        \n",
    "        roc_list.append(roc)\n",
    "        prn_list.append(prn)\n",
    "        \n",
    "    temp_df = pd.DataFrame(time_list).transpose()\n",
    "    temp_df.columns = df_columns\n",
    "    time_df = pd.concat([time_df, temp_df],axis=0)\n",
    "    \n",
    "    temp_df = pd.DataFrame(roc_list).transpose()\n",
    "    temp_df.columns = df_columns\n",
    "    time_df = pd.concat([roc_df, temp_df],axis=0)\n",
    "    \n",
    "    temp_df = pd.DataFrame(prn_list).transpose()\n",
    "    temp_df.columns = df_columns\n",
    "    time_df = pd.concat([prn_df, temp_df],axis=0)"
   ]
  }
 ],
 "metadata": {
  "kernelspec": {
   "display_name": "Python 3",
   "language": "python",
   "name": "python3"
  },
  "language_info": {
   "codemirror_mode": {
    "name": "ipython",
    "version": 3
   },
   "file_extension": ".py",
   "mimetype": "text/x-python",
   "name": "python",
   "nbconvert_exporter": "python",
   "pygments_lexer": "ipython3",
   "version": "3.7.6"
  }
 },
 "nbformat": 4,
 "nbformat_minor": 4
}
